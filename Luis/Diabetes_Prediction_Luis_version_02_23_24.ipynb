{
  "nbformat": 4,
  "nbformat_minor": 0,
  "metadata": {
    "colab": {
      "provenance": []
    },
    "kernelspec": {
      "name": "python3",
      "display_name": "Python 3"
    }
  },
  "cells": [
    {
      "cell_type": "markdown",
      "metadata": {
        "id": "Snq4iq_JOB4T"
      },
      "source": [
        "# PART 1 : Install Dependencies & Run Spark Session"
      ]
    },
    {
      "cell_type": "code",
      "metadata": {
        "id": "NpCRBcqtN5lH",
        "colab": {
          "base_uri": "https://localhost:8080/"
        },
        "outputId": "8022281d-3a56-4019-a962-b73e4dce0bad"
      },
      "source": [
        "#install pyspark\n",
        "! pip install pyspark\n",
        "\n",
        "import pyspark\n",
        "from pyspark.ml.classification import LogisticRegression\n",
        "\n",
        "from pyspark.sql.functions import when, col"
      ],
      "execution_count": 130,
      "outputs": [
        {
          "output_type": "stream",
          "name": "stdout",
          "text": [
            "Requirement already satisfied: pyspark in /usr/local/lib/python3.10/dist-packages (3.5.0)\n",
            "Requirement already satisfied: py4j==0.10.9.7 in /usr/local/lib/python3.10/dist-packages (from pyspark) (0.10.9.7)\n"
          ]
        }
      ]
    },
    {
      "cell_type": "code",
      "metadata": {
        "id": "GNZoOuDqOdxX"
      },
      "source": [
        "#create a sparksession\n",
        "from pyspark.sql import SparkSession\n",
        "spark = SparkSession.builder.appName(\"spark\").getOrCreate()"
      ],
      "execution_count": 131,
      "outputs": []
    },
    {
      "cell_type": "markdown",
      "metadata": {
        "id": "5sG3MLXlOews"
      },
      "source": [
        "# PART 2: Clone & Explore dataset"
      ]
    },
    {
      "cell_type": "code",
      "metadata": {
        "id": "-Uh5H7_KOoSL",
        "colab": {
          "base_uri": "https://localhost:8080/"
        },
        "outputId": "4a8577b4-6bc0-4f17-a7f9-f01451cfa739"
      },
      "source": [
        "#clone the diabetes dataset from the github repository\n",
        "# if you get error saying \"Project-4 directory already exists, move to next cell\"\n",
        "! git clone https://github.com/elluis1001/Project-4/"
      ],
      "execution_count": 132,
      "outputs": [
        {
          "output_type": "stream",
          "name": "stdout",
          "text": [
            "fatal: destination path 'Project-4' already exists and is not an empty directory.\n"
          ]
        }
      ]
    },
    {
      "cell_type": "code",
      "metadata": {
        "id": "VcqwJRxVOutr",
        "colab": {
          "base_uri": "https://localhost:8080/"
        },
        "outputId": "8027caa8-a7e0-4cae-b78a-1e200ac7fb79"
      },
      "source": [
        "#check if the dataset exists\n",
        "! ls /content/Project-4/Luis/Dataset/"
      ],
      "execution_count": 133,
      "outputs": [
        {
          "output_type": "stream",
          "name": "stdout",
          "text": [
            "diabetes_prediction_dataset.csv\n"
          ]
        }
      ]
    },
    {
      "cell_type": "code",
      "metadata": {
        "id": "ST1rFFOlOu8s"
      },
      "source": [
        "#create spark dataframe\n",
        "df_diabetes_data = spark.read.csv(\"/content/Project-4/Luis/Dataset/diabetes_prediction_dataset.csv\", header=True, inferSchema=True)"
      ],
      "execution_count": 134,
      "outputs": []
    },
    {
      "cell_type": "code",
      "metadata": {
        "id": "IiJm-pmROvKd",
        "colab": {
          "base_uri": "https://localhost:8080/"
        },
        "outputId": "8e329ef1-8593-4200-f995-d3eb4a307dd0"
      },
      "source": [
        "#display the dataframe\n",
        "df_diabetes_data.show()"
      ],
      "execution_count": 135,
      "outputs": [
        {
          "output_type": "stream",
          "name": "stdout",
          "text": [
            "+------+----+------------+-------------+---------------+-----+-----------+-------------------+--------+\n",
            "|gender| age|hypertension|heart_disease|smoking_history|  bmi|HbA1c_level|blood_glucose_level|diabetes|\n",
            "+------+----+------------+-------------+---------------+-----+-----------+-------------------+--------+\n",
            "|Female|80.0|           0|            1|          never|25.19|        6.6|                140|       0|\n",
            "|Female|54.0|           0|            0|        No Info|27.32|        6.6|                 80|       0|\n",
            "|  Male|28.0|           0|            0|          never|27.32|        5.7|                158|       0|\n",
            "|Female|36.0|           0|            0|        current|23.45|        5.0|                155|       0|\n",
            "|  Male|76.0|           1|            1|        current|20.14|        4.8|                155|       0|\n",
            "|Female|20.0|           0|            0|          never|27.32|        6.6|                 85|       0|\n",
            "|Female|44.0|           0|            0|          never|19.31|        6.5|                200|       1|\n",
            "|Female|79.0|           0|            0|        No Info|23.86|        5.7|                 85|       0|\n",
            "|  Male|42.0|           0|            0|          never|33.64|        4.8|                145|       0|\n",
            "|Female|32.0|           0|            0|          never|27.32|        5.0|                100|       0|\n",
            "|Female|53.0|           0|            0|          never|27.32|        6.1|                 85|       0|\n",
            "|Female|54.0|           0|            0|         former| 54.7|        6.0|                100|       0|\n",
            "|Female|78.0|           0|            0|         former|36.05|        5.0|                130|       0|\n",
            "|Female|67.0|           0|            0|          never|25.69|        5.8|                200|       0|\n",
            "|Female|76.0|           0|            0|        No Info|27.32|        5.0|                160|       0|\n",
            "|  Male|78.0|           0|            0|        No Info|27.32|        6.6|                126|       0|\n",
            "|  Male|15.0|           0|            0|          never|30.36|        6.1|                200|       0|\n",
            "|Female|42.0|           0|            0|          never|24.48|        5.7|                158|       0|\n",
            "|Female|42.0|           0|            0|        No Info|27.32|        5.7|                 80|       0|\n",
            "|  Male|37.0|           0|            0|           ever|25.72|        3.5|                159|       0|\n",
            "+------+----+------------+-------------+---------------+-----+-----------+-------------------+--------+\n",
            "only showing top 20 rows\n",
            "\n"
          ]
        }
      ]
    },
    {
      "cell_type": "code",
      "source": [
        "#show amount of rows\n",
        "df_diabetes_data.count()"
      ],
      "metadata": {
        "colab": {
          "base_uri": "https://localhost:8080/"
        },
        "id": "MKF7kv1AI2pw",
        "outputId": "fbe4c0ba-214c-448e-ecdc-c7fff2738681"
      },
      "execution_count": 136,
      "outputs": [
        {
          "output_type": "execute_result",
          "data": {
            "text/plain": [
              "100000"
            ]
          },
          "metadata": {},
          "execution_count": 136
        }
      ]
    },
    {
      "cell_type": "code",
      "metadata": {
        "id": "Ulqkuz8aOvV6",
        "colab": {
          "base_uri": "https://localhost:8080/"
        },
        "outputId": "1aa4d24d-638d-4094-e193-438d519adf3f"
      },
      "source": [
        "#print the schema\n",
        "df_diabetes_data.printSchema()"
      ],
      "execution_count": 137,
      "outputs": [
        {
          "output_type": "stream",
          "name": "stdout",
          "text": [
            "root\n",
            " |-- gender: string (nullable = true)\n",
            " |-- age: double (nullable = true)\n",
            " |-- hypertension: integer (nullable = true)\n",
            " |-- heart_disease: integer (nullable = true)\n",
            " |-- smoking_history: string (nullable = true)\n",
            " |-- bmi: double (nullable = true)\n",
            " |-- HbA1c_level: double (nullable = true)\n",
            " |-- blood_glucose_level: integer (nullable = true)\n",
            " |-- diabetes: integer (nullable = true)\n",
            "\n"
          ]
        }
      ]
    },
    {
      "cell_type": "code",
      "metadata": {
        "id": "kpZlF2S2Ovgw",
        "colab": {
          "base_uri": "https://localhost:8080/"
        },
        "outputId": "78e7c334-dc2e-4a99-9f5a-0de022f6025e"
      },
      "source": [
        "#count the total no. of diabetic and non-diabetic class (values of 1 indicating the presence of diabetes and 0 indicating the absence of diabetes)\n",
        "print((df_diabetes_data.count(), len(df_diabetes_data.columns)))\n",
        "df_diabetes_data.groupBy('diabetes').count().show()"
      ],
      "execution_count": 138,
      "outputs": [
        {
          "output_type": "stream",
          "name": "stdout",
          "text": [
            "(100000, 9)\n",
            "+--------+-----+\n",
            "|diabetes|count|\n",
            "+--------+-----+\n",
            "|       1| 8500|\n",
            "|       0|91500|\n",
            "+--------+-----+\n",
            "\n"
          ]
        }
      ]
    },
    {
      "cell_type": "code",
      "source": [
        "#count the total no. of gender types\n",
        "print((df_diabetes_data.count(), len(df_diabetes_data.columns)))\n",
        "df_diabetes_data.groupBy('gender').count().show()"
      ],
      "metadata": {
        "colab": {
          "base_uri": "https://localhost:8080/"
        },
        "id": "3f2sAuuh9iY7",
        "outputId": "7a3fab4e-55e3-4ba8-d057-20ff05a2da00"
      },
      "execution_count": 139,
      "outputs": [
        {
          "output_type": "stream",
          "name": "stdout",
          "text": [
            "(100000, 9)\n",
            "+------+-----+\n",
            "|gender|count|\n",
            "+------+-----+\n",
            "|Female|58552|\n",
            "| Other|   18|\n",
            "|  Male|41430|\n",
            "+------+-----+\n",
            "\n"
          ]
        }
      ]
    },
    {
      "cell_type": "code",
      "source": [
        "#check to see if there are any empty values in the 'gender' column\n",
        "df_diabetes_data[df_diabetes_data['gender'] == '']"
      ],
      "metadata": {
        "colab": {
          "base_uri": "https://localhost:8080/"
        },
        "id": "muPOXP7dF2Jl",
        "outputId": "288c84d3-1b20-40cb-b69f-95a0019a369c"
      },
      "execution_count": 140,
      "outputs": [
        {
          "output_type": "execute_result",
          "data": {
            "text/plain": [
              "DataFrame[gender: string, age: double, hypertension: int, heart_disease: int, smoking_history: string, bmi: double, HbA1c_level: double, blood_glucose_level: int, diabetes: int]"
            ]
          },
          "metadata": {},
          "execution_count": 140
        }
      ]
    },
    {
      "cell_type": "code",
      "metadata": {
        "id": "NewCNZEMOvtM",
        "colab": {
          "base_uri": "https://localhost:8080/"
        },
        "outputId": "5e0f7397-dbd1-4f9e-8097-ce79e7b4f50b"
      },
      "source": [
        "#get the summary statistics\n",
        "df_diabetes_data.describe().show()"
      ],
      "execution_count": 141,
      "outputs": [
        {
          "output_type": "stream",
          "name": "stdout",
          "text": [
            "+-------+------+-----------------+------------------+------------------+---------------+-----------------+------------------+-------------------+-------------------+\n",
            "|summary|gender|              age|      hypertension|     heart_disease|smoking_history|              bmi|       HbA1c_level|blood_glucose_level|           diabetes|\n",
            "+-------+------+-----------------+------------------+------------------+---------------+-----------------+------------------+-------------------+-------------------+\n",
            "|  count|100000|           100000|            100000|            100000|         100000|           100000|            100000|             100000|             100000|\n",
            "|   mean|  NULL|41.88585600000013|           0.07485|           0.03942|           NULL|27.32076709999422|5.5275069999983275|          138.05806|              0.085|\n",
            "| stddev|  NULL|22.51683987161704|0.2631504702289171|0.1945930169980986|           NULL|6.636783416648357|1.0706720918835468|  40.70813604870383|0.27888308976661896|\n",
            "|    min|Female|             0.08|                 0|                 0|        No Info|            10.01|               3.5|                 80|                  0|\n",
            "|    max| Other|             80.0|                 1|                 1|    not current|            95.69|               9.0|                300|                  1|\n",
            "+-------+------+-----------------+------------------+------------------+---------------+-----------------+------------------+-------------------+-------------------+\n",
            "\n"
          ]
        }
      ]
    },
    {
      "cell_type": "markdown",
      "metadata": {
        "id": "gZerPOR-OyjQ"
      },
      "source": [
        "# PART 3: Data Cleaning & Preparation"
      ]
    },
    {
      "cell_type": "code",
      "metadata": {
        "id": "Q-KkJvV_PFFU",
        "colab": {
          "base_uri": "https://localhost:8080/"
        },
        "outputId": "2415334d-7b19-4515-aad9-6db0d6db0f86"
      },
      "source": [
        "#check for null values\n",
        "for col in df_diabetes_data.columns:\n",
        "  print(col + \":\", df_diabetes_data[df_diabetes_data[col].isNull()].count())"
      ],
      "execution_count": 142,
      "outputs": [
        {
          "output_type": "stream",
          "name": "stdout",
          "text": [
            "gender: 0\n",
            "age: 0\n",
            "hypertension: 0\n",
            "heart_disease: 0\n",
            "smoking_history: 0\n",
            "bmi: 0\n",
            "HbA1c_level: 0\n",
            "blood_glucose_level: 0\n",
            "diabetes: 0\n"
          ]
        }
      ]
    },
    {
      "cell_type": "code",
      "metadata": {
        "id": "ZJsbgwZMPFQC"
      },
      "source": [
        "#look for the unnecessary values present\n",
        "def count_zeros():\n",
        "  columns_list = [\"age\", \"bmi\", \"HbA1c_level\", \"blood_glucose_level\"]\n",
        "  for i in columns_list:\n",
        "    print(i+\":\",df_diabetes_data[df_diabetes_data[i]==0].count())"
      ],
      "execution_count": 143,
      "outputs": []
    },
    {
      "cell_type": "code",
      "metadata": {
        "id": "pcXTErb9PFbo",
        "colab": {
          "base_uri": "https://localhost:8080/"
        },
        "outputId": "1cfb9e9e-b8f9-44ae-cc02-94bfca207657"
      },
      "source": [
        "count_zeros()"
      ],
      "execution_count": 144,
      "outputs": [
        {
          "output_type": "stream",
          "name": "stdout",
          "text": [
            "age: 0\n",
            "bmi: 0\n",
            "HbA1c_level: 0\n",
            "blood_glucose_level: 0\n"
          ]
        }
      ]
    },
    {
      "cell_type": "code",
      "metadata": {
        "id": "C0bk0Ps_PFwk",
        "colab": {
          "base_uri": "https://localhost:8080/"
        },
        "outputId": "caa282ec-2f09-4939-fed6-51f45fc4f858"
      },
      "source": [
        "#display the dataframe\n",
        "df_diabetes_data.show()"
      ],
      "execution_count": 145,
      "outputs": [
        {
          "output_type": "stream",
          "name": "stdout",
          "text": [
            "+------+----+------------+-------------+---------------+-----+-----------+-------------------+--------+\n",
            "|gender| age|hypertension|heart_disease|smoking_history|  bmi|HbA1c_level|blood_glucose_level|diabetes|\n",
            "+------+----+------------+-------------+---------------+-----+-----------+-------------------+--------+\n",
            "|Female|80.0|           0|            1|          never|25.19|        6.6|                140|       0|\n",
            "|Female|54.0|           0|            0|        No Info|27.32|        6.6|                 80|       0|\n",
            "|  Male|28.0|           0|            0|          never|27.32|        5.7|                158|       0|\n",
            "|Female|36.0|           0|            0|        current|23.45|        5.0|                155|       0|\n",
            "|  Male|76.0|           1|            1|        current|20.14|        4.8|                155|       0|\n",
            "|Female|20.0|           0|            0|          never|27.32|        6.6|                 85|       0|\n",
            "|Female|44.0|           0|            0|          never|19.31|        6.5|                200|       1|\n",
            "|Female|79.0|           0|            0|        No Info|23.86|        5.7|                 85|       0|\n",
            "|  Male|42.0|           0|            0|          never|33.64|        4.8|                145|       0|\n",
            "|Female|32.0|           0|            0|          never|27.32|        5.0|                100|       0|\n",
            "|Female|53.0|           0|            0|          never|27.32|        6.1|                 85|       0|\n",
            "|Female|54.0|           0|            0|         former| 54.7|        6.0|                100|       0|\n",
            "|Female|78.0|           0|            0|         former|36.05|        5.0|                130|       0|\n",
            "|Female|67.0|           0|            0|          never|25.69|        5.8|                200|       0|\n",
            "|Female|76.0|           0|            0|        No Info|27.32|        5.0|                160|       0|\n",
            "|  Male|78.0|           0|            0|        No Info|27.32|        6.6|                126|       0|\n",
            "|  Male|15.0|           0|            0|          never|30.36|        6.1|                200|       0|\n",
            "|Female|42.0|           0|            0|          never|24.48|        5.7|                158|       0|\n",
            "|Female|42.0|           0|            0|        No Info|27.32|        5.7|                 80|       0|\n",
            "|  Male|37.0|           0|            0|           ever|25.72|        3.5|                159|       0|\n",
            "+------+----+------------+-------------+---------------+-----+-----------+-------------------+--------+\n",
            "only showing top 20 rows\n",
            "\n"
          ]
        }
      ]
    },
    {
      "cell_type": "code",
      "source": [
        "#drop the 'other' rows in the gender columns\n",
        "string_to_remove = \"Other\"\n",
        "df_diabetes_data = df_diabetes_data[df_diabetes_data['Gender'] != string_to_remove]"
      ],
      "metadata": {
        "id": "E1k77q7hKhIo"
      },
      "execution_count": 146,
      "outputs": []
    },
    {
      "cell_type": "code",
      "source": [
        "#count the total no. of gender types\n",
        "print((df_diabetes_data.count(), len(df_diabetes_data.columns)))\n",
        "df_diabetes_data.groupBy('gender').count().show()"
      ],
      "metadata": {
        "colab": {
          "base_uri": "https://localhost:8080/"
        },
        "id": "OXDmlg6KZgTn",
        "outputId": "1910f7f8-973e-4172-eead-89dd59d6515b"
      },
      "execution_count": 147,
      "outputs": [
        {
          "output_type": "stream",
          "name": "stdout",
          "text": [
            "(99982, 9)\n",
            "+------+-----+\n",
            "|gender|count|\n",
            "+------+-----+\n",
            "|Female|58552|\n",
            "|  Male|41430|\n",
            "+------+-----+\n",
            "\n"
          ]
        }
      ]
    },
    {
      "cell_type": "code",
      "source": [
        "#count the total no. of smoker/non-smoker types\n",
        "print((df_diabetes_data.count(), len(df_diabetes_data.columns)))\n",
        "df_diabetes_data.groupBy('smoking_history').count().show()"
      ],
      "metadata": {
        "colab": {
          "base_uri": "https://localhost:8080/"
        },
        "id": "xwwTUAJLZ72A",
        "outputId": "fe91f3b7-cc3f-4f94-88d3-80112cd98a32"
      },
      "execution_count": 148,
      "outputs": [
        {
          "output_type": "stream",
          "name": "stdout",
          "text": [
            "(99982, 9)\n",
            "+---------------+-----+\n",
            "|smoking_history|count|\n",
            "+---------------+-----+\n",
            "|    not current| 6439|\n",
            "|         former| 9352|\n",
            "|        No Info|35810|\n",
            "|        current| 9286|\n",
            "|          never|35092|\n",
            "|           ever| 4003|\n",
            "+---------------+-----+\n",
            "\n"
          ]
        }
      ]
    },
    {
      "cell_type": "code",
      "source": [
        "#drop the 'other' rows in the gender columns\n",
        "string_to_remove_1= \"No Info\"\n",
        "df_diabetes_data = df_diabetes_data[df_diabetes_data['smoking_history'] != string_to_remove_1]"
      ],
      "metadata": {
        "id": "KdN7OCA1cDnb"
      },
      "execution_count": 149,
      "outputs": []
    },
    {
      "cell_type": "code",
      "source": [
        "#count the total no. of smoker/non-smoker types\n",
        "print((df_diabetes_data.count(), len(df_diabetes_data.columns)))\n",
        "df_diabetes_data.groupBy('smoking_history').count().show()"
      ],
      "metadata": {
        "colab": {
          "base_uri": "https://localhost:8080/"
        },
        "id": "ZbxmgHOFcoEb",
        "outputId": "314e1320-52c3-47e5-894b-ee5a35dd43fd"
      },
      "execution_count": 150,
      "outputs": [
        {
          "output_type": "stream",
          "name": "stdout",
          "text": [
            "(64172, 9)\n",
            "+---------------+-----+\n",
            "|smoking_history|count|\n",
            "+---------------+-----+\n",
            "|    not current| 6439|\n",
            "|         former| 9352|\n",
            "|        current| 9286|\n",
            "|          never|35092|\n",
            "|           ever| 4003|\n",
            "+---------------+-----+\n",
            "\n"
          ]
        }
      ]
    },
    {
      "cell_type": "code",
      "source": [
        "#count the total no. of gender types\n",
        "print((df_diabetes_data.count(), len(df_diabetes_data.columns)))\n",
        "df_diabetes_data.groupBy('gender').count().show()"
      ],
      "metadata": {
        "colab": {
          "base_uri": "https://localhost:8080/"
        },
        "id": "ZKJc4_sLh_pJ",
        "outputId": "d2074697-aa71-4767-cd85-83b37f1db54b"
      },
      "execution_count": 151,
      "outputs": [
        {
          "output_type": "stream",
          "name": "stdout",
          "text": [
            "(64172, 9)\n",
            "+------+-----+\n",
            "|gender|count|\n",
            "+------+-----+\n",
            "|Female|38852|\n",
            "|  Male|25320|\n",
            "+------+-----+\n",
            "\n"
          ]
        }
      ]
    },
    {
      "cell_type": "code",
      "source": [
        "#assign in the 'gender'column 'Female' = 0, and 'Male' = 1\n",
        "from pyspark.sql.functions import when, col\n",
        "df_diabetes_data = df_diabetes_data.withColumn(\"gender\",\n",
        "    when(col(\"gender\") == \"Female\", 0).\n",
        "    when(col(\"gender\") == \"Male\", 1).\n",
        "    otherwise(col(\"gender\"))\n",
        ")\n",
        "df_diabetes_data.show()"
      ],
      "metadata": {
        "colab": {
          "base_uri": "https://localhost:8080/"
        },
        "id": "ZlK0I77Di1Yq",
        "outputId": "88bd5a46-bfff-4eef-fa16-87b77a43f1e7"
      },
      "execution_count": 152,
      "outputs": [
        {
          "output_type": "stream",
          "name": "stdout",
          "text": [
            "+------+----+------------+-------------+---------------+-----+-----------+-------------------+--------+\n",
            "|gender| age|hypertension|heart_disease|smoking_history|  bmi|HbA1c_level|blood_glucose_level|diabetes|\n",
            "+------+----+------------+-------------+---------------+-----+-----------+-------------------+--------+\n",
            "|     0|80.0|           0|            1|          never|25.19|        6.6|                140|       0|\n",
            "|     1|28.0|           0|            0|          never|27.32|        5.7|                158|       0|\n",
            "|     0|36.0|           0|            0|        current|23.45|        5.0|                155|       0|\n",
            "|     1|76.0|           1|            1|        current|20.14|        4.8|                155|       0|\n",
            "|     0|20.0|           0|            0|          never|27.32|        6.6|                 85|       0|\n",
            "|     0|44.0|           0|            0|          never|19.31|        6.5|                200|       1|\n",
            "|     1|42.0|           0|            0|          never|33.64|        4.8|                145|       0|\n",
            "|     0|32.0|           0|            0|          never|27.32|        5.0|                100|       0|\n",
            "|     0|53.0|           0|            0|          never|27.32|        6.1|                 85|       0|\n",
            "|     0|54.0|           0|            0|         former| 54.7|        6.0|                100|       0|\n",
            "|     0|78.0|           0|            0|         former|36.05|        5.0|                130|       0|\n",
            "|     0|67.0|           0|            0|          never|25.69|        5.8|                200|       0|\n",
            "|     1|15.0|           0|            0|          never|30.36|        6.1|                200|       0|\n",
            "|     0|42.0|           0|            0|          never|24.48|        5.7|                158|       0|\n",
            "|     1|37.0|           0|            0|           ever|25.72|        3.5|                159|       0|\n",
            "|     1|40.0|           0|            0|        current|36.38|        6.0|                 90|       0|\n",
            "|     0|69.0|           0|            0|          never|21.24|        4.8|                 85|       0|\n",
            "|     0|72.0|           0|            1|         former|27.94|        6.5|                130|       0|\n",
            "|     1|30.0|           0|            0|          never|33.76|        6.1|                126|       0|\n",
            "|     1|67.0|           0|            1|    not current|27.32|        6.5|                200|       1|\n",
            "+------+----+------------+-------------+---------------+-----+-----------+-------------------+--------+\n",
            "only showing top 20 rows\n",
            "\n"
          ]
        }
      ]
    },
    {
      "cell_type": "code",
      "source": [
        "#assign in the 'smoking_history': \"never\" = 0, \"ever\" = 1, \"not current\" = 2, \"current\" = 3, \"former\" = 4\n",
        "df_diabetes_data = df_diabetes_data.withColumn(\"smoking_history\",\n",
        "    when(col(\"smoking_history\") == \"never\", 0).\n",
        "    when(col(\"smoking_history\") == \"ever\", 1).\n",
        "    when(col(\"smoking_history\") == \"not current\", 2).\n",
        "    when(col(\"smoking_history\") == \"current\", 3).\n",
        "    when(col(\"smoking_history\") == \"former\", 4).\n",
        "    otherwise(col(\"smoking_history\"))\n",
        ")\n",
        "df_diabetes_data.show()"
      ],
      "metadata": {
        "colab": {
          "base_uri": "https://localhost:8080/"
        },
        "id": "j3RHqrEwlS_e",
        "outputId": "cdee6fc6-44c5-465d-dc14-587dd10ec749"
      },
      "execution_count": 153,
      "outputs": [
        {
          "output_type": "stream",
          "name": "stdout",
          "text": [
            "+------+----+------------+-------------+---------------+-----+-----------+-------------------+--------+\n",
            "|gender| age|hypertension|heart_disease|smoking_history|  bmi|HbA1c_level|blood_glucose_level|diabetes|\n",
            "+------+----+------------+-------------+---------------+-----+-----------+-------------------+--------+\n",
            "|     0|80.0|           0|            1|              0|25.19|        6.6|                140|       0|\n",
            "|     1|28.0|           0|            0|              0|27.32|        5.7|                158|       0|\n",
            "|     0|36.0|           0|            0|              3|23.45|        5.0|                155|       0|\n",
            "|     1|76.0|           1|            1|              3|20.14|        4.8|                155|       0|\n",
            "|     0|20.0|           0|            0|              0|27.32|        6.6|                 85|       0|\n",
            "|     0|44.0|           0|            0|              0|19.31|        6.5|                200|       1|\n",
            "|     1|42.0|           0|            0|              0|33.64|        4.8|                145|       0|\n",
            "|     0|32.0|           0|            0|              0|27.32|        5.0|                100|       0|\n",
            "|     0|53.0|           0|            0|              0|27.32|        6.1|                 85|       0|\n",
            "|     0|54.0|           0|            0|              4| 54.7|        6.0|                100|       0|\n",
            "|     0|78.0|           0|            0|              4|36.05|        5.0|                130|       0|\n",
            "|     0|67.0|           0|            0|              0|25.69|        5.8|                200|       0|\n",
            "|     1|15.0|           0|            0|              0|30.36|        6.1|                200|       0|\n",
            "|     0|42.0|           0|            0|              0|24.48|        5.7|                158|       0|\n",
            "|     1|37.0|           0|            0|              1|25.72|        3.5|                159|       0|\n",
            "|     1|40.0|           0|            0|              3|36.38|        6.0|                 90|       0|\n",
            "|     0|69.0|           0|            0|              0|21.24|        4.8|                 85|       0|\n",
            "|     0|72.0|           0|            1|              4|27.94|        6.5|                130|       0|\n",
            "|     1|30.0|           0|            0|              0|33.76|        6.1|                126|       0|\n",
            "|     1|67.0|           0|            1|              2|27.32|        6.5|                200|       1|\n",
            "+------+----+------------+-------------+---------------+-----+-----------+-------------------+--------+\n",
            "only showing top 20 rows\n",
            "\n"
          ]
        }
      ]
    },
    {
      "cell_type": "markdown",
      "metadata": {
        "id": "LOgSTdBpPs7G"
      },
      "source": [
        "# PART 4: Correlation Analysis & Feature Selection"
      ]
    },
    {
      "cell_type": "code",
      "source": [
        "# gender and smoking_history needs to be converted to float data type for model to work\n",
        "df_diabetes_data = df_diabetes_data.withColumn(\"gender\", col(\"gender\").cast('float'))\n",
        "df_diabetes_data = df_diabetes_data.withColumn(\"smoking_history\", col(\"smoking_history\").cast('float'))\n",
        "df_diabetes_data.show()\n"
      ],
      "metadata": {
        "id": "PVQ4iahSjL63",
        "outputId": "e0b67950-567b-4679-ad36-60ec86841542",
        "colab": {
          "base_uri": "https://localhost:8080/"
        }
      },
      "execution_count": 154,
      "outputs": [
        {
          "output_type": "stream",
          "name": "stdout",
          "text": [
            "+------+----+------------+-------------+---------------+-----+-----------+-------------------+--------+\n",
            "|gender| age|hypertension|heart_disease|smoking_history|  bmi|HbA1c_level|blood_glucose_level|diabetes|\n",
            "+------+----+------------+-------------+---------------+-----+-----------+-------------------+--------+\n",
            "|   0.0|80.0|           0|            1|            0.0|25.19|        6.6|                140|       0|\n",
            "|   1.0|28.0|           0|            0|            0.0|27.32|        5.7|                158|       0|\n",
            "|   0.0|36.0|           0|            0|            3.0|23.45|        5.0|                155|       0|\n",
            "|   1.0|76.0|           1|            1|            3.0|20.14|        4.8|                155|       0|\n",
            "|   0.0|20.0|           0|            0|            0.0|27.32|        6.6|                 85|       0|\n",
            "|   0.0|44.0|           0|            0|            0.0|19.31|        6.5|                200|       1|\n",
            "|   1.0|42.0|           0|            0|            0.0|33.64|        4.8|                145|       0|\n",
            "|   0.0|32.0|           0|            0|            0.0|27.32|        5.0|                100|       0|\n",
            "|   0.0|53.0|           0|            0|            0.0|27.32|        6.1|                 85|       0|\n",
            "|   0.0|54.0|           0|            0|            4.0| 54.7|        6.0|                100|       0|\n",
            "|   0.0|78.0|           0|            0|            4.0|36.05|        5.0|                130|       0|\n",
            "|   0.0|67.0|           0|            0|            0.0|25.69|        5.8|                200|       0|\n",
            "|   1.0|15.0|           0|            0|            0.0|30.36|        6.1|                200|       0|\n",
            "|   0.0|42.0|           0|            0|            0.0|24.48|        5.7|                158|       0|\n",
            "|   1.0|37.0|           0|            0|            1.0|25.72|        3.5|                159|       0|\n",
            "|   1.0|40.0|           0|            0|            3.0|36.38|        6.0|                 90|       0|\n",
            "|   0.0|69.0|           0|            0|            0.0|21.24|        4.8|                 85|       0|\n",
            "|   0.0|72.0|           0|            1|            4.0|27.94|        6.5|                130|       0|\n",
            "|   1.0|30.0|           0|            0|            0.0|33.76|        6.1|                126|       0|\n",
            "|   1.0|67.0|           0|            1|            2.0|27.32|        6.5|                200|       1|\n",
            "+------+----+------------+-------------+---------------+-----+-----------+-------------------+--------+\n",
            "only showing top 20 rows\n",
            "\n"
          ]
        }
      ]
    },
    {
      "cell_type": "code",
      "metadata": {
        "id": "7Eq6jdcFP_3C",
        "colab": {
          "base_uri": "https://localhost:8080/"
        },
        "outputId": "88f0e9cc-f982-4d8d-a304-26f52b7075e7"
      },
      "source": [
        "#find the correlation among the set of input & output variables\n",
        "for i in df_diabetes_data.columns:\n",
        "  print(\"Correlation to outcome for {} is {}\".format(i, df_diabetes_data.stat.corr(\"diabetes\",i)))"
      ],
      "execution_count": 155,
      "outputs": [
        {
          "output_type": "stream",
          "name": "stdout",
          "text": [
            "Correlation to outcome for gender is 0.05699689368565596\n",
            "Correlation to outcome for age is 0.26084962459224337\n",
            "Correlation to outcome for hypertension is 0.19222574901207254\n",
            "Correlation to outcome for heart_disease is 0.16961397731730365\n",
            "Correlation to outcome for smoking_history is 0.06472564826560573\n",
            "Correlation to outcome for bmi is 0.20442115545137657\n",
            "Correlation to outcome for HbA1c_level is 0.43889709468177335\n",
            "Correlation to outcome for blood_glucose_level is 0.449697968864106\n",
            "Correlation to outcome for diabetes is 1.0\n"
          ]
        }
      ]
    },
    {
      "cell_type": "code",
      "metadata": {
        "id": "Fl7Edj-OQACn"
      },
      "source": [
        "#feature selection\n",
        "from pyspark.ml.feature import VectorAssembler\n",
        "\n",
        "assembler = VectorAssembler(inputCols = ['gender', 'age', 'hypertension', 'heart_disease',\n",
        "                                         'smoking_history', 'bmi', 'HbA1c_level', 'blood_glucose_level'], outputCol='features')\n",
        "output_data = assembler.transform(df_diabetes_data)"
      ],
      "execution_count": 156,
      "outputs": []
    },
    {
      "cell_type": "code",
      "metadata": {
        "id": "mJKrfqdaQAOy",
        "colab": {
          "base_uri": "https://localhost:8080/"
        },
        "outputId": "205697c8-453a-4868-9d15-bf33c508fd42"
      },
      "source": [
        "#print the schema\n",
        "output_data.printSchema()"
      ],
      "execution_count": 157,
      "outputs": [
        {
          "output_type": "stream",
          "name": "stdout",
          "text": [
            "root\n",
            " |-- gender: float (nullable = true)\n",
            " |-- age: double (nullable = true)\n",
            " |-- hypertension: integer (nullable = true)\n",
            " |-- heart_disease: integer (nullable = true)\n",
            " |-- smoking_history: float (nullable = true)\n",
            " |-- bmi: double (nullable = true)\n",
            " |-- HbA1c_level: double (nullable = true)\n",
            " |-- blood_glucose_level: integer (nullable = true)\n",
            " |-- diabetes: integer (nullable = true)\n",
            " |-- features: vector (nullable = true)\n",
            "\n"
          ]
        }
      ]
    },
    {
      "cell_type": "code",
      "metadata": {
        "id": "FURl7qESQAaQ",
        "colab": {
          "base_uri": "https://localhost:8080/"
        },
        "outputId": "630394d3-6d67-4650-bc76-5cb202e55ed5"
      },
      "source": [
        "#display dataframe\n",
        "output_data.show()"
      ],
      "execution_count": 158,
      "outputs": [
        {
          "output_type": "stream",
          "name": "stdout",
          "text": [
            "+------+----+------------+-------------+---------------+-----+-----------+-------------------+--------+--------------------+\n",
            "|gender| age|hypertension|heart_disease|smoking_history|  bmi|HbA1c_level|blood_glucose_level|diabetes|            features|\n",
            "+------+----+------------+-------------+---------------+-----+-----------+-------------------+--------+--------------------+\n",
            "|   0.0|80.0|           0|            1|            0.0|25.19|        6.6|                140|       0|[0.0,80.0,0.0,1.0...|\n",
            "|   1.0|28.0|           0|            0|            0.0|27.32|        5.7|                158|       0|[1.0,28.0,0.0,0.0...|\n",
            "|   0.0|36.0|           0|            0|            3.0|23.45|        5.0|                155|       0|[0.0,36.0,0.0,0.0...|\n",
            "|   1.0|76.0|           1|            1|            3.0|20.14|        4.8|                155|       0|[1.0,76.0,1.0,1.0...|\n",
            "|   0.0|20.0|           0|            0|            0.0|27.32|        6.6|                 85|       0|(8,[1,5,6,7],[20....|\n",
            "|   0.0|44.0|           0|            0|            0.0|19.31|        6.5|                200|       1|(8,[1,5,6,7],[44....|\n",
            "|   1.0|42.0|           0|            0|            0.0|33.64|        4.8|                145|       0|[1.0,42.0,0.0,0.0...|\n",
            "|   0.0|32.0|           0|            0|            0.0|27.32|        5.0|                100|       0|(8,[1,5,6,7],[32....|\n",
            "|   0.0|53.0|           0|            0|            0.0|27.32|        6.1|                 85|       0|(8,[1,5,6,7],[53....|\n",
            "|   0.0|54.0|           0|            0|            4.0| 54.7|        6.0|                100|       0|[0.0,54.0,0.0,0.0...|\n",
            "|   0.0|78.0|           0|            0|            4.0|36.05|        5.0|                130|       0|[0.0,78.0,0.0,0.0...|\n",
            "|   0.0|67.0|           0|            0|            0.0|25.69|        5.8|                200|       0|(8,[1,5,6,7],[67....|\n",
            "|   1.0|15.0|           0|            0|            0.0|30.36|        6.1|                200|       0|[1.0,15.0,0.0,0.0...|\n",
            "|   0.0|42.0|           0|            0|            0.0|24.48|        5.7|                158|       0|(8,[1,5,6,7],[42....|\n",
            "|   1.0|37.0|           0|            0|            1.0|25.72|        3.5|                159|       0|[1.0,37.0,0.0,0.0...|\n",
            "|   1.0|40.0|           0|            0|            3.0|36.38|        6.0|                 90|       0|[1.0,40.0,0.0,0.0...|\n",
            "|   0.0|69.0|           0|            0|            0.0|21.24|        4.8|                 85|       0|(8,[1,5,6,7],[69....|\n",
            "|   0.0|72.0|           0|            1|            4.0|27.94|        6.5|                130|       0|[0.0,72.0,0.0,1.0...|\n",
            "|   1.0|30.0|           0|            0|            0.0|33.76|        6.1|                126|       0|[1.0,30.0,0.0,0.0...|\n",
            "|   1.0|67.0|           0|            1|            2.0|27.32|        6.5|                200|       1|[1.0,67.0,0.0,1.0...|\n",
            "+------+----+------------+-------------+---------------+-----+-----------+-------------------+--------+--------------------+\n",
            "only showing top 20 rows\n",
            "\n"
          ]
        }
      ]
    },
    {
      "cell_type": "markdown",
      "metadata": {
        "id": "8fSjOdfyQA99"
      },
      "source": [
        "# PART 5: Split Dataset & Build the Model"
      ]
    },
    {
      "cell_type": "code",
      "metadata": {
        "id": "F89--FiVQQJn"
      },
      "source": [
        "#create final data\n",
        "from pyspark.ml.classification import LogisticRegression\n",
        "\n",
        "final_data = output_data.select('features','diabetes')"
      ],
      "execution_count": 159,
      "outputs": []
    },
    {
      "cell_type": "code",
      "metadata": {
        "id": "cKpm5912Qji_",
        "colab": {
          "base_uri": "https://localhost:8080/"
        },
        "outputId": "69f74ae2-c01b-4f1b-a712-7f31cfd2c990"
      },
      "source": [
        "#print schema of final data\n",
        "final_data.printSchema()"
      ],
      "execution_count": 160,
      "outputs": [
        {
          "output_type": "stream",
          "name": "stdout",
          "text": [
            "root\n",
            " |-- features: vector (nullable = true)\n",
            " |-- diabetes: integer (nullable = true)\n",
            "\n"
          ]
        }
      ]
    },
    {
      "cell_type": "code",
      "metadata": {
        "id": "r_Nom7aZQjuN"
      },
      "source": [
        "#split the dataset ; build the model\n",
        "train, test = final_data.randomSplit([0.7, 0.3])\n",
        "models = LogisticRegression(labelCol= 'diabetes')\n",
        "model = models.fit(train)"
      ],
      "execution_count": 161,
      "outputs": []
    },
    {
      "cell_type": "code",
      "metadata": {
        "id": "OljO2HcIQj7E",
        "colab": {
          "base_uri": "https://localhost:8080/"
        },
        "outputId": "844f2097-5827-4bac-df59-a295d7405bc2"
      },
      "source": [
        "#summary of the model\n",
        "summary = model.summary\n",
        "summary.predictions.describe().show()"
      ],
      "execution_count": 162,
      "outputs": [
        {
          "output_type": "stream",
          "name": "stdout",
          "text": [
            "+-------+-------------------+-------------------+\n",
            "|summary|           diabetes|         prediction|\n",
            "+-------+-------------------+-------------------+\n",
            "|  count|              44999|              44999|\n",
            "|   mean|0.11075801684481877|0.08275739460876909|\n",
            "| stddev| 0.3138357330331359| 0.2755182302122191|\n",
            "|    min|                0.0|                0.0|\n",
            "|    max|                1.0|                1.0|\n",
            "+-------+-------------------+-------------------+\n",
            "\n"
          ]
        }
      ]
    },
    {
      "cell_type": "markdown",
      "metadata": {
        "id": "DfaD_vzfQkah"
      },
      "source": [
        "# PART 6: Evaluate and Save the Model"
      ]
    },
    {
      "cell_type": "code",
      "metadata": {
        "id": "CHC5Erq7Q4QN"
      },
      "source": [
        "from pyspark.ml.evaluation import BinaryClassificationEvaluator\n",
        "\n",
        "predictions = model.evaluate(test)"
      ],
      "execution_count": 163,
      "outputs": []
    },
    {
      "cell_type": "code",
      "metadata": {
        "id": "UBltVqoNQ4cM",
        "colab": {
          "base_uri": "https://localhost:8080/"
        },
        "outputId": "6a04ffe5-905f-4d8d-d198-dfaf0a189e04"
      },
      "source": [
        "predictions.predictions.show(100)"
      ],
      "execution_count": 164,
      "outputs": [
        {
          "output_type": "stream",
          "name": "stdout",
          "text": [
            "+--------------------+--------+--------------------+--------------------+----------+\n",
            "|            features|diabetes|       rawPrediction|         probability|prediction|\n",
            "+--------------------+--------+--------------------+--------------------+----------+\n",
            "|(8,[1,5,6,7],[0.1...|       0|[6.66659070466195...|[0.99872888730703...|       0.0|\n",
            "|(8,[1,5,6,7],[0.4...|       0|[6.41965140451192...|[0.99837342597758...|       0.0|\n",
            "|(8,[1,5,6,7],[0.5...|       0|[5.89963629721055...|[0.99726704815053...|       0.0|\n",
            "|(8,[1,5,6,7],[0.6...|       0|[6.70004466767949...|[0.99877065622437...|       0.0|\n",
            "|(8,[1,5,6,7],[0.7...|       0|[6.75391814211413...|[0.99883505774933...|       0.0|\n",
            "|(8,[1,5,6,7],[0.8...|       0|[7.26518320358277...|[0.99930101580871...|       0.0|\n",
            "|(8,[1,5,6,7],[1.0...|       0|[7.77005573208879...|[0.99957798843231...|       0.0|\n",
            "|(8,[1,5,6,7],[1.0...|       0|[7.55593907734568...|[0.99947727860187...|       0.0|\n",
            "|(8,[1,5,6,7],[1.0...|       0|[11.9651117817629...|[0.99999363768430...|       0.0|\n",
            "|(8,[1,5,6,7],[1.2...|       0|[12.8945151596651...|[0.99999748821693...|       0.0|\n",
            "|(8,[1,5,6,7],[1.2...|       0|[5.25525110500145...|[0.99480707191775...|       0.0|\n",
            "|(8,[1,5,6,7],[1.3...|       0|[10.8192059428865...|[0.99997998895034...|       0.0|\n",
            "|(8,[1,5,6,7],[1.3...|       0|[8.07914322959532...|[0.99969015956476...|       0.0|\n",
            "|(8,[1,5,6,7],[1.3...|       0|[12.5577148285976...|[0.99999648235331...|       0.0|\n",
            "|(8,[1,5,6,7],[1.3...|       0|[10.0290362422263...|[0.99995590130385...|       0.0|\n",
            "|(8,[1,5,6,7],[1.4...|       0|[11.0912518678992...|[0.99998475512402...|       0.0|\n",
            "|(8,[1,5,6,7],[1.4...|       0|[14.8466604009591...|[0.99999964340343...|       0.0|\n",
            "|(8,[1,5,6,7],[1.5...|       0|[5.48357303754994...|[0.99586272901438...|       0.0|\n",
            "|(8,[1,5,6,7],[1.6...|       0|[8.99924855911137...|[0.99987651267689...|       0.0|\n",
            "|(8,[1,5,6,7],[1.6...|       0|[8.10325432978215...|[0.99969753858336...|       0.0|\n",
            "|(8,[1,5,6,7],[1.7...|       0|[8.03439808486006...|[0.99967598545522...|       0.0|\n",
            "|(8,[1,5,6,7],[1.8...|       0|[8.72959725941088...|[0.99983829857420...|       0.0|\n",
            "|(8,[1,5,6,7],[1.8...|       0|[8.32544496020109...|[0.99975778558312...|       0.0|\n",
            "|(8,[1,5,6,7],[1.8...|       0|[6.50464206369662...|[0.99850575978900...|       0.0|\n",
            "|(8,[1,5,6,7],[2.0...|       0|[12.6249999239319...|[0.99999671125068...|       0.0|\n",
            "|(8,[1,5,6,7],[2.0...|       0|[8.95541793196689...|[0.99987098049452...|       0.0|\n",
            "|(8,[1,5,6,7],[2.0...|       0|[6.66572682719755...|[0.99872779014458...|       0.0|\n",
            "|(8,[1,5,6,7],[2.0...|       0|[5.78636314597024...|[0.99694026684076...|       0.0|\n",
            "|(8,[1,5,6,7],[2.0...|       0|[6.40874076655640...|[0.99835561119160...|       0.0|\n",
            "|(8,[1,5,6,7],[2.0...|       0|[5.50900045358306...|[0.99596618389786...|       0.0|\n",
            "|(8,[1,5,6,7],[2.0...|       0|[8.74704957841559...|[0.99984109571137...|       0.0|\n",
            "|(8,[1,5,6,7],[2.0...|       0|[14.2626463055857...|[0.99999936054331...|       0.0|\n",
            "|(8,[1,5,6,7],[2.0...|       0|[7.25729309125006...|[0.99929548283118...|       0.0|\n",
            "|(8,[1,5,6,7],[2.0...|       0|[7.61403855542937...|[0.99950676849433...|       0.0|\n",
            "|(8,[1,5,6,7],[2.0...|       0|[11.1235047552187...|[0.99998523896348...|       0.0|\n",
            "|(8,[1,5,6,7],[2.0...|       0|[7.80809234455372...|[0.99959373247818...|       0.0|\n",
            "|(8,[1,5,6,7],[2.0...|       0|[12.4795973637493...|[0.99999619654680...|       0.0|\n",
            "|(8,[1,5,6,7],[2.0...|       0|[9.15551751612304...|[0.99989437581052...|       0.0|\n",
            "|(8,[1,5,6,7],[2.0...|       0|[7.07277688328675...|[0.99915284289752...|       0.0|\n",
            "|(8,[1,5,6,7],[2.0...|       0|[5.22644276141757...|[0.99465610763084...|       0.0|\n",
            "|(8,[1,5,6,7],[2.0...|       0|[4.35324948952536...|[0.98729846439753...|       0.0|\n",
            "|(8,[1,5,6,7],[3.0...|       0|[11.8860773223670...|[0.99999311444079...|       0.0|\n",
            "|(8,[1,5,6,7],[3.0...|       0|[4.92581899447607...|[0.99279550088707...|       0.0|\n",
            "|(8,[1,5,6,7],[3.0...|       0|[7.07960041384015...|[0.99915859897537...|       0.0|\n",
            "|(8,[1,5,6,7],[3.0...|       0|[10.1640733743299...|[0.99996147148354...|       0.0|\n",
            "|(8,[1,5,6,7],[3.0...|       0|[6.67025315254654...|[0.99873352829124...|       0.0|\n",
            "|(8,[1,5,6,7],[3.0...|       0|[9.67084863219737...|[0.99993690769382...|       0.0|\n",
            "|(8,[1,5,6,7],[3.0...|       0|[12.2915528895886...|[0.99999540966467...|       0.0|\n",
            "|(8,[1,5,6,7],[3.0...|       0|[5.89461975040632...|[0.99725334147496...|       0.0|\n",
            "|(8,[1,5,6,7],[3.0...|       0|[12.2677856454394...|[0.99999529925873...|       0.0|\n",
            "|(8,[1,5,6,7],[3.0...|       0|[7.42683827870800...|[0.99940528791940...|       0.0|\n",
            "|(8,[1,5,6,7],[3.0...|       0|[11.7123635287833...|[0.99999180815753...|       0.0|\n",
            "|(8,[1,5,6,7],[3.0...|       0|[12.2476688940506...|[0.99999520373798...|       0.0|\n",
            "|(8,[1,5,6,7],[3.0...|       0|[5.96420402686116...|[0.99743749458439...|       0.0|\n",
            "|(8,[1,5,6,7],[3.0...|       0|[7.93202188872810...|[0.99964106917784...|       0.0|\n",
            "|(8,[1,5,6,7],[3.0...|       0|[11.8510382677391...|[0.99999286890243...|       0.0|\n",
            "|(8,[1,5,6,7],[3.0...|       0|[6.57516082365789...|[0.99860736053078...|       0.0|\n",
            "|(8,[1,5,6,7],[3.0...|       0|[13.3406213237394...|[0.99999839216649...|       0.0|\n",
            "|(8,[1,5,6,7],[3.0...|       0|[6.81690419827129...|[0.99890609203435...|       0.0|\n",
            "|(8,[1,5,6,7],[3.0...|       0|[6.38657254757227...|[0.99831881293608...|       0.0|\n",
            "|(8,[1,5,6,7],[3.0...|       0|[5.68133509359889...|[0.99660257776191...|       0.0|\n",
            "|(8,[1,5,6,7],[3.0...|       0|[6.75471849047009...|[0.9988359886511,...|       0.0|\n",
            "|(8,[1,5,6,7],[4.0...|       0|[13.7725016538357...|[0.99999895605389...|       0.0|\n",
            "|(8,[1,5,6,7],[4.0...|       0|[12.0191925353111...|[0.99999397262257...|       0.0|\n",
            "|(8,[1,5,6,7],[4.0...|       0|[10.9959662647923...|[0.99998323107411...|       0.0|\n",
            "|(8,[1,5,6,7],[4.0...|       0|[11.2145420073486...|[0.99998652339695...|       0.0|\n",
            "|(8,[1,5,6,7],[4.0...|       0|[6.94026414989764...|[0.99903292228201...|       0.0|\n",
            "|(8,[1,5,6,7],[4.0...|       0|[8.64621628407278...|[0.99982424016336...|       0.0|\n",
            "|(8,[1,5,6,7],[4.0...|       0|[6.02511739420453...|[0.99758856131555...|       0.0|\n",
            "|(8,[1,5,6,7],[4.0...|       0|[12.2075468589528...|[0.99999500739056...|       0.0|\n",
            "|(8,[1,5,6,7],[4.0...|       0|[6.27690440113097...|[0.99812431592576...|       0.0|\n",
            "|(8,[1,5,6,7],[4.0...|       1|[-2.9382684011363...|[0.05029391766267...|       1.0|\n",
            "|(8,[1,5,6,7],[4.0...|       0|[9.95000514095754...|[0.99995227488922...|       0.0|\n",
            "|(8,[1,5,6,7],[4.0...|       0|[11.0004253526055...|[0.99998330568051...|       0.0|\n",
            "|(8,[1,5,6,7],[4.0...|       1|[5.49157776901046...|[0.99589557917468...|       0.0|\n",
            "|(8,[1,5,6,7],[4.0...|       0|[8.59880539510592...|[0.99981570811099...|       0.0|\n",
            "|(8,[1,5,6,7],[4.0...|       0|[7.68079746219712...|[0.99953860634425...|       0.0|\n",
            "|(8,[1,5,6,7],[4.0...|       0|[6.80710223078380...|[0.99889532876439...|       0.0|\n",
            "|(8,[1,5,6,7],[4.0...|       0|[10.8617694109675...|[0.99998082280199...|       0.0|\n",
            "|(8,[1,5,6,7],[4.0...|       0|[13.7585603618429...|[0.99999894139803...|       0.0|\n",
            "|(8,[1,5,6,7],[4.0...|       0|[11.8695327902714...|[0.99999299957565...|       0.0|\n",
            "|(8,[1,5,6,7],[5.0...|       0|[6.76550995720349...|[0.99884846811901...|       0.0|\n",
            "|(8,[1,5,6,7],[5.0...|       0|[5.40410995294219...|[0.99552208580758...|       0.0|\n",
            "|(8,[1,5,6,7],[5.0...|       0|[7.31681524281190...|[0.99933616656886...|       0.0|\n",
            "|(8,[1,5,6,7],[5.0...|       0|[6.85844443857244...|[0.99895055563806...|       0.0|\n",
            "|(8,[1,5,6,7],[5.0...|       0|[5.94869558173840...|[0.99739754858287...|       0.0|\n",
            "|(8,[1,5,6,7],[5.0...|       0|[8.09495534705143...|[0.99969501878541...|       0.0|\n",
            "|(8,[1,5,6,7],[5.0...|       0|[7.37585800021622...|[0.99937420267010...|       0.0|\n",
            "|(8,[1,5,6,7],[5.0...|       0|[7.42865304078537...|[0.99940636556152...|       0.0|\n",
            "|(8,[1,5,6,7],[5.0...|       0|[11.1268697255992...|[0.99998528854972...|       0.0|\n",
            "|(8,[1,5,6,7],[5.0...|       0|[5.93362477912271...|[0.99735813491612...|       0.0|\n",
            "|(8,[1,5,6,7],[5.0...|       0|[13.7100276934820...|[0.99999888875417...|       0.0|\n",
            "|(8,[1,5,6,7],[5.0...|       0|[2.56298233159975...|[0.92844085253544...|       0.0|\n",
            "|(8,[1,5,6,7],[6.0...|       0|[12.7218278825963...|[0.99999701476135...|       0.0|\n",
            "|(8,[1,5,6,7],[6.0...|       0|[8.17597225130816...|[0.99971874632687...|       0.0|\n",
            "|(8,[1,5,6,7],[6.0...|       0|[11.5460262901180...|[0.99999032568347...|       0.0|\n",
            "|(8,[1,5,6,7],[6.0...|       0|[4.93829540278518...|[0.99288419311559...|       0.0|\n",
            "|(8,[1,5,6,7],[6.0...|       0|[11.6873999785034...|[0.99999160108794...|       0.0|\n",
            "|(8,[1,5,6,7],[6.0...|       0|[3.56074239208854...|[0.97236753194361...|       0.0|\n",
            "|(8,[1,5,6,7],[6.0...|       0|[12.8376055404500...|[0.99999734112697...|       0.0|\n",
            "+--------------------+--------+--------------------+--------------------+----------+\n",
            "only showing top 100 rows\n",
            "\n"
          ]
        }
      ]
    },
    {
      "cell_type": "code",
      "metadata": {
        "id": "A4BHCxCiQ4l-",
        "colab": {
          "base_uri": "https://localhost:8080/"
        },
        "outputId": "d467edc3-61aa-44b3-ef4a-57932bca30d8"
      },
      "source": [
        "evaluator = BinaryClassificationEvaluator(rawPredictionCol= 'rawPrediction', labelCol='diabetes')\n",
        "evaluator.evaluate(model.transform(test))"
      ],
      "execution_count": 182,
      "outputs": [
        {
          "output_type": "execute_result",
          "data": {
            "text/plain": [
              "0.9537557051036812"
            ]
          },
          "metadata": {},
          "execution_count": 182
        }
      ]
    },
    {
      "cell_type": "code",
      "metadata": {
        "id": "ERpRUFOHQ4x5",
        "colab": {
          "base_uri": "https://localhost:8080/",
          "height": 582
        },
        "outputId": "d7bb7d1c-971e-40d5-b8d5-b4b7591ec240"
      },
      "source": [
        "# save model\n",
        "model.save(\"model\")"
      ],
      "execution_count": 181,
      "outputs": [
        {
          "output_type": "error",
          "ename": "Py4JJavaError",
          "evalue": "An error occurred while calling o2009.save.\n: java.io.IOException: Path model already exists. To overwrite it, please use write.overwrite().save(path) for Scala and use write().overwrite().save(path) for Java and Python.\n\tat org.apache.spark.ml.util.FileSystemOverwrite.handleOverwrite(ReadWrite.scala:683)\n\tat org.apache.spark.ml.util.MLWriter.save(ReadWrite.scala:167)\n\tat java.base/jdk.internal.reflect.NativeMethodAccessorImpl.invoke0(Native Method)\n\tat java.base/jdk.internal.reflect.NativeMethodAccessorImpl.invoke(NativeMethodAccessorImpl.java:62)\n\tat java.base/jdk.internal.reflect.DelegatingMethodAccessorImpl.invoke(DelegatingMethodAccessorImpl.java:43)\n\tat java.base/java.lang.reflect.Method.invoke(Method.java:566)\n\tat py4j.reflection.MethodInvoker.invoke(MethodInvoker.java:244)\n\tat py4j.reflection.ReflectionEngine.invoke(ReflectionEngine.java:374)\n\tat py4j.Gateway.invoke(Gateway.java:282)\n\tat py4j.commands.AbstractCommand.invokeMethod(AbstractCommand.java:132)\n\tat py4j.commands.CallCommand.execute(CallCommand.java:79)\n\tat py4j.ClientServerConnection.waitForCommands(ClientServerConnection.java:182)\n\tat py4j.ClientServerConnection.run(ClientServerConnection.java:106)\n\tat java.base/java.lang.Thread.run(Thread.java:829)\n",
          "traceback": [
            "\u001b[0;31m---------------------------------------------------------------------------\u001b[0m",
            "\u001b[0;31mPy4JJavaError\u001b[0m                             Traceback (most recent call last)",
            "\u001b[0;32m<ipython-input-181-a5fbf640b42b>\u001b[0m in \u001b[0;36m<cell line: 2>\u001b[0;34m()\u001b[0m\n\u001b[1;32m      1\u001b[0m \u001b[0;31m# save model\u001b[0m\u001b[0;34m\u001b[0m\u001b[0;34m\u001b[0m\u001b[0m\n\u001b[0;32m----> 2\u001b[0;31m \u001b[0mmodel\u001b[0m\u001b[0;34m.\u001b[0m\u001b[0msave\u001b[0m\u001b[0;34m(\u001b[0m\u001b[0;34m\"model\"\u001b[0m\u001b[0;34m)\u001b[0m\u001b[0;34m\u001b[0m\u001b[0;34m\u001b[0m\u001b[0m\n\u001b[0m",
            "\u001b[0;32m/usr/local/lib/python3.10/dist-packages/pyspark/ml/util.py\u001b[0m in \u001b[0;36msave\u001b[0;34m(self, path)\u001b[0m\n\u001b[1;32m    260\u001b[0m     \u001b[0;32mdef\u001b[0m \u001b[0msave\u001b[0m\u001b[0;34m(\u001b[0m\u001b[0mself\u001b[0m\u001b[0;34m,\u001b[0m \u001b[0mpath\u001b[0m\u001b[0;34m:\u001b[0m \u001b[0mstr\u001b[0m\u001b[0;34m)\u001b[0m \u001b[0;34m->\u001b[0m \u001b[0;32mNone\u001b[0m\u001b[0;34m:\u001b[0m\u001b[0;34m\u001b[0m\u001b[0;34m\u001b[0m\u001b[0m\n\u001b[1;32m    261\u001b[0m         \u001b[0;34m\"\"\"Save this ML instance to the given path, a shortcut of 'write().save(path)'.\"\"\"\u001b[0m\u001b[0;34m\u001b[0m\u001b[0;34m\u001b[0m\u001b[0m\n\u001b[0;32m--> 262\u001b[0;31m         \u001b[0mself\u001b[0m\u001b[0;34m.\u001b[0m\u001b[0mwrite\u001b[0m\u001b[0;34m(\u001b[0m\u001b[0;34m)\u001b[0m\u001b[0;34m.\u001b[0m\u001b[0msave\u001b[0m\u001b[0;34m(\u001b[0m\u001b[0mpath\u001b[0m\u001b[0;34m)\u001b[0m\u001b[0;34m\u001b[0m\u001b[0;34m\u001b[0m\u001b[0m\n\u001b[0m\u001b[1;32m    263\u001b[0m \u001b[0;34m\u001b[0m\u001b[0m\n\u001b[1;32m    264\u001b[0m \u001b[0;34m\u001b[0m\u001b[0m\n",
            "\u001b[0;32m/usr/local/lib/python3.10/dist-packages/pyspark/ml/util.py\u001b[0m in \u001b[0;36msave\u001b[0;34m(self, path)\u001b[0m\n\u001b[1;32m    211\u001b[0m         \u001b[0;32mif\u001b[0m \u001b[0;32mnot\u001b[0m \u001b[0misinstance\u001b[0m\u001b[0;34m(\u001b[0m\u001b[0mpath\u001b[0m\u001b[0;34m,\u001b[0m \u001b[0mstr\u001b[0m\u001b[0;34m)\u001b[0m\u001b[0;34m:\u001b[0m\u001b[0;34m\u001b[0m\u001b[0;34m\u001b[0m\u001b[0m\n\u001b[1;32m    212\u001b[0m             \u001b[0;32mraise\u001b[0m \u001b[0mTypeError\u001b[0m\u001b[0;34m(\u001b[0m\u001b[0;34m\"path should be a string, got type %s\"\u001b[0m \u001b[0;34m%\u001b[0m \u001b[0mtype\u001b[0m\u001b[0;34m(\u001b[0m\u001b[0mpath\u001b[0m\u001b[0;34m)\u001b[0m\u001b[0;34m)\u001b[0m\u001b[0;34m\u001b[0m\u001b[0;34m\u001b[0m\u001b[0m\n\u001b[0;32m--> 213\u001b[0;31m         \u001b[0mself\u001b[0m\u001b[0;34m.\u001b[0m\u001b[0m_jwrite\u001b[0m\u001b[0;34m.\u001b[0m\u001b[0msave\u001b[0m\u001b[0;34m(\u001b[0m\u001b[0mpath\u001b[0m\u001b[0;34m)\u001b[0m\u001b[0;34m\u001b[0m\u001b[0;34m\u001b[0m\u001b[0m\n\u001b[0m\u001b[1;32m    214\u001b[0m \u001b[0;34m\u001b[0m\u001b[0m\n\u001b[1;32m    215\u001b[0m     \u001b[0;32mdef\u001b[0m \u001b[0moverwrite\u001b[0m\u001b[0;34m(\u001b[0m\u001b[0mself\u001b[0m\u001b[0;34m)\u001b[0m \u001b[0;34m->\u001b[0m \u001b[0;34m\"JavaMLWriter\"\u001b[0m\u001b[0;34m:\u001b[0m\u001b[0;34m\u001b[0m\u001b[0;34m\u001b[0m\u001b[0m\n",
            "\u001b[0;32m/usr/local/lib/python3.10/dist-packages/py4j/java_gateway.py\u001b[0m in \u001b[0;36m__call__\u001b[0;34m(self, *args)\u001b[0m\n\u001b[1;32m   1320\u001b[0m \u001b[0;34m\u001b[0m\u001b[0m\n\u001b[1;32m   1321\u001b[0m         \u001b[0manswer\u001b[0m \u001b[0;34m=\u001b[0m \u001b[0mself\u001b[0m\u001b[0;34m.\u001b[0m\u001b[0mgateway_client\u001b[0m\u001b[0;34m.\u001b[0m\u001b[0msend_command\u001b[0m\u001b[0;34m(\u001b[0m\u001b[0mcommand\u001b[0m\u001b[0;34m)\u001b[0m\u001b[0;34m\u001b[0m\u001b[0;34m\u001b[0m\u001b[0m\n\u001b[0;32m-> 1322\u001b[0;31m         return_value = get_return_value(\n\u001b[0m\u001b[1;32m   1323\u001b[0m             answer, self.gateway_client, self.target_id, self.name)\n\u001b[1;32m   1324\u001b[0m \u001b[0;34m\u001b[0m\u001b[0m\n",
            "\u001b[0;32m/usr/local/lib/python3.10/dist-packages/pyspark/errors/exceptions/captured.py\u001b[0m in \u001b[0;36mdeco\u001b[0;34m(*a, **kw)\u001b[0m\n\u001b[1;32m    177\u001b[0m     \u001b[0;32mdef\u001b[0m \u001b[0mdeco\u001b[0m\u001b[0;34m(\u001b[0m\u001b[0;34m*\u001b[0m\u001b[0ma\u001b[0m\u001b[0;34m:\u001b[0m \u001b[0mAny\u001b[0m\u001b[0;34m,\u001b[0m \u001b[0;34m**\u001b[0m\u001b[0mkw\u001b[0m\u001b[0;34m:\u001b[0m \u001b[0mAny\u001b[0m\u001b[0;34m)\u001b[0m \u001b[0;34m->\u001b[0m \u001b[0mAny\u001b[0m\u001b[0;34m:\u001b[0m\u001b[0;34m\u001b[0m\u001b[0;34m\u001b[0m\u001b[0m\n\u001b[1;32m    178\u001b[0m         \u001b[0;32mtry\u001b[0m\u001b[0;34m:\u001b[0m\u001b[0;34m\u001b[0m\u001b[0;34m\u001b[0m\u001b[0m\n\u001b[0;32m--> 179\u001b[0;31m             \u001b[0;32mreturn\u001b[0m \u001b[0mf\u001b[0m\u001b[0;34m(\u001b[0m\u001b[0;34m*\u001b[0m\u001b[0ma\u001b[0m\u001b[0;34m,\u001b[0m \u001b[0;34m**\u001b[0m\u001b[0mkw\u001b[0m\u001b[0;34m)\u001b[0m\u001b[0;34m\u001b[0m\u001b[0;34m\u001b[0m\u001b[0m\n\u001b[0m\u001b[1;32m    180\u001b[0m         \u001b[0;32mexcept\u001b[0m \u001b[0mPy4JJavaError\u001b[0m \u001b[0;32mas\u001b[0m \u001b[0me\u001b[0m\u001b[0;34m:\u001b[0m\u001b[0;34m\u001b[0m\u001b[0;34m\u001b[0m\u001b[0m\n\u001b[1;32m    181\u001b[0m             \u001b[0mconverted\u001b[0m \u001b[0;34m=\u001b[0m \u001b[0mconvert_exception\u001b[0m\u001b[0;34m(\u001b[0m\u001b[0me\u001b[0m\u001b[0;34m.\u001b[0m\u001b[0mjava_exception\u001b[0m\u001b[0;34m)\u001b[0m\u001b[0;34m\u001b[0m\u001b[0;34m\u001b[0m\u001b[0m\n",
            "\u001b[0;32m/usr/local/lib/python3.10/dist-packages/py4j/protocol.py\u001b[0m in \u001b[0;36mget_return_value\u001b[0;34m(answer, gateway_client, target_id, name)\u001b[0m\n\u001b[1;32m    324\u001b[0m             \u001b[0mvalue\u001b[0m \u001b[0;34m=\u001b[0m \u001b[0mOUTPUT_CONVERTER\u001b[0m\u001b[0;34m[\u001b[0m\u001b[0mtype\u001b[0m\u001b[0;34m]\u001b[0m\u001b[0;34m(\u001b[0m\u001b[0manswer\u001b[0m\u001b[0;34m[\u001b[0m\u001b[0;36m2\u001b[0m\u001b[0;34m:\u001b[0m\u001b[0;34m]\u001b[0m\u001b[0;34m,\u001b[0m \u001b[0mgateway_client\u001b[0m\u001b[0;34m)\u001b[0m\u001b[0;34m\u001b[0m\u001b[0;34m\u001b[0m\u001b[0m\n\u001b[1;32m    325\u001b[0m             \u001b[0;32mif\u001b[0m \u001b[0manswer\u001b[0m\u001b[0;34m[\u001b[0m\u001b[0;36m1\u001b[0m\u001b[0;34m]\u001b[0m \u001b[0;34m==\u001b[0m \u001b[0mREFERENCE_TYPE\u001b[0m\u001b[0;34m:\u001b[0m\u001b[0;34m\u001b[0m\u001b[0;34m\u001b[0m\u001b[0m\n\u001b[0;32m--> 326\u001b[0;31m                 raise Py4JJavaError(\n\u001b[0m\u001b[1;32m    327\u001b[0m                     \u001b[0;34m\"An error occurred while calling {0}{1}{2}.\\n\"\u001b[0m\u001b[0;34m.\u001b[0m\u001b[0;34m\u001b[0m\u001b[0;34m\u001b[0m\u001b[0m\n\u001b[1;32m    328\u001b[0m                     format(target_id, \".\", name), value)\n",
            "\u001b[0;31mPy4JJavaError\u001b[0m: An error occurred while calling o2009.save.\n: java.io.IOException: Path model already exists. To overwrite it, please use write.overwrite().save(path) for Scala and use write().overwrite().save(path) for Java and Python.\n\tat org.apache.spark.ml.util.FileSystemOverwrite.handleOverwrite(ReadWrite.scala:683)\n\tat org.apache.spark.ml.util.MLWriter.save(ReadWrite.scala:167)\n\tat java.base/jdk.internal.reflect.NativeMethodAccessorImpl.invoke0(Native Method)\n\tat java.base/jdk.internal.reflect.NativeMethodAccessorImpl.invoke(NativeMethodAccessorImpl.java:62)\n\tat java.base/jdk.internal.reflect.DelegatingMethodAccessorImpl.invoke(DelegatingMethodAccessorImpl.java:43)\n\tat java.base/java.lang.reflect.Method.invoke(Method.java:566)\n\tat py4j.reflection.MethodInvoker.invoke(MethodInvoker.java:244)\n\tat py4j.reflection.ReflectionEngine.invoke(ReflectionEngine.java:374)\n\tat py4j.Gateway.invoke(Gateway.java:282)\n\tat py4j.commands.AbstractCommand.invokeMethod(AbstractCommand.java:132)\n\tat py4j.commands.CallCommand.execute(CallCommand.java:79)\n\tat py4j.ClientServerConnection.waitForCommands(ClientServerConnection.java:182)\n\tat py4j.ClientServerConnection.run(ClientServerConnection.java:106)\n\tat java.base/java.lang.Thread.run(Thread.java:829)\n"
          ]
        }
      ]
    },
    {
      "cell_type": "code",
      "metadata": {
        "id": "4zSA9_KCQ47W"
      },
      "source": [
        "# load saved model back to the environment\n",
        "from pyspark.ml.classification import LogisticRegressionModel\n",
        "\n",
        "model = LogisticRegressionModel.load('model')"
      ],
      "execution_count": 183,
      "outputs": []
    },
    {
      "cell_type": "markdown",
      "metadata": {
        "id": "Iznukr-xRANo"
      },
      "source": [
        "# PART 7: Prediction on New Data with the saved model"
      ]
    },
    {
      "cell_type": "code",
      "metadata": {
        "id": "MBq2hq27RdHB"
      },
      "source": [
        "#create a new spark dataframe\n",
        "test_df = spark.read.csv('/content/Project-4/Luis/Dataset/diabetes_prediction_dataset.csv', header=True, inferSchema=True)"
      ],
      "execution_count": 184,
      "outputs": []
    },
    {
      "cell_type": "code",
      "source": [
        "#assign in the 'gender'column 'Female' = 0, and 'Male' = 1\n",
        "from pyspark.sql.functions import when, col\n",
        "test_df = test_df.withColumn(\"gender\",\n",
        "    when(col(\"gender\") == \"Female\", 0).\n",
        "    when(col(\"gender\") == \"Male\", 1).\n",
        "    otherwise(col(\"gender\"))\n",
        ")\n",
        "test_df.show()"
      ],
      "metadata": {
        "colab": {
          "base_uri": "https://localhost:8080/"
        },
        "id": "N1uvhlMdSTjk",
        "outputId": "43c0c59e-bc4e-4707-e1ba-079b64613244"
      },
      "execution_count": 185,
      "outputs": [
        {
          "output_type": "stream",
          "name": "stdout",
          "text": [
            "+------+----+------------+-------------+---------------+-----+-----------+-------------------+--------+\n",
            "|gender| age|hypertension|heart_disease|smoking_history|  bmi|HbA1c_level|blood_glucose_level|diabetes|\n",
            "+------+----+------------+-------------+---------------+-----+-----------+-------------------+--------+\n",
            "|     0|80.0|           0|            1|          never|25.19|        6.6|                140|       0|\n",
            "|     0|54.0|           0|            0|        No Info|27.32|        6.6|                 80|       0|\n",
            "|     1|28.0|           0|            0|          never|27.32|        5.7|                158|       0|\n",
            "|     0|36.0|           0|            0|        current|23.45|        5.0|                155|       0|\n",
            "|     1|76.0|           1|            1|        current|20.14|        4.8|                155|       0|\n",
            "|     0|20.0|           0|            0|          never|27.32|        6.6|                 85|       0|\n",
            "|     0|44.0|           0|            0|          never|19.31|        6.5|                200|       1|\n",
            "|     0|79.0|           0|            0|        No Info|23.86|        5.7|                 85|       0|\n",
            "|     1|42.0|           0|            0|          never|33.64|        4.8|                145|       0|\n",
            "|     0|32.0|           0|            0|          never|27.32|        5.0|                100|       0|\n",
            "|     0|53.0|           0|            0|          never|27.32|        6.1|                 85|       0|\n",
            "|     0|54.0|           0|            0|         former| 54.7|        6.0|                100|       0|\n",
            "|     0|78.0|           0|            0|         former|36.05|        5.0|                130|       0|\n",
            "|     0|67.0|           0|            0|          never|25.69|        5.8|                200|       0|\n",
            "|     0|76.0|           0|            0|        No Info|27.32|        5.0|                160|       0|\n",
            "|     1|78.0|           0|            0|        No Info|27.32|        6.6|                126|       0|\n",
            "|     1|15.0|           0|            0|          never|30.36|        6.1|                200|       0|\n",
            "|     0|42.0|           0|            0|          never|24.48|        5.7|                158|       0|\n",
            "|     0|42.0|           0|            0|        No Info|27.32|        5.7|                 80|       0|\n",
            "|     1|37.0|           0|            0|           ever|25.72|        3.5|                159|       0|\n",
            "+------+----+------------+-------------+---------------+-----+-----------+-------------------+--------+\n",
            "only showing top 20 rows\n",
            "\n"
          ]
        }
      ]
    },
    {
      "cell_type": "code",
      "source": [
        "#drop the 'other' rows in the gender columns\n",
        "string_to_remove = \"Other\"\n",
        "test_df = test_df[test_df['Gender'] != string_to_remove]"
      ],
      "metadata": {
        "id": "XQXymPEyTmXR"
      },
      "execution_count": 186,
      "outputs": []
    },
    {
      "cell_type": "code",
      "source": [
        "#count the total no. of gender types\n",
        "print((test_df.count(), len(test_df.columns)))\n",
        "test_df.groupBy('gender').count().show()"
      ],
      "metadata": {
        "colab": {
          "base_uri": "https://localhost:8080/"
        },
        "id": "3OtkWQ90T-Ok",
        "outputId": "a21160cb-9ddb-494c-cba8-d11fab2e2f65"
      },
      "execution_count": 187,
      "outputs": [
        {
          "output_type": "stream",
          "name": "stdout",
          "text": [
            "(99982, 9)\n",
            "+------+-----+\n",
            "|gender|count|\n",
            "+------+-----+\n",
            "|     0|58552|\n",
            "|     1|41430|\n",
            "+------+-----+\n",
            "\n"
          ]
        }
      ]
    },
    {
      "cell_type": "code",
      "source": [
        "#assign in the 'smoking_history': \"never\" = 0, \"ever\" = 1, \"not current\" = 2, \"current\" = 3, \"former\" = 4\n",
        "test_df = test_df.withColumn(\"smoking_history\",\n",
        "    when(col(\"smoking_history\") == \"never\", 0).\n",
        "    when(col(\"smoking_history\") == \"ever\", 1).\n",
        "    when(col(\"smoking_history\") == \"not current\", 2).\n",
        "    when(col(\"smoking_history\") == \"current\", 3).\n",
        "    when(col(\"smoking_history\") == \"former\", 4).\n",
        "    otherwise(col(\"smoking_history\"))\n",
        ")\n",
        "test_df.show()"
      ],
      "metadata": {
        "colab": {
          "base_uri": "https://localhost:8080/"
        },
        "id": "cadBPDPbSvde",
        "outputId": "d7ab7a4a-2115-48ff-ad78-8a52628ef696"
      },
      "execution_count": 188,
      "outputs": [
        {
          "output_type": "stream",
          "name": "stdout",
          "text": [
            "+------+----+------------+-------------+---------------+-----+-----------+-------------------+--------+\n",
            "|gender| age|hypertension|heart_disease|smoking_history|  bmi|HbA1c_level|blood_glucose_level|diabetes|\n",
            "+------+----+------------+-------------+---------------+-----+-----------+-------------------+--------+\n",
            "|     0|80.0|           0|            1|              0|25.19|        6.6|                140|       0|\n",
            "|     0|54.0|           0|            0|        No Info|27.32|        6.6|                 80|       0|\n",
            "|     1|28.0|           0|            0|              0|27.32|        5.7|                158|       0|\n",
            "|     0|36.0|           0|            0|              3|23.45|        5.0|                155|       0|\n",
            "|     1|76.0|           1|            1|              3|20.14|        4.8|                155|       0|\n",
            "|     0|20.0|           0|            0|              0|27.32|        6.6|                 85|       0|\n",
            "|     0|44.0|           0|            0|              0|19.31|        6.5|                200|       1|\n",
            "|     0|79.0|           0|            0|        No Info|23.86|        5.7|                 85|       0|\n",
            "|     1|42.0|           0|            0|              0|33.64|        4.8|                145|       0|\n",
            "|     0|32.0|           0|            0|              0|27.32|        5.0|                100|       0|\n",
            "|     0|53.0|           0|            0|              0|27.32|        6.1|                 85|       0|\n",
            "|     0|54.0|           0|            0|              4| 54.7|        6.0|                100|       0|\n",
            "|     0|78.0|           0|            0|              4|36.05|        5.0|                130|       0|\n",
            "|     0|67.0|           0|            0|              0|25.69|        5.8|                200|       0|\n",
            "|     0|76.0|           0|            0|        No Info|27.32|        5.0|                160|       0|\n",
            "|     1|78.0|           0|            0|        No Info|27.32|        6.6|                126|       0|\n",
            "|     1|15.0|           0|            0|              0|30.36|        6.1|                200|       0|\n",
            "|     0|42.0|           0|            0|              0|24.48|        5.7|                158|       0|\n",
            "|     0|42.0|           0|            0|        No Info|27.32|        5.7|                 80|       0|\n",
            "|     1|37.0|           0|            0|              1|25.72|        3.5|                159|       0|\n",
            "+------+----+------------+-------------+---------------+-----+-----------+-------------------+--------+\n",
            "only showing top 20 rows\n",
            "\n"
          ]
        }
      ]
    },
    {
      "cell_type": "code",
      "source": [
        "#drop the 'other' rows in the gender columns\n",
        "string_to_remove_1= \"No Info\"\n",
        "test_df = test_df[test_df['smoking_history'] != string_to_remove_1]"
      ],
      "metadata": {
        "id": "f2DNXmhXVRmn"
      },
      "execution_count": 189,
      "outputs": []
    },
    {
      "cell_type": "code",
      "source": [
        "#count the total no. of smoker/non-smoker types\n",
        "print((test_df.count(), len(test_df.columns)))\n",
        "test_df.groupBy('smoking_history').count().show()"
      ],
      "metadata": {
        "colab": {
          "base_uri": "https://localhost:8080/"
        },
        "id": "oN08NT6bUwbY",
        "outputId": "be31519f-6a9a-47c4-9d06-97f580b22cf5"
      },
      "execution_count": 190,
      "outputs": [
        {
          "output_type": "stream",
          "name": "stdout",
          "text": [
            "(64172, 9)\n",
            "+---------------+-----+\n",
            "|smoking_history|count|\n",
            "+---------------+-----+\n",
            "|              3| 9286|\n",
            "|              0|35092|\n",
            "|              1| 4003|\n",
            "|              4| 9352|\n",
            "|              2| 6439|\n",
            "+---------------+-----+\n",
            "\n"
          ]
        }
      ]
    },
    {
      "cell_type": "code",
      "source": [
        "# gender and smoking_history needs to be converted to float data type for model to work\n",
        "test_df = test_df.withColumn(\"gender\", col(\"gender\").cast('float'))\n",
        "test_df = test_df.withColumn(\"smoking_history\", col(\"smoking_history\").cast('float'))\n",
        "test_df.show()"
      ],
      "metadata": {
        "colab": {
          "base_uri": "https://localhost:8080/"
        },
        "id": "JTi8Ik7vORWL",
        "outputId": "6e02d261-dd30-488a-cd03-1a2eae53b1e3"
      },
      "execution_count": 191,
      "outputs": [
        {
          "output_type": "stream",
          "name": "stdout",
          "text": [
            "+------+----+------------+-------------+---------------+-----+-----------+-------------------+--------+\n",
            "|gender| age|hypertension|heart_disease|smoking_history|  bmi|HbA1c_level|blood_glucose_level|diabetes|\n",
            "+------+----+------------+-------------+---------------+-----+-----------+-------------------+--------+\n",
            "|   0.0|80.0|           0|            1|            0.0|25.19|        6.6|                140|       0|\n",
            "|   1.0|28.0|           0|            0|            0.0|27.32|        5.7|                158|       0|\n",
            "|   0.0|36.0|           0|            0|            3.0|23.45|        5.0|                155|       0|\n",
            "|   1.0|76.0|           1|            1|            3.0|20.14|        4.8|                155|       0|\n",
            "|   0.0|20.0|           0|            0|            0.0|27.32|        6.6|                 85|       0|\n",
            "|   0.0|44.0|           0|            0|            0.0|19.31|        6.5|                200|       1|\n",
            "|   1.0|42.0|           0|            0|            0.0|33.64|        4.8|                145|       0|\n",
            "|   0.0|32.0|           0|            0|            0.0|27.32|        5.0|                100|       0|\n",
            "|   0.0|53.0|           0|            0|            0.0|27.32|        6.1|                 85|       0|\n",
            "|   0.0|54.0|           0|            0|            4.0| 54.7|        6.0|                100|       0|\n",
            "|   0.0|78.0|           0|            0|            4.0|36.05|        5.0|                130|       0|\n",
            "|   0.0|67.0|           0|            0|            0.0|25.69|        5.8|                200|       0|\n",
            "|   1.0|15.0|           0|            0|            0.0|30.36|        6.1|                200|       0|\n",
            "|   0.0|42.0|           0|            0|            0.0|24.48|        5.7|                158|       0|\n",
            "|   1.0|37.0|           0|            0|            1.0|25.72|        3.5|                159|       0|\n",
            "|   1.0|40.0|           0|            0|            3.0|36.38|        6.0|                 90|       0|\n",
            "|   0.0|69.0|           0|            0|            0.0|21.24|        4.8|                 85|       0|\n",
            "|   0.0|72.0|           0|            1|            4.0|27.94|        6.5|                130|       0|\n",
            "|   1.0|30.0|           0|            0|            0.0|33.76|        6.1|                126|       0|\n",
            "|   1.0|67.0|           0|            1|            2.0|27.32|        6.5|                200|       1|\n",
            "+------+----+------------+-------------+---------------+-----+-----------+-------------------+--------+\n",
            "only showing top 20 rows\n",
            "\n"
          ]
        }
      ]
    },
    {
      "cell_type": "code",
      "source": [
        "#print the schema\n",
        "test_df.printSchema()"
      ],
      "metadata": {
        "colab": {
          "base_uri": "https://localhost:8080/"
        },
        "id": "It6ogiW2Omf-",
        "outputId": "1216b4ea-88d4-4fc1-c96d-3a115d719f6d"
      },
      "execution_count": 192,
      "outputs": [
        {
          "output_type": "stream",
          "name": "stdout",
          "text": [
            "root\n",
            " |-- gender: float (nullable = true)\n",
            " |-- age: double (nullable = true)\n",
            " |-- hypertension: integer (nullable = true)\n",
            " |-- heart_disease: integer (nullable = true)\n",
            " |-- smoking_history: float (nullable = true)\n",
            " |-- bmi: double (nullable = true)\n",
            " |-- HbA1c_level: double (nullable = true)\n",
            " |-- blood_glucose_level: integer (nullable = true)\n",
            " |-- diabetes: integer (nullable = true)\n",
            "\n"
          ]
        }
      ]
    },
    {
      "cell_type": "code",
      "metadata": {
        "id": "J7jtGf4lRdaz"
      },
      "source": [
        "#create an additional feature merged column\n",
        "test_data = assembler.transform(test_df)"
      ],
      "execution_count": 193,
      "outputs": []
    },
    {
      "cell_type": "code",
      "metadata": {
        "id": "kd1glzOnRdkq",
        "colab": {
          "base_uri": "https://localhost:8080/"
        },
        "outputId": "83f59a4f-d1fa-479a-ddce-91fbf78e4453"
      },
      "source": [
        "#print the schema\n",
        "test_data.printSchema()"
      ],
      "execution_count": 194,
      "outputs": [
        {
          "output_type": "stream",
          "name": "stdout",
          "text": [
            "root\n",
            " |-- gender: float (nullable = true)\n",
            " |-- age: double (nullable = true)\n",
            " |-- hypertension: integer (nullable = true)\n",
            " |-- heart_disease: integer (nullable = true)\n",
            " |-- smoking_history: float (nullable = true)\n",
            " |-- bmi: double (nullable = true)\n",
            " |-- HbA1c_level: double (nullable = true)\n",
            " |-- blood_glucose_level: integer (nullable = true)\n",
            " |-- diabetes: integer (nullable = true)\n",
            " |-- features: vector (nullable = true)\n",
            "\n"
          ]
        }
      ]
    },
    {
      "cell_type": "code",
      "metadata": {
        "id": "40Dck7K_Rdxh",
        "colab": {
          "base_uri": "https://localhost:8080/"
        },
        "outputId": "f6d13d44-92c0-4df1-a7f6-92e54616e51d"
      },
      "source": [
        "#use model to make predictions\n",
        "results = model.transform(test_data)\n",
        "results.printSchema()"
      ],
      "execution_count": 195,
      "outputs": [
        {
          "output_type": "stream",
          "name": "stdout",
          "text": [
            "root\n",
            " |-- gender: float (nullable = true)\n",
            " |-- age: double (nullable = true)\n",
            " |-- hypertension: integer (nullable = true)\n",
            " |-- heart_disease: integer (nullable = true)\n",
            " |-- smoking_history: float (nullable = true)\n",
            " |-- bmi: double (nullable = true)\n",
            " |-- HbA1c_level: double (nullable = true)\n",
            " |-- blood_glucose_level: integer (nullable = true)\n",
            " |-- diabetes: integer (nullable = true)\n",
            " |-- features: vector (nullable = true)\n",
            " |-- rawPrediction: vector (nullable = true)\n",
            " |-- probability: vector (nullable = true)\n",
            " |-- prediction: double (nullable = false)\n",
            "\n"
          ]
        }
      ]
    },
    {
      "cell_type": "code",
      "metadata": {
        "id": "AHpfS2SjRd7s",
        "colab": {
          "base_uri": "https://localhost:8080/"
        },
        "outputId": "aa8be1a2-85d8-4563-af52-d37e2b1881a9"
      },
      "source": [
        "#display the predictions\n",
        "results.select('features','prediction').show()"
      ],
      "execution_count": 196,
      "outputs": [
        {
          "output_type": "stream",
          "name": "stdout",
          "text": [
            "+--------------------+----------+\n",
            "|            features|prediction|\n",
            "+--------------------+----------+\n",
            "|[0.0,80.0,0.0,1.0...|       0.0|\n",
            "|[1.0,28.0,0.0,0.0...|       0.0|\n",
            "|[0.0,36.0,0.0,0.0...|       0.0|\n",
            "|[1.0,76.0,1.0,1.0...|       0.0|\n",
            "|(8,[1,5,6,7],[20....|       0.0|\n",
            "|(8,[1,5,6,7],[44....|       0.0|\n",
            "|[1.0,42.0,0.0,0.0...|       0.0|\n",
            "|(8,[1,5,6,7],[32....|       0.0|\n",
            "|(8,[1,5,6,7],[53....|       0.0|\n",
            "|[0.0,54.0,0.0,0.0...|       0.0|\n",
            "|[0.0,78.0,0.0,0.0...|       0.0|\n",
            "|(8,[1,5,6,7],[67....|       0.0|\n",
            "|[1.0,15.0,0.0,0.0...|       0.0|\n",
            "|(8,[1,5,6,7],[42....|       0.0|\n",
            "|[1.0,37.0,0.0,0.0...|       0.0|\n",
            "|[1.0,40.0,0.0,0.0...|       0.0|\n",
            "|(8,[1,5,6,7],[69....|       0.0|\n",
            "|[0.0,72.0,0.0,1.0...|       0.0|\n",
            "|[1.0,30.0,0.0,0.0...|       0.0|\n",
            "|[1.0,67.0,0.0,1.0...|       1.0|\n",
            "+--------------------+----------+\n",
            "only showing top 20 rows\n",
            "\n"
          ]
        }
      ]
    }
  ]
}