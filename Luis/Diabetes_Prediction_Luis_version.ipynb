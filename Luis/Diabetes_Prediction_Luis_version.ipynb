{
  "nbformat": 4,
  "nbformat_minor": 0,
  "metadata": {
    "colab": {
      "provenance": [],
      "include_colab_link": true
    },
    "kernelspec": {
      "name": "python3",
      "display_name": "Python 3"
    }
  },
  "cells": [
    {
      "cell_type": "markdown",
      "metadata": {
        "id": "view-in-github",
        "colab_type": "text"
      },
      "source": [
        "<a href=\"https://colab.research.google.com/github/elluis1001/Project-4/blob/nidhis__fork/Luis/Diabetes_Prediction_Luis_version.ipynb\" target=\"_parent\"><img src=\"https://colab.research.google.com/assets/colab-badge.svg\" alt=\"Open In Colab\"/></a>"
      ]
    },
    {
      "cell_type": "markdown",
      "metadata": {
        "id": "Snq4iq_JOB4T"
      },
      "source": [
        "# PART 1 : Install Dependencies & Run Spark Session"
      ]
    },
    {
      "cell_type": "code",
      "metadata": {
        "id": "NpCRBcqtN5lH",
        "colab": {
          "base_uri": "https://localhost:8080/"
        },
        "outputId": "9390c05e-b624-4b6a-e88f-9dc8509add58"
      },
      "source": [
        "#install pyspark\n",
        "! pip install pyspark\n",
        "\n",
        "from pyspark.sql.functions import when, col"
      ],
      "execution_count": 1,
      "outputs": [
        {
          "output_type": "stream",
          "name": "stdout",
          "text": [
            "Requirement already satisfied: pyspark in /usr/local/lib/python3.10/dist-packages (3.5.1)\n",
            "Requirement already satisfied: py4j==0.10.9.7 in /usr/local/lib/python3.10/dist-packages (from pyspark) (0.10.9.7)\n"
          ]
        }
      ]
    },
    {
      "cell_type": "code",
      "metadata": {
        "id": "GNZoOuDqOdxX"
      },
      "source": [
        "#create a sparksession\n",
        "from pyspark.sql import SparkSession\n",
        "spark = SparkSession.builder.appName(\"spark\").getOrCreate()"
      ],
      "execution_count": 2,
      "outputs": []
    },
    {
      "cell_type": "markdown",
      "metadata": {
        "id": "5sG3MLXlOews"
      },
      "source": [
        "# PART 2: Clone & Explore dataset"
      ]
    },
    {
      "cell_type": "code",
      "source": [
        "# Cleanup code to remove Project-4 and model from /content directory so it can be cloned from github successfully\n",
        "import shutil\n",
        "import os\n",
        "\n",
        "# Specify the path to Project-4 to be deleted for cloning fresh repository\n",
        "directory_path = '/content/Project-4'\n",
        "\n",
        "# Check if the directory exists before attempting to delete it\n",
        "if os.path.exists(directory_path):\n",
        "    shutil.rmtree(directory_path)\n",
        "    print(f\"The directory {directory_path} has been deleted.\")\n",
        "else:\n",
        "    print(f\"The directory {directory_path} does not exist.\")\n",
        "\n",
        "# Specify the path to model to be deleted for cloning fresh repository\n",
        "directory_path = '/content/model'\n",
        "\n",
        "# Check if the directory exists before attempting to delete it\n",
        "if os.path.exists(directory_path):\n",
        "    shutil.rmtree(directory_path)\n",
        "    print(f\"The directory {directory_path} has been deleted.\")\n",
        "else:\n",
        "    print(f\"The directory {directory_path} does not exist.\")"
      ],
      "metadata": {
        "id": "IRXIUmI314Iw",
        "outputId": "4afb0c25-2b72-466b-c18c-ab09e47e76b5",
        "colab": {
          "base_uri": "https://localhost:8080/"
        }
      },
      "execution_count": 75,
      "outputs": [
        {
          "output_type": "stream",
          "name": "stdout",
          "text": [
            "The directory /content/Project-4 has been deleted.\n",
            "The directory /content/model does not exist.\n"
          ]
        }
      ]
    },
    {
      "cell_type": "code",
      "metadata": {
        "id": "-Uh5H7_KOoSL",
        "colab": {
          "base_uri": "https://localhost:8080/"
        },
        "outputId": "51ba8beb-3c53-43f4-e7f7-e823d5b19755"
      },
      "source": [
        "#clone the diabetes dataset from the github repository\n",
        "# if you get error saying \"Project-4 directory already exists, move to next cell\"\n",
        "! git clone -b nidhis__fork https://github.com/elluis1001/Project-4/"
      ],
      "execution_count": 76,
      "outputs": [
        {
          "output_type": "stream",
          "name": "stdout",
          "text": [
            "Cloning into 'Project-4'...\n",
            "remote: Enumerating objects: 221, done.\u001b[K\n",
            "remote: Counting objects: 100% (57/57), done.\u001b[K\n",
            "remote: Compressing objects: 100% (35/35), done.\u001b[K\n",
            "remote: Total 221 (delta 26), reused 37 (delta 13), pack-reused 164\u001b[K\n",
            "Receiving objects: 100% (221/221), 1.30 MiB | 11.57 MiB/s, done.\n",
            "Resolving deltas: 100% (108/108), done.\n"
          ]
        }
      ]
    },
    {
      "cell_type": "code",
      "metadata": {
        "id": "VcqwJRxVOutr",
        "colab": {
          "base_uri": "https://localhost:8080/"
        },
        "outputId": "3fd36fc9-10ae-42a9-f2c9-b78573ff1e8c"
      },
      "source": [
        "#check if the dataset exists\n",
        "! ls /content/Project-4/Luis/Dataset/"
      ],
      "execution_count": 5,
      "outputs": [
        {
          "output_type": "stream",
          "name": "stdout",
          "text": [
            "diabetes_prediction_dataset.csv  diabetes_test_dataset.csv\n"
          ]
        }
      ]
    },
    {
      "cell_type": "code",
      "metadata": {
        "id": "ST1rFFOlOu8s"
      },
      "source": [
        "#create spark dataframe\n",
        "df_diabetes_data = spark.read.csv(\"/content/Project-4/Luis/Dataset/diabetes_prediction_dataset.csv\", header=True, inferSchema=True)"
      ],
      "execution_count": 6,
      "outputs": []
    },
    {
      "cell_type": "code",
      "metadata": {
        "id": "IiJm-pmROvKd",
        "colab": {
          "base_uri": "https://localhost:8080/"
        },
        "outputId": "0fb185e6-9998-45c6-8d17-a59771f1d953"
      },
      "source": [
        "#display the dataframe\n",
        "df_diabetes_data.show()"
      ],
      "execution_count": 7,
      "outputs": [
        {
          "output_type": "stream",
          "name": "stdout",
          "text": [
            "+------+----+------------+-------------+---------------+-----+-----------+-------------------+--------+\n",
            "|gender| age|hypertension|heart_disease|smoking_history|  bmi|HbA1c_level|blood_glucose_level|diabetes|\n",
            "+------+----+------------+-------------+---------------+-----+-----------+-------------------+--------+\n",
            "|Female|80.0|           0|            1|          never|25.19|        6.6|                140|       0|\n",
            "|Female|54.0|           0|            0|        No Info|27.32|        6.6|                 80|       0|\n",
            "|  Male|28.0|           0|            0|          never|27.32|        5.7|                158|       0|\n",
            "|Female|36.0|           0|            0|        current|23.45|        5.0|                155|       0|\n",
            "|  Male|76.0|           1|            1|        current|20.14|        4.8|                155|       0|\n",
            "|Female|20.0|           0|            0|          never|27.32|        6.6|                 85|       0|\n",
            "|Female|44.0|           0|            0|          never|19.31|        6.5|                200|       1|\n",
            "|Female|79.0|           0|            0|        No Info|23.86|        5.7|                 85|       0|\n",
            "|  Male|42.0|           0|            0|          never|33.64|        4.8|                145|       0|\n",
            "|Female|32.0|           0|            0|          never|27.32|        5.0|                100|       0|\n",
            "|Female|53.0|           0|            0|          never|27.32|        6.1|                 85|       0|\n",
            "|Female|54.0|           0|            0|         former| 54.7|        6.0|                100|       0|\n",
            "|Female|78.0|           0|            0|         former|36.05|        5.0|                130|       0|\n",
            "|Female|67.0|           0|            0|          never|25.69|        5.8|                200|       0|\n",
            "|Female|76.0|           0|            0|        No Info|27.32|        5.0|                160|       0|\n",
            "|  Male|78.0|           0|            0|        No Info|27.32|        6.6|                126|       0|\n",
            "|  Male|15.0|           0|            0|          never|30.36|        6.1|                200|       0|\n",
            "|Female|42.0|           0|            0|          never|24.48|        5.7|                158|       0|\n",
            "|Female|42.0|           0|            0|        No Info|27.32|        5.7|                 80|       0|\n",
            "|  Male|37.0|           0|            0|           ever|25.72|        3.5|                159|       0|\n",
            "+------+----+------------+-------------+---------------+-----+-----------+-------------------+--------+\n",
            "only showing top 20 rows\n",
            "\n"
          ]
        }
      ]
    },
    {
      "cell_type": "code",
      "source": [
        "#show amount of rows\n",
        "df_diabetes_data.count()"
      ],
      "metadata": {
        "colab": {
          "base_uri": "https://localhost:8080/"
        },
        "id": "MKF7kv1AI2pw",
        "outputId": "cab67e56-a01b-49fb-d8ed-faa094511a99"
      },
      "execution_count": 8,
      "outputs": [
        {
          "output_type": "execute_result",
          "data": {
            "text/plain": [
              "100000"
            ]
          },
          "metadata": {},
          "execution_count": 8
        }
      ]
    },
    {
      "cell_type": "code",
      "metadata": {
        "id": "Ulqkuz8aOvV6",
        "colab": {
          "base_uri": "https://localhost:8080/"
        },
        "outputId": "08067cc9-3e51-4f0b-f171-60937cce547a"
      },
      "source": [
        "#print the schema\n",
        "df_diabetes_data.printSchema()"
      ],
      "execution_count": 9,
      "outputs": [
        {
          "output_type": "stream",
          "name": "stdout",
          "text": [
            "root\n",
            " |-- gender: string (nullable = true)\n",
            " |-- age: double (nullable = true)\n",
            " |-- hypertension: integer (nullable = true)\n",
            " |-- heart_disease: integer (nullable = true)\n",
            " |-- smoking_history: string (nullable = true)\n",
            " |-- bmi: double (nullable = true)\n",
            " |-- HbA1c_level: double (nullable = true)\n",
            " |-- blood_glucose_level: integer (nullable = true)\n",
            " |-- diabetes: integer (nullable = true)\n",
            "\n"
          ]
        }
      ]
    },
    {
      "cell_type": "code",
      "metadata": {
        "id": "kpZlF2S2Ovgw",
        "colab": {
          "base_uri": "https://localhost:8080/"
        },
        "outputId": "da1024e6-6c34-426f-df52-db246443664f"
      },
      "source": [
        "#count the total no. of diabetic and non-diabetic class (values of 1 indicating the presence of diabetes and 0 indicating the absence of diabetes)\n",
        "print((df_diabetes_data.count(), len(df_diabetes_data.columns)))\n",
        "df_diabetes_data.groupBy('diabetes').count().show()"
      ],
      "execution_count": 10,
      "outputs": [
        {
          "output_type": "stream",
          "name": "stdout",
          "text": [
            "(100000, 9)\n",
            "+--------+-----+\n",
            "|diabetes|count|\n",
            "+--------+-----+\n",
            "|       1| 8500|\n",
            "|       0|91500|\n",
            "+--------+-----+\n",
            "\n"
          ]
        }
      ]
    },
    {
      "cell_type": "code",
      "source": [
        "#count the total no. of gender types\n",
        "print((df_diabetes_data.count(), len(df_diabetes_data.columns)))\n",
        "df_diabetes_data.groupBy('gender').count().show()"
      ],
      "metadata": {
        "colab": {
          "base_uri": "https://localhost:8080/"
        },
        "id": "3f2sAuuh9iY7",
        "outputId": "a64593b5-0690-4911-9684-a88032d80c7e"
      },
      "execution_count": 11,
      "outputs": [
        {
          "output_type": "stream",
          "name": "stdout",
          "text": [
            "(100000, 9)\n",
            "+------+-----+\n",
            "|gender|count|\n",
            "+------+-----+\n",
            "|Female|58552|\n",
            "| Other|   18|\n",
            "|  Male|41430|\n",
            "+------+-----+\n",
            "\n"
          ]
        }
      ]
    },
    {
      "cell_type": "code",
      "source": [
        "#check to see if there are any empty values in the 'gender' column\n",
        "df_diabetes_data[df_diabetes_data['gender'] == '']"
      ],
      "metadata": {
        "colab": {
          "base_uri": "https://localhost:8080/"
        },
        "id": "muPOXP7dF2Jl",
        "outputId": "f3432c76-25d9-4a60-d5a9-c12cbee95400"
      },
      "execution_count": 12,
      "outputs": [
        {
          "output_type": "execute_result",
          "data": {
            "text/plain": [
              "DataFrame[gender: string, age: double, hypertension: int, heart_disease: int, smoking_history: string, bmi: double, HbA1c_level: double, blood_glucose_level: int, diabetes: int]"
            ]
          },
          "metadata": {},
          "execution_count": 12
        }
      ]
    },
    {
      "cell_type": "code",
      "metadata": {
        "id": "NewCNZEMOvtM",
        "colab": {
          "base_uri": "https://localhost:8080/"
        },
        "outputId": "c6a8d4fd-6d08-4cb9-d3f8-e22f5e0b17f6"
      },
      "source": [
        "#get the summary statistics\n",
        "df_diabetes_data.describe().show()"
      ],
      "execution_count": 13,
      "outputs": [
        {
          "output_type": "stream",
          "name": "stdout",
          "text": [
            "+-------+------+-----------------+------------------+------------------+---------------+-----------------+------------------+-------------------+-------------------+\n",
            "|summary|gender|              age|      hypertension|     heart_disease|smoking_history|              bmi|       HbA1c_level|blood_glucose_level|           diabetes|\n",
            "+-------+------+-----------------+------------------+------------------+---------------+-----------------+------------------+-------------------+-------------------+\n",
            "|  count|100000|           100000|            100000|            100000|         100000|           100000|            100000|             100000|             100000|\n",
            "|   mean|  NULL|41.88585600000013|           0.07485|           0.03942|           NULL|27.32076709999422|5.5275069999983275|          138.05806|              0.085|\n",
            "| stddev|  NULL|22.51683987161704|0.2631504702289171|0.1945930169980986|           NULL|6.636783416648357|1.0706720918835468|  40.70813604870383|0.27888308976661896|\n",
            "|    min|Female|             0.08|                 0|                 0|        No Info|            10.01|               3.5|                 80|                  0|\n",
            "|    max| Other|             80.0|                 1|                 1|    not current|            95.69|               9.0|                300|                  1|\n",
            "+-------+------+-----------------+------------------+------------------+---------------+-----------------+------------------+-------------------+-------------------+\n",
            "\n"
          ]
        }
      ]
    },
    {
      "cell_type": "markdown",
      "metadata": {
        "id": "gZerPOR-OyjQ"
      },
      "source": [
        "# PART 3: Data Cleaning & Preparation"
      ]
    },
    {
      "cell_type": "code",
      "metadata": {
        "id": "Q-KkJvV_PFFU",
        "colab": {
          "base_uri": "https://localhost:8080/"
        },
        "outputId": "4bc3bc6b-d4ad-4993-857d-71b2df6513c4"
      },
      "source": [
        "#check for null values\n",
        "for col in df_diabetes_data.columns:\n",
        "  print(col + \":\", df_diabetes_data[df_diabetes_data[col].isNull()].count())"
      ],
      "execution_count": 14,
      "outputs": [
        {
          "output_type": "stream",
          "name": "stdout",
          "text": [
            "gender: 0\n",
            "age: 0\n",
            "hypertension: 0\n",
            "heart_disease: 0\n",
            "smoking_history: 0\n",
            "bmi: 0\n",
            "HbA1c_level: 0\n",
            "blood_glucose_level: 0\n",
            "diabetes: 0\n"
          ]
        }
      ]
    },
    {
      "cell_type": "code",
      "metadata": {
        "id": "ZJsbgwZMPFQC"
      },
      "source": [
        "#look for the unnecessary values present\n",
        "def count_zeros():\n",
        "  columns_list = [\"age\", \"bmi\", \"HbA1c_level\", \"blood_glucose_level\"]\n",
        "  for i in columns_list:\n",
        "    print(i+\":\",df_diabetes_data[df_diabetes_data[i]==0].count())"
      ],
      "execution_count": 15,
      "outputs": []
    },
    {
      "cell_type": "code",
      "metadata": {
        "id": "pcXTErb9PFbo",
        "colab": {
          "base_uri": "https://localhost:8080/"
        },
        "outputId": "50f237f8-c702-4104-aca1-92d765e843c8"
      },
      "source": [
        "count_zeros()"
      ],
      "execution_count": 16,
      "outputs": [
        {
          "output_type": "stream",
          "name": "stdout",
          "text": [
            "age: 0\n",
            "bmi: 0\n",
            "HbA1c_level: 0\n",
            "blood_glucose_level: 0\n"
          ]
        }
      ]
    },
    {
      "cell_type": "code",
      "metadata": {
        "id": "C0bk0Ps_PFwk",
        "colab": {
          "base_uri": "https://localhost:8080/"
        },
        "outputId": "aba49d5b-a42d-40d8-e140-0beafa97a420"
      },
      "source": [
        "#display the dataframe\n",
        "df_diabetes_data.show()"
      ],
      "execution_count": 17,
      "outputs": [
        {
          "output_type": "stream",
          "name": "stdout",
          "text": [
            "+------+----+------------+-------------+---------------+-----+-----------+-------------------+--------+\n",
            "|gender| age|hypertension|heart_disease|smoking_history|  bmi|HbA1c_level|blood_glucose_level|diabetes|\n",
            "+------+----+------------+-------------+---------------+-----+-----------+-------------------+--------+\n",
            "|Female|80.0|           0|            1|          never|25.19|        6.6|                140|       0|\n",
            "|Female|54.0|           0|            0|        No Info|27.32|        6.6|                 80|       0|\n",
            "|  Male|28.0|           0|            0|          never|27.32|        5.7|                158|       0|\n",
            "|Female|36.0|           0|            0|        current|23.45|        5.0|                155|       0|\n",
            "|  Male|76.0|           1|            1|        current|20.14|        4.8|                155|       0|\n",
            "|Female|20.0|           0|            0|          never|27.32|        6.6|                 85|       0|\n",
            "|Female|44.0|           0|            0|          never|19.31|        6.5|                200|       1|\n",
            "|Female|79.0|           0|            0|        No Info|23.86|        5.7|                 85|       0|\n",
            "|  Male|42.0|           0|            0|          never|33.64|        4.8|                145|       0|\n",
            "|Female|32.0|           0|            0|          never|27.32|        5.0|                100|       0|\n",
            "|Female|53.0|           0|            0|          never|27.32|        6.1|                 85|       0|\n",
            "|Female|54.0|           0|            0|         former| 54.7|        6.0|                100|       0|\n",
            "|Female|78.0|           0|            0|         former|36.05|        5.0|                130|       0|\n",
            "|Female|67.0|           0|            0|          never|25.69|        5.8|                200|       0|\n",
            "|Female|76.0|           0|            0|        No Info|27.32|        5.0|                160|       0|\n",
            "|  Male|78.0|           0|            0|        No Info|27.32|        6.6|                126|       0|\n",
            "|  Male|15.0|           0|            0|          never|30.36|        6.1|                200|       0|\n",
            "|Female|42.0|           0|            0|          never|24.48|        5.7|                158|       0|\n",
            "|Female|42.0|           0|            0|        No Info|27.32|        5.7|                 80|       0|\n",
            "|  Male|37.0|           0|            0|           ever|25.72|        3.5|                159|       0|\n",
            "+------+----+------------+-------------+---------------+-----+-----------+-------------------+--------+\n",
            "only showing top 20 rows\n",
            "\n"
          ]
        }
      ]
    },
    {
      "cell_type": "code",
      "source": [
        "#drop the 'other' rows in the gender columns\n",
        "string_to_remove = \"Other\"\n",
        "df_diabetes_data = df_diabetes_data[df_diabetes_data['Gender'] != string_to_remove]"
      ],
      "metadata": {
        "id": "E1k77q7hKhIo"
      },
      "execution_count": 18,
      "outputs": []
    },
    {
      "cell_type": "code",
      "source": [
        "#count the total no. of gender types\n",
        "print((df_diabetes_data.count(), len(df_diabetes_data.columns)))\n",
        "df_diabetes_data.groupBy('gender').count().show()"
      ],
      "metadata": {
        "colab": {
          "base_uri": "https://localhost:8080/"
        },
        "id": "OXDmlg6KZgTn",
        "outputId": "baa17a43-e5de-4e90-e439-16a6171bddfb"
      },
      "execution_count": 19,
      "outputs": [
        {
          "output_type": "stream",
          "name": "stdout",
          "text": [
            "(99982, 9)\n",
            "+------+-----+\n",
            "|gender|count|\n",
            "+------+-----+\n",
            "|Female|58552|\n",
            "|  Male|41430|\n",
            "+------+-----+\n",
            "\n"
          ]
        }
      ]
    },
    {
      "cell_type": "code",
      "source": [
        "#count the total no. of smoker/non-smoker types\n",
        "print((df_diabetes_data.count(), len(df_diabetes_data.columns)))\n",
        "df_diabetes_data.groupBy('smoking_history').count().show()"
      ],
      "metadata": {
        "colab": {
          "base_uri": "https://localhost:8080/"
        },
        "id": "xwwTUAJLZ72A",
        "outputId": "dc7d9671-4d65-4a0e-98cf-7027ad20932f"
      },
      "execution_count": 20,
      "outputs": [
        {
          "output_type": "stream",
          "name": "stdout",
          "text": [
            "(99982, 9)\n",
            "+---------------+-----+\n",
            "|smoking_history|count|\n",
            "+---------------+-----+\n",
            "|    not current| 6439|\n",
            "|         former| 9352|\n",
            "|        No Info|35810|\n",
            "|        current| 9286|\n",
            "|          never|35092|\n",
            "|           ever| 4003|\n",
            "+---------------+-----+\n",
            "\n"
          ]
        }
      ]
    },
    {
      "cell_type": "code",
      "source": [
        "#drop the 'other' rows in the gender columns\n",
        "string_to_remove_1= \"No Info\"\n",
        "df_diabetes_data = df_diabetes_data[df_diabetes_data['smoking_history'] != string_to_remove_1]"
      ],
      "metadata": {
        "id": "KdN7OCA1cDnb"
      },
      "execution_count": 21,
      "outputs": []
    },
    {
      "cell_type": "code",
      "source": [
        "#count the total no. of smoker/non-smoker types\n",
        "print((df_diabetes_data.count(), len(df_diabetes_data.columns)))\n",
        "df_diabetes_data.groupBy('smoking_history').count().show()"
      ],
      "metadata": {
        "colab": {
          "base_uri": "https://localhost:8080/"
        },
        "id": "ZbxmgHOFcoEb",
        "outputId": "753ac4a7-e4a0-4d31-e2be-60a08d2d175e"
      },
      "execution_count": 22,
      "outputs": [
        {
          "output_type": "stream",
          "name": "stdout",
          "text": [
            "(64172, 9)\n",
            "+---------------+-----+\n",
            "|smoking_history|count|\n",
            "+---------------+-----+\n",
            "|    not current| 6439|\n",
            "|         former| 9352|\n",
            "|        current| 9286|\n",
            "|          never|35092|\n",
            "|           ever| 4003|\n",
            "+---------------+-----+\n",
            "\n"
          ]
        }
      ]
    },
    {
      "cell_type": "code",
      "source": [
        "#count the total no. of gender types\n",
        "print((df_diabetes_data.count(), len(df_diabetes_data.columns)))\n",
        "df_diabetes_data.groupBy('gender').count().show()"
      ],
      "metadata": {
        "colab": {
          "base_uri": "https://localhost:8080/"
        },
        "id": "ZKJc4_sLh_pJ",
        "outputId": "bb0b9305-a635-4128-fab6-141c6ed18987"
      },
      "execution_count": 23,
      "outputs": [
        {
          "output_type": "stream",
          "name": "stdout",
          "text": [
            "(64172, 9)\n",
            "+------+-----+\n",
            "|gender|count|\n",
            "+------+-----+\n",
            "|Female|38852|\n",
            "|  Male|25320|\n",
            "+------+-----+\n",
            "\n"
          ]
        }
      ]
    },
    {
      "cell_type": "code",
      "source": [
        "#assign in the 'gender'column 'Female' = 0, and 'Male' = 1\n",
        "from pyspark.sql.functions import when, col\n",
        "df_diabetes_data = df_diabetes_data.withColumn(\"gender\",\n",
        "    when(col(\"gender\") == \"Female\", 0).\n",
        "    when(col(\"gender\") == \"Male\", 1).\n",
        "    otherwise(col(\"gender\"))\n",
        ")\n",
        "df_diabetes_data.show()"
      ],
      "metadata": {
        "colab": {
          "base_uri": "https://localhost:8080/"
        },
        "id": "ZlK0I77Di1Yq",
        "outputId": "1bbfa3cf-dec7-4ea0-fb82-08ed12c4e912"
      },
      "execution_count": 24,
      "outputs": [
        {
          "output_type": "stream",
          "name": "stdout",
          "text": [
            "+------+----+------------+-------------+---------------+-----+-----------+-------------------+--------+\n",
            "|gender| age|hypertension|heart_disease|smoking_history|  bmi|HbA1c_level|blood_glucose_level|diabetes|\n",
            "+------+----+------------+-------------+---------------+-----+-----------+-------------------+--------+\n",
            "|     0|80.0|           0|            1|          never|25.19|        6.6|                140|       0|\n",
            "|     1|28.0|           0|            0|          never|27.32|        5.7|                158|       0|\n",
            "|     0|36.0|           0|            0|        current|23.45|        5.0|                155|       0|\n",
            "|     1|76.0|           1|            1|        current|20.14|        4.8|                155|       0|\n",
            "|     0|20.0|           0|            0|          never|27.32|        6.6|                 85|       0|\n",
            "|     0|44.0|           0|            0|          never|19.31|        6.5|                200|       1|\n",
            "|     1|42.0|           0|            0|          never|33.64|        4.8|                145|       0|\n",
            "|     0|32.0|           0|            0|          never|27.32|        5.0|                100|       0|\n",
            "|     0|53.0|           0|            0|          never|27.32|        6.1|                 85|       0|\n",
            "|     0|54.0|           0|            0|         former| 54.7|        6.0|                100|       0|\n",
            "|     0|78.0|           0|            0|         former|36.05|        5.0|                130|       0|\n",
            "|     0|67.0|           0|            0|          never|25.69|        5.8|                200|       0|\n",
            "|     1|15.0|           0|            0|          never|30.36|        6.1|                200|       0|\n",
            "|     0|42.0|           0|            0|          never|24.48|        5.7|                158|       0|\n",
            "|     1|37.0|           0|            0|           ever|25.72|        3.5|                159|       0|\n",
            "|     1|40.0|           0|            0|        current|36.38|        6.0|                 90|       0|\n",
            "|     0|69.0|           0|            0|          never|21.24|        4.8|                 85|       0|\n",
            "|     0|72.0|           0|            1|         former|27.94|        6.5|                130|       0|\n",
            "|     1|30.0|           0|            0|          never|33.76|        6.1|                126|       0|\n",
            "|     1|67.0|           0|            1|    not current|27.32|        6.5|                200|       1|\n",
            "+------+----+------------+-------------+---------------+-----+-----------+-------------------+--------+\n",
            "only showing top 20 rows\n",
            "\n"
          ]
        }
      ]
    },
    {
      "cell_type": "code",
      "source": [
        "#assign in the 'smoking_history': \"never\" = 0, \"ever\" = 1, \"not current\" = 2, \"current\" = 3, \"former\" = 4\n",
        "df_diabetes_data = df_diabetes_data.withColumn(\"smoking_history\",\n",
        "    when(col(\"smoking_history\") == \"never\", 0).\n",
        "    when(col(\"smoking_history\") == \"ever\", 1).\n",
        "    when(col(\"smoking_history\") == \"not current\", 2).\n",
        "    when(col(\"smoking_history\") == \"current\", 3).\n",
        "    when(col(\"smoking_history\") == \"former\", 4).\n",
        "    otherwise(col(\"smoking_history\"))\n",
        ")\n",
        "df_diabetes_data.show()"
      ],
      "metadata": {
        "colab": {
          "base_uri": "https://localhost:8080/"
        },
        "id": "j3RHqrEwlS_e",
        "outputId": "268050ac-c88f-4b94-bdde-e8a4423ab2e6"
      },
      "execution_count": 25,
      "outputs": [
        {
          "output_type": "stream",
          "name": "stdout",
          "text": [
            "+------+----+------------+-------------+---------------+-----+-----------+-------------------+--------+\n",
            "|gender| age|hypertension|heart_disease|smoking_history|  bmi|HbA1c_level|blood_glucose_level|diabetes|\n",
            "+------+----+------------+-------------+---------------+-----+-----------+-------------------+--------+\n",
            "|     0|80.0|           0|            1|              0|25.19|        6.6|                140|       0|\n",
            "|     1|28.0|           0|            0|              0|27.32|        5.7|                158|       0|\n",
            "|     0|36.0|           0|            0|              3|23.45|        5.0|                155|       0|\n",
            "|     1|76.0|           1|            1|              3|20.14|        4.8|                155|       0|\n",
            "|     0|20.0|           0|            0|              0|27.32|        6.6|                 85|       0|\n",
            "|     0|44.0|           0|            0|              0|19.31|        6.5|                200|       1|\n",
            "|     1|42.0|           0|            0|              0|33.64|        4.8|                145|       0|\n",
            "|     0|32.0|           0|            0|              0|27.32|        5.0|                100|       0|\n",
            "|     0|53.0|           0|            0|              0|27.32|        6.1|                 85|       0|\n",
            "|     0|54.0|           0|            0|              4| 54.7|        6.0|                100|       0|\n",
            "|     0|78.0|           0|            0|              4|36.05|        5.0|                130|       0|\n",
            "|     0|67.0|           0|            0|              0|25.69|        5.8|                200|       0|\n",
            "|     1|15.0|           0|            0|              0|30.36|        6.1|                200|       0|\n",
            "|     0|42.0|           0|            0|              0|24.48|        5.7|                158|       0|\n",
            "|     1|37.0|           0|            0|              1|25.72|        3.5|                159|       0|\n",
            "|     1|40.0|           0|            0|              3|36.38|        6.0|                 90|       0|\n",
            "|     0|69.0|           0|            0|              0|21.24|        4.8|                 85|       0|\n",
            "|     0|72.0|           0|            1|              4|27.94|        6.5|                130|       0|\n",
            "|     1|30.0|           0|            0|              0|33.76|        6.1|                126|       0|\n",
            "|     1|67.0|           0|            1|              2|27.32|        6.5|                200|       1|\n",
            "+------+----+------------+-------------+---------------+-----+-----------+-------------------+--------+\n",
            "only showing top 20 rows\n",
            "\n"
          ]
        }
      ]
    },
    {
      "cell_type": "markdown",
      "metadata": {
        "id": "LOgSTdBpPs7G"
      },
      "source": [
        "# PART 4: Correlation Analysis & Feature Selection"
      ]
    },
    {
      "cell_type": "code",
      "source": [
        "# gender and smoking_history needs to be converted to float data type for model to work\n",
        "df_diabetes_data = df_diabetes_data.withColumn(\"gender\", col(\"gender\").cast('float'))\n",
        "df_diabetes_data = df_diabetes_data.withColumn(\"smoking_history\", col(\"smoking_history\").cast('float'))\n",
        "df_diabetes_data.show()\n"
      ],
      "metadata": {
        "id": "PVQ4iahSjL63",
        "outputId": "1bc72500-53e2-4a6f-e893-235891ae40c1",
        "colab": {
          "base_uri": "https://localhost:8080/"
        }
      },
      "execution_count": 26,
      "outputs": [
        {
          "output_type": "stream",
          "name": "stdout",
          "text": [
            "+------+----+------------+-------------+---------------+-----+-----------+-------------------+--------+\n",
            "|gender| age|hypertension|heart_disease|smoking_history|  bmi|HbA1c_level|blood_glucose_level|diabetes|\n",
            "+------+----+------------+-------------+---------------+-----+-----------+-------------------+--------+\n",
            "|   0.0|80.0|           0|            1|            0.0|25.19|        6.6|                140|       0|\n",
            "|   1.0|28.0|           0|            0|            0.0|27.32|        5.7|                158|       0|\n",
            "|   0.0|36.0|           0|            0|            3.0|23.45|        5.0|                155|       0|\n",
            "|   1.0|76.0|           1|            1|            3.0|20.14|        4.8|                155|       0|\n",
            "|   0.0|20.0|           0|            0|            0.0|27.32|        6.6|                 85|       0|\n",
            "|   0.0|44.0|           0|            0|            0.0|19.31|        6.5|                200|       1|\n",
            "|   1.0|42.0|           0|            0|            0.0|33.64|        4.8|                145|       0|\n",
            "|   0.0|32.0|           0|            0|            0.0|27.32|        5.0|                100|       0|\n",
            "|   0.0|53.0|           0|            0|            0.0|27.32|        6.1|                 85|       0|\n",
            "|   0.0|54.0|           0|            0|            4.0| 54.7|        6.0|                100|       0|\n",
            "|   0.0|78.0|           0|            0|            4.0|36.05|        5.0|                130|       0|\n",
            "|   0.0|67.0|           0|            0|            0.0|25.69|        5.8|                200|       0|\n",
            "|   1.0|15.0|           0|            0|            0.0|30.36|        6.1|                200|       0|\n",
            "|   0.0|42.0|           0|            0|            0.0|24.48|        5.7|                158|       0|\n",
            "|   1.0|37.0|           0|            0|            1.0|25.72|        3.5|                159|       0|\n",
            "|   1.0|40.0|           0|            0|            3.0|36.38|        6.0|                 90|       0|\n",
            "|   0.0|69.0|           0|            0|            0.0|21.24|        4.8|                 85|       0|\n",
            "|   0.0|72.0|           0|            1|            4.0|27.94|        6.5|                130|       0|\n",
            "|   1.0|30.0|           0|            0|            0.0|33.76|        6.1|                126|       0|\n",
            "|   1.0|67.0|           0|            1|            2.0|27.32|        6.5|                200|       1|\n",
            "+------+----+------------+-------------+---------------+-----+-----------+-------------------+--------+\n",
            "only showing top 20 rows\n",
            "\n"
          ]
        }
      ]
    },
    {
      "cell_type": "code",
      "metadata": {
        "id": "7Eq6jdcFP_3C",
        "colab": {
          "base_uri": "https://localhost:8080/"
        },
        "outputId": "a6f0da29-89d1-4646-f468-e5381adfbdea"
      },
      "source": [
        "#find the correlation among the set of input & output variables\n",
        "for i in df_diabetes_data.columns:\n",
        "  print(\"Correlation to outcome for {} is {}\".format(i, df_diabetes_data.stat.corr(\"diabetes\",i)))"
      ],
      "execution_count": 27,
      "outputs": [
        {
          "output_type": "stream",
          "name": "stdout",
          "text": [
            "Correlation to outcome for gender is 0.05699689368565596\n",
            "Correlation to outcome for age is 0.26084962459224337\n",
            "Correlation to outcome for hypertension is 0.19222574901207254\n",
            "Correlation to outcome for heart_disease is 0.16961397731730365\n",
            "Correlation to outcome for smoking_history is 0.06472564826560573\n",
            "Correlation to outcome for bmi is 0.20442115545137657\n",
            "Correlation to outcome for HbA1c_level is 0.43889709468177335\n",
            "Correlation to outcome for blood_glucose_level is 0.449697968864106\n",
            "Correlation to outcome for diabetes is 1.0\n"
          ]
        }
      ]
    },
    {
      "cell_type": "code",
      "metadata": {
        "id": "Fl7Edj-OQACn"
      },
      "source": [
        "#feature selection\n",
        "from pyspark.ml.feature import VectorAssembler\n",
        "\n",
        "assembler = VectorAssembler(inputCols = ['gender', 'age', 'hypertension', 'heart_disease',\n",
        "                                         'smoking_history', 'bmi', 'HbA1c_level', 'blood_glucose_level'], outputCol='features')\n",
        "output_data = assembler.transform(df_diabetes_data)"
      ],
      "execution_count": 28,
      "outputs": []
    },
    {
      "cell_type": "code",
      "metadata": {
        "id": "mJKrfqdaQAOy",
        "colab": {
          "base_uri": "https://localhost:8080/"
        },
        "outputId": "daf64ed3-e97c-45ab-8f86-05110b84507a"
      },
      "source": [
        "#print the schema\n",
        "output_data.printSchema()"
      ],
      "execution_count": 29,
      "outputs": [
        {
          "output_type": "stream",
          "name": "stdout",
          "text": [
            "root\n",
            " |-- gender: float (nullable = true)\n",
            " |-- age: double (nullable = true)\n",
            " |-- hypertension: integer (nullable = true)\n",
            " |-- heart_disease: integer (nullable = true)\n",
            " |-- smoking_history: float (nullable = true)\n",
            " |-- bmi: double (nullable = true)\n",
            " |-- HbA1c_level: double (nullable = true)\n",
            " |-- blood_glucose_level: integer (nullable = true)\n",
            " |-- diabetes: integer (nullable = true)\n",
            " |-- features: vector (nullable = true)\n",
            "\n"
          ]
        }
      ]
    },
    {
      "cell_type": "code",
      "metadata": {
        "id": "FURl7qESQAaQ",
        "colab": {
          "base_uri": "https://localhost:8080/"
        },
        "outputId": "95a6fae1-f5d8-4b32-af6d-cb86a44cf99b"
      },
      "source": [
        "#display dataframe\n",
        "output_data.show()"
      ],
      "execution_count": 30,
      "outputs": [
        {
          "output_type": "stream",
          "name": "stdout",
          "text": [
            "+------+----+------------+-------------+---------------+-----+-----------+-------------------+--------+--------------------+\n",
            "|gender| age|hypertension|heart_disease|smoking_history|  bmi|HbA1c_level|blood_glucose_level|diabetes|            features|\n",
            "+------+----+------------+-------------+---------------+-----+-----------+-------------------+--------+--------------------+\n",
            "|   0.0|80.0|           0|            1|            0.0|25.19|        6.6|                140|       0|[0.0,80.0,0.0,1.0...|\n",
            "|   1.0|28.0|           0|            0|            0.0|27.32|        5.7|                158|       0|[1.0,28.0,0.0,0.0...|\n",
            "|   0.0|36.0|           0|            0|            3.0|23.45|        5.0|                155|       0|[0.0,36.0,0.0,0.0...|\n",
            "|   1.0|76.0|           1|            1|            3.0|20.14|        4.8|                155|       0|[1.0,76.0,1.0,1.0...|\n",
            "|   0.0|20.0|           0|            0|            0.0|27.32|        6.6|                 85|       0|(8,[1,5,6,7],[20....|\n",
            "|   0.0|44.0|           0|            0|            0.0|19.31|        6.5|                200|       1|(8,[1,5,6,7],[44....|\n",
            "|   1.0|42.0|           0|            0|            0.0|33.64|        4.8|                145|       0|[1.0,42.0,0.0,0.0...|\n",
            "|   0.0|32.0|           0|            0|            0.0|27.32|        5.0|                100|       0|(8,[1,5,6,7],[32....|\n",
            "|   0.0|53.0|           0|            0|            0.0|27.32|        6.1|                 85|       0|(8,[1,5,6,7],[53....|\n",
            "|   0.0|54.0|           0|            0|            4.0| 54.7|        6.0|                100|       0|[0.0,54.0,0.0,0.0...|\n",
            "|   0.0|78.0|           0|            0|            4.0|36.05|        5.0|                130|       0|[0.0,78.0,0.0,0.0...|\n",
            "|   0.0|67.0|           0|            0|            0.0|25.69|        5.8|                200|       0|(8,[1,5,6,7],[67....|\n",
            "|   1.0|15.0|           0|            0|            0.0|30.36|        6.1|                200|       0|[1.0,15.0,0.0,0.0...|\n",
            "|   0.0|42.0|           0|            0|            0.0|24.48|        5.7|                158|       0|(8,[1,5,6,7],[42....|\n",
            "|   1.0|37.0|           0|            0|            1.0|25.72|        3.5|                159|       0|[1.0,37.0,0.0,0.0...|\n",
            "|   1.0|40.0|           0|            0|            3.0|36.38|        6.0|                 90|       0|[1.0,40.0,0.0,0.0...|\n",
            "|   0.0|69.0|           0|            0|            0.0|21.24|        4.8|                 85|       0|(8,[1,5,6,7],[69....|\n",
            "|   0.0|72.0|           0|            1|            4.0|27.94|        6.5|                130|       0|[0.0,72.0,0.0,1.0...|\n",
            "|   1.0|30.0|           0|            0|            0.0|33.76|        6.1|                126|       0|[1.0,30.0,0.0,0.0...|\n",
            "|   1.0|67.0|           0|            1|            2.0|27.32|        6.5|                200|       1|[1.0,67.0,0.0,1.0...|\n",
            "+------+----+------------+-------------+---------------+-----+-----------+-------------------+--------+--------------------+\n",
            "only showing top 20 rows\n",
            "\n"
          ]
        }
      ]
    },
    {
      "cell_type": "markdown",
      "metadata": {
        "id": "8fSjOdfyQA99"
      },
      "source": [
        "# PART 5: Split Dataset & Build the Model"
      ]
    },
    {
      "cell_type": "code",
      "metadata": {
        "id": "F89--FiVQQJn"
      },
      "source": [
        "#create final data\n",
        "from pyspark.ml.classification import LogisticRegression\n",
        "\n",
        "final_data = output_data.select('features','diabetes')"
      ],
      "execution_count": 31,
      "outputs": []
    },
    {
      "cell_type": "code",
      "metadata": {
        "id": "cKpm5912Qji_",
        "colab": {
          "base_uri": "https://localhost:8080/"
        },
        "outputId": "94591746-1e7a-4ce3-eecf-2a2a6e4d521e"
      },
      "source": [
        "#print schema of final data\n",
        "final_data.printSchema()"
      ],
      "execution_count": 32,
      "outputs": [
        {
          "output_type": "stream",
          "name": "stdout",
          "text": [
            "root\n",
            " |-- features: vector (nullable = true)\n",
            " |-- diabetes: integer (nullable = true)\n",
            "\n"
          ]
        }
      ]
    },
    {
      "cell_type": "code",
      "metadata": {
        "id": "r_Nom7aZQjuN"
      },
      "source": [
        "#split the dataset ; build the model\n",
        "train, test = final_data.randomSplit([0.7, 0.3])\n",
        "models = LogisticRegression(labelCol= 'diabetes')\n",
        "model = models.fit(train)"
      ],
      "execution_count": 33,
      "outputs": []
    },
    {
      "cell_type": "code",
      "metadata": {
        "id": "OljO2HcIQj7E",
        "colab": {
          "base_uri": "https://localhost:8080/"
        },
        "outputId": "3bbf29c1-31ac-4901-eb47-d2e6dc38141d"
      },
      "source": [
        "#summary of the model\n",
        "summary = model.summary\n",
        "summary.predictions.describe().show()"
      ],
      "execution_count": 34,
      "outputs": [
        {
          "output_type": "stream",
          "name": "stdout",
          "text": [
            "+-------+-------------------+-------------------+\n",
            "|summary|           diabetes|         prediction|\n",
            "+-------+-------------------+-------------------+\n",
            "|  count|              44868|              44868|\n",
            "|   mean| 0.1104127663368102| 0.0823303913702416|\n",
            "| stddev|0.31340704609705544|0.27487048211743786|\n",
            "|    min|                0.0|                0.0|\n",
            "|    max|                1.0|                1.0|\n",
            "+-------+-------------------+-------------------+\n",
            "\n"
          ]
        }
      ]
    },
    {
      "cell_type": "markdown",
      "metadata": {
        "id": "DfaD_vzfQkah"
      },
      "source": [
        "# PART 6: Evaluate and Save the Model"
      ]
    },
    {
      "cell_type": "code",
      "metadata": {
        "id": "CHC5Erq7Q4QN"
      },
      "source": [
        "from pyspark.ml.evaluation import BinaryClassificationEvaluator\n",
        "\n",
        "predictions = model.evaluate(test)"
      ],
      "execution_count": 35,
      "outputs": []
    },
    {
      "cell_type": "code",
      "metadata": {
        "id": "UBltVqoNQ4cM",
        "colab": {
          "base_uri": "https://localhost:8080/"
        },
        "outputId": "fb98d366-a1c2-4489-a92d-9fcf746e5de7"
      },
      "source": [
        "predictions.predictions.show(100)"
      ],
      "execution_count": 36,
      "outputs": [
        {
          "output_type": "stream",
          "name": "stdout",
          "text": [
            "+--------------------+--------+--------------------+--------------------+----------+\n",
            "|            features|diabetes|       rawPrediction|         probability|prediction|\n",
            "+--------------------+--------+--------------------+--------------------+----------+\n",
            "|(8,[1,5,6,7],[0.6...|       0|[6.58204518252607...|[0.99861690181979...|       0.0|\n",
            "|(8,[1,5,6,7],[0.7...|       0|[6.63704300432045...|[0.99869081836577...|       0.0|\n",
            "|(8,[1,5,6,7],[0.8...|       0|[8.17348510230824...|[0.99971804613393...|       0.0|\n",
            "|(8,[1,5,6,7],[0.8...|       0|[5.15747412862429...|[0.99427672363048...|       0.0|\n",
            "|(8,[1,5,6,7],[0.8...|       0|[5.74630364996391...|[0.99681560552385...|       0.0|\n",
            "|(8,[1,5,6,7],[0.8...|       0|[7.14194882982926...|[0.99920941685426...|       0.0|\n",
            "|(8,[1,5,6,7],[1.0...|       0|[6.21087418590202...|[0.99799654012469...|       0.0|\n",
            "|(8,[1,5,6,7],[1.0...|       0|[11.7783895656061...|[0.99999233155908...|       0.0|\n",
            "|(8,[1,5,6,7],[1.0...|       0|[6.74305181811772...|[0.99882234507196...|       0.0|\n",
            "|(8,[1,5,6,7],[1.1...|       0|[9.21081166466796...|[0.99990005710774...|       0.0|\n",
            "|(8,[1,5,6,7],[1.2...|       0|[7.39609898940014...|[0.99938673440380...|       0.0|\n",
            "|(8,[1,5,6,7],[1.3...|       0|[10.6439076195225...|[0.99997615489171...|       0.0|\n",
            "|(8,[1,5,6,7],[1.3...|       0|[7.94608238453050...|[0.99964607883534...|       0.0|\n",
            "|(8,[1,5,6,7],[1.3...|       0|[12.1914801964612...|[0.99999492652854...|       0.0|\n",
            "|(8,[1,5,6,7],[1.3...|       0|[9.87288680789590...|[0.99994844896964...|       0.0|\n",
            "|(8,[1,5,6,7],[1.4...|       0|[6.68434204275639...|[0.99875122423912...|       0.0|\n",
            "|(8,[1,5,6,7],[1.4...|       0|[5.74094149856871...|[0.99679853926914...|       0.0|\n",
            "|(8,[1,5,6,7],[1.5...|       0|[5.38679004944728...|[0.99544420964246...|       0.0|\n",
            "|(8,[1,5,6,7],[1.5...|       0|[7.38757237546579...|[0.99938148621625...|       0.0|\n",
            "|(8,[1,5,6,7],[1.6...|       0|[7.96887058885318...|[0.99965405010260...|       0.0|\n",
            "|(8,[1,5,6,7],[1.7...|       0|[7.50067796066785...|[0.99944759579129...|       0.0|\n",
            "|(8,[1,5,6,7],[1.7...|       0|[7.87054457953480...|[0.99961831936498...|       0.0|\n",
            "|(8,[1,5,6,7],[1.8...|       0|[5.91690836389325...|[0.99731372084747...|       0.0|\n",
            "|(8,[1,5,6,7],[1.8...|       0|[6.39179477910008...|[0.99832755495457...|       0.0|\n",
            "|(8,[1,5,6,7],[1.8...|       0|[10.7753743264543...|[0.99997909234575...|       0.0|\n",
            "|(8,[1,5,6,7],[2.0...|       0|[11.1633697839082...|[0.99998581582949...|       0.0|\n",
            "|(8,[1,5,6,7],[2.0...|       0|[9.78309142485463...|[0.99994360600182...|       0.0|\n",
            "|(8,[1,5,6,7],[2.0...|       0|[11.5436299576514...|[0.99999030247301...|       0.0|\n",
            "|(8,[1,5,6,7],[2.0...|       0|[4.52758072496518...|[0.98930874902639...|       0.0|\n",
            "|(8,[1,5,6,7],[2.0...|       0|[8.60316430360293...|[0.99981650952715...|       0.0|\n",
            "|(8,[1,5,6,7],[2.0...|       0|[14.5542644377082...|[0.99999952229140...|       0.0|\n",
            "|(8,[1,5,6,7],[2.0...|       0|[11.0358217065247...|[0.99998388625333...|       0.0|\n",
            "|(8,[1,5,6,7],[2.0...|       0|[6.13297500981141...|[0.99783458396874...|       0.0|\n",
            "|(8,[1,5,6,7],[2.0...|       0|[10.8418349159822...|[0.99998043668598...|       0.0|\n",
            "|(8,[1,5,6,7],[2.0...|       0|[4.36857031213840...|[0.98748916322628...|       0.0|\n",
            "|(8,[1,5,6,7],[2.0...|       0|[9.77124094587746...|[0.99994293376879...|       0.0|\n",
            "|(8,[1,5,6,7],[2.0...|       0|[3.12106647804665...|[0.95775340087711...|       0.0|\n",
            "|(8,[1,5,6,7],[2.0...|       0|[7.68568780333422...|[0.99954085617492...|       0.0|\n",
            "|(8,[1,5,6,7],[2.0...|       0|[9.01456498272947...|[0.99987838942183...|       0.0|\n",
            "|(8,[1,5,6,7],[2.0...|       0|[8.18723326375001...|[0.99972189488592...|       0.0|\n",
            "|(8,[1,5,6,7],[2.0...|       0|[5.14156126232496...|[0.99418545520589...|       0.0|\n",
            "|(8,[1,5,6,7],[2.0...|       0|[4.28095931097865...|[0.98635925414489...|       0.0|\n",
            "|(8,[1,5,6,7],[3.0...|       0|[11.6977261724441...|[0.99999168736976...|       0.0|\n",
            "|(8,[1,5,6,7],[3.0...|       0|[4.83474754171468...|[0.99211398871127...|       0.0|\n",
            "|(8,[1,5,6,7],[3.0...|       0|[7.36864342307512...|[0.99936967433746...|       0.0|\n",
            "|(8,[1,5,6,7],[3.0...|       0|[6.96210914813323...|[0.99905379924498...|       0.0|\n",
            "|(8,[1,5,6,7],[3.0...|       0|[9.51712358358013...|[0.99992642440389...|       0.0|\n",
            "|(8,[1,5,6,7],[3.0...|       0|[9.41939914741387...|[0.99991887182762...|       0.0|\n",
            "|(8,[1,5,6,7],[3.0...|       0|[6.02009434582914...|[0.99757644749965...|       0.0|\n",
            "|(8,[1,5,6,7],[3.0...|       0|[12.0978119736682...|[0.99999442834012...|       0.0|\n",
            "|(8,[1,5,6,7],[3.0...|       0|[7.15756943811202...|[0.99922166075433...|       0.0|\n",
            "|(8,[1,5,6,7],[3.0...|       0|[13.1363954873409...|[0.99999802787212...|       0.0|\n",
            "|(8,[1,5,6,7],[3.0...|       0|[8.46816313787982...|[0.99978999372908...|       0.0|\n",
            "|(8,[1,5,6,7],[3.0...|       0|[7.24195847821846...|[0.99928460386260...|       0.0|\n",
            "|(8,[1,5,6,7],[3.0...|       0|[12.0789168823239...|[0.99999432206280...|       0.0|\n",
            "|(8,[1,5,6,7],[3.0...|       0|[7.30485911651815...|[0.99932818741980...|       0.0|\n",
            "|(8,[1,5,6,7],[3.0...|       0|[11.5318248768804...|[0.99999018731566...|       0.0|\n",
            "|(8,[1,5,6,7],[3.0...|       0|[6.52421304451556...|[0.99853467679391...|       0.0|\n",
            "|(8,[1,5,6,7],[3.0...|       0|[8.96328066030820...|[0.99987199083277...|       0.0|\n",
            "|(8,[1,5,6,7],[3.0...|       0|[7.22185443921375...|[0.99927008656946...|       0.0|\n",
            "|(8,[1,5,6,7],[3.0...|       0|[8.43985986397821...|[0.99978396625185...|       0.0|\n",
            "|(8,[1,5,6,7],[3.0...|       0|[8.10863223704031...|[0.99969916033873...|       0.0|\n",
            "|(8,[1,5,6,7],[3.0...|       0|[6.65226296622495...|[0.99871056769429...|       0.0|\n",
            "|(8,[1,5,6,7],[4.0...|       0|[8.24532003343043...|[0.99973758477568...|       0.0|\n",
            "|(8,[1,5,6,7],[4.0...|       0|[9.75829920636595...|[0.99994219047581...|       0.0|\n",
            "|(8,[1,5,6,7],[4.0...|       0|[11.8321785298810...|[0.99999273313654...|       0.0|\n",
            "|(8,[1,5,6,7],[4.0...|       0|[7.84827271478868...|[0.99960972660997...|       0.0|\n",
            "|(8,[1,5,6,7],[4.0...|       0|[7.08911269751754...|[0.99916655803559...|       0.0|\n",
            "|(8,[1,5,6,7],[4.0...|       0|[8.50826789961496...|[0.99979824766402...|       0.0|\n",
            "|(8,[1,5,6,7],[4.0...|       0|[5.92264675648724...|[0.99732905057332...|       0.0|\n",
            "|(8,[1,5,6,7],[4.0...|       0|[8.66043080072770...|[0.99982672040211...|       0.0|\n",
            "|(8,[1,5,6,7],[4.0...|       0|[8.58423933468536...|[0.99981300456395...|       0.0|\n",
            "|(8,[1,5,6,7],[4.0...|       0|[8.49530000420014...|[0.99979561486150...|       0.0|\n",
            "|(8,[1,5,6,7],[4.0...|       0|[9.35517091465141...|[0.99991349059553...|       0.0|\n",
            "|(8,[1,5,6,7],[4.0...|       0|[6.17055704165810...|[0.99791428786798...|       0.0|\n",
            "|(8,[1,5,6,7],[4.0...|       0|[5.99062642020534...|[0.99750414866455...|       0.0|\n",
            "|(8,[1,5,6,7],[4.0...|       0|[10.8273241854166...|[0.99998015074404...|       0.0|\n",
            "|(8,[1,5,6,7],[4.0...|       1|[5.39814680456652...|[0.99549542420960...|       0.0|\n",
            "|(8,[1,5,6,7],[4.0...|       0|[6.81803815773500...|[0.99890733042397...|       0.0|\n",
            "|(8,[1,5,6,7],[4.0...|       0|[4.72089918301684...|[0.99117147139352...|       0.0|\n",
            "|(8,[1,5,6,7],[4.0...|       0|[7.59855047727298...|[0.99949907367776...|       0.0|\n",
            "|(8,[1,5,6,7],[5.0...|       0|[6.65191301445085...|[0.99871011695835...|       0.0|\n",
            "|(8,[1,5,6,7],[5.0...|       0|[9.61057816918167...|[0.99993298842437...|       0.0|\n",
            "|(8,[1,5,6,7],[5.0...|       0|[5.31037940680920...|[0.99508423207683...|       0.0|\n",
            "|(8,[1,5,6,7],[5.0...|       0|[11.7652067063691...|[0.99999222979862...|       0.0|\n",
            "|(8,[1,5,6,7],[5.0...|       0|[10.9386123357550...|[0.99998224121251...|       0.0|\n",
            "|(8,[1,5,6,7],[5.0...|       0|[11.9579348707579...|[0.99999359185857...|       0.0|\n",
            "|(8,[1,5,6,7],[5.0...|       0|[7.25613734958393...|[0.99929466869527...|       0.0|\n",
            "|(8,[1,5,6,7],[5.0...|       0|[4.76783884152551...|[0.99157289226765...|       0.0|\n",
            "|(8,[1,5,6,7],[5.0...|       0|[6.87494778948521...|[0.99896771512415...|       0.0|\n",
            "|(8,[1,5,6,7],[5.0...|       0|[5.20727584818925...|[0.99455325708206...|       0.0|\n",
            "|(8,[1,5,6,7],[5.0...|       0|[11.8186318060150...|[0.99999263402528...|       0.0|\n",
            "|(8,[1,5,6,7],[5.0...|       0|[9.30083258906712...|[0.99990866019937...|       0.0|\n",
            "|(8,[1,5,6,7],[5.0...|       0|[6.36892059208144...|[0.99828892445616...|       0.0|\n",
            "|(8,[1,5,6,7],[5.0...|       0|[10.5195627947695...|[0.99997299773475...|       0.0|\n",
            "|(8,[1,5,6,7],[5.0...|       0|[10.0346249611762...|[0.99995614706089...|       0.0|\n",
            "|(8,[1,5,6,7],[5.0...|       0|[5.06783272351138...|[0.99374334159076...|       0.0|\n",
            "|(8,[1,5,6,7],[5.0...|       0|[4.33986929261329...|[0.98712957530149...|       0.0|\n",
            "|(8,[1,5,6,7],[6.0...|       0|[12.0658730238324...|[0.99999424751588...|       0.0|\n",
            "|(8,[1,5,6,7],[6.0...|       0|[11.3681018845776...|[0.99998844177719...|       0.0|\n",
            "+--------------------+--------+--------------------+--------------------+----------+\n",
            "only showing top 100 rows\n",
            "\n"
          ]
        }
      ]
    },
    {
      "cell_type": "code",
      "metadata": {
        "id": "A4BHCxCiQ4l-",
        "colab": {
          "base_uri": "https://localhost:8080/"
        },
        "outputId": "7ff05299-152f-4f70-a4ad-dd96c0735b39"
      },
      "source": [
        "evaluator = BinaryClassificationEvaluator(rawPredictionCol= 'rawPrediction', labelCol='diabetes')\n",
        "evaluator.evaluate(model.transform(test))"
      ],
      "execution_count": 37,
      "outputs": [
        {
          "output_type": "execute_result",
          "data": {
            "text/plain": [
              "0.9567881183877665"
            ]
          },
          "metadata": {},
          "execution_count": 37
        }
      ]
    },
    {
      "cell_type": "code",
      "metadata": {
        "id": "ERpRUFOHQ4x5"
      },
      "source": [
        "# save model\n",
        "model.save(\"model\")"
      ],
      "execution_count": 38,
      "outputs": []
    },
    {
      "cell_type": "code",
      "metadata": {
        "id": "4zSA9_KCQ47W"
      },
      "source": [
        "# load saved model back to the environment\n",
        "from pyspark.ml.classification import LogisticRegressionModel\n",
        "\n",
        "model = LogisticRegressionModel.load('model')"
      ],
      "execution_count": 39,
      "outputs": []
    },
    {
      "cell_type": "markdown",
      "metadata": {
        "id": "Iznukr-xRANo"
      },
      "source": [
        "# PART 7: Prediction on New Data with the saved model\n"
      ]
    },
    {
      "cell_type": "code",
      "metadata": {
        "id": "MBq2hq27RdHB"
      },
      "source": [
        "#create a new spark dataframe\n",
        "test_df = spark.read.csv('/content/Project-4/Nidhi/dataset/diabetes_test_dataset.csv', header=True, inferSchema=True)"
      ],
      "execution_count": 40,
      "outputs": []
    },
    {
      "cell_type": "code",
      "metadata": {
        "id": "co8K0NZsRdQB",
        "colab": {
          "base_uri": "https://localhost:8080/"
        },
        "outputId": "9c0d3863-f248-429b-a848-0365eccc469e"
      },
      "source": [
        "#print the schema\n",
        "test_df.printSchema()"
      ],
      "execution_count": 41,
      "outputs": [
        {
          "output_type": "stream",
          "name": "stdout",
          "text": [
            "root\n",
            " |-- gender: integer (nullable = true)\n",
            " |-- age: integer (nullable = true)\n",
            " |-- hypertension: integer (nullable = true)\n",
            " |-- heart_disease: integer (nullable = true)\n",
            " |-- smoking_history: integer (nullable = true)\n",
            " |-- bmi: double (nullable = true)\n",
            " |-- HbA1c_level: double (nullable = true)\n",
            " |-- blood_glucose_level: integer (nullable = true)\n",
            "\n"
          ]
        }
      ]
    },
    {
      "cell_type": "code",
      "metadata": {
        "id": "J7jtGf4lRdaz"
      },
      "source": [
        "#create an additional feature merged column\n",
        "test_data = assembler.transform(test_df)"
      ],
      "execution_count": 42,
      "outputs": []
    },
    {
      "cell_type": "code",
      "metadata": {
        "id": "kd1glzOnRdkq",
        "colab": {
          "base_uri": "https://localhost:8080/"
        },
        "outputId": "596f0242-eb69-46b7-a312-ce8e14e9c34b"
      },
      "source": [
        "#print the schema\n",
        "test_data.printSchema()"
      ],
      "execution_count": 43,
      "outputs": [
        {
          "output_type": "stream",
          "name": "stdout",
          "text": [
            "root\n",
            " |-- gender: integer (nullable = true)\n",
            " |-- age: integer (nullable = true)\n",
            " |-- hypertension: integer (nullable = true)\n",
            " |-- heart_disease: integer (nullable = true)\n",
            " |-- smoking_history: integer (nullable = true)\n",
            " |-- bmi: double (nullable = true)\n",
            " |-- HbA1c_level: double (nullable = true)\n",
            " |-- blood_glucose_level: integer (nullable = true)\n",
            " |-- features: vector (nullable = true)\n",
            "\n"
          ]
        }
      ]
    },
    {
      "cell_type": "code",
      "metadata": {
        "id": "40Dck7K_Rdxh",
        "colab": {
          "base_uri": "https://localhost:8080/"
        },
        "outputId": "ab138b33-d8b3-480d-9a7e-fa2f8980ffa2"
      },
      "source": [
        "#use model to make predictions\n",
        "results = model.transform(test_data)\n",
        "results.printSchema()"
      ],
      "execution_count": 44,
      "outputs": [
        {
          "output_type": "stream",
          "name": "stdout",
          "text": [
            "root\n",
            " |-- gender: integer (nullable = true)\n",
            " |-- age: integer (nullable = true)\n",
            " |-- hypertension: integer (nullable = true)\n",
            " |-- heart_disease: integer (nullable = true)\n",
            " |-- smoking_history: integer (nullable = true)\n",
            " |-- bmi: double (nullable = true)\n",
            " |-- HbA1c_level: double (nullable = true)\n",
            " |-- blood_glucose_level: integer (nullable = true)\n",
            " |-- features: vector (nullable = true)\n",
            " |-- rawPrediction: vector (nullable = true)\n",
            " |-- probability: vector (nullable = true)\n",
            " |-- prediction: double (nullable = false)\n",
            "\n"
          ]
        }
      ]
    },
    {
      "cell_type": "code",
      "metadata": {
        "id": "AHpfS2SjRd7s",
        "colab": {
          "base_uri": "https://localhost:8080/"
        },
        "outputId": "1ee5acf1-d308-4a47-9cca-1c6560490867"
      },
      "source": [
        "#display the predictions\n",
        "results.select('features','rawPrediction','probability','prediction').show()"
      ],
      "execution_count": 45,
      "outputs": [
        {
          "output_type": "stream",
          "name": "stdout",
          "text": [
            "+--------------------+--------------------+--------------------+----------+\n",
            "|            features|       rawPrediction|         probability|prediction|\n",
            "+--------------------+--------------------+--------------------+----------+\n",
            "|[0.0,80.0,1.0,1.0...|[-0.2906218295476...|[0.42785163971969...|       1.0|\n",
            "|[1.0,28.0,0.0,0.0...|[4.60810800428621...|[0.99012776779078...|       0.0|\n",
            "|[0.0,36.0,0.0,0.0...|[6.53897133006838...|[0.99855611265981...|       0.0|\n",
            "|[1.0,76.0,1.0,1.0...|[3.62954742510498...|[0.97415737044289...|       0.0|\n",
            "|(8,[1,5,6,7],[20....|[5.62736473323490...|[0.99641485486005...|       0.0|\n",
            "|(8,[1,5,6,7],[44....|[1.63385334407431...|[0.83669682472404...|       0.0|\n",
            "|[1.0,42.0,0.0,0.0...|[5.91567976330977...|[0.99731042733712...|       0.0|\n",
            "|(8,[1,5,6,7],[32....|[8.27801694295898...|[0.99974602404256...|       0.0|\n",
            "+--------------------+--------------------+--------------------+----------+\n",
            "\n"
          ]
        }
      ]
    },
    {
      "cell_type": "markdown",
      "source": [
        "# PART 8: Host a Flask App which will take subjects parameters and return probablity and prediction on being diabetic or not based on ML model above"
      ],
      "metadata": {
        "id": "IKwLb4u2OB-6"
      }
    },
    {
      "cell_type": "code",
      "source": [
        "# import dependencies to run Flask app and host it on publicly accessible colab URL\n",
        "from flask import *\n",
        "from google.colab import output\n",
        "from google.colab.output import eval_js"
      ],
      "metadata": {
        "id": "f5MRzVzRGdLn"
      },
      "execution_count": 70,
      "outputs": []
    },
    {
      "cell_type": "code",
      "source": [
        "# initialize Flask app\n",
        "app=Flask(__name__, template_folder='/content/Project-4/Nidhi/html')\n"
      ],
      "metadata": {
        "id": "9Wj4Xo3ZGkXY"
      },
      "execution_count": 77,
      "outputs": []
    },
    {
      "cell_type": "code",
      "source": [
        "# Render Home page for Diabetes Prediction to take subject parameters as input\n",
        "@app.route('/')\n",
        "def home():\n",
        "    return render_template('index.html')\n",
        "\n"
      ],
      "metadata": {
        "id": "Df-lDH6cJ1o3"
      },
      "execution_count": 78,
      "outputs": []
    },
    {
      "cell_type": "code",
      "source": [
        "# Dynamic API that will take parameters of subject through Web UI and leverage ML Model above to return probability & prediction for being diabetic\n",
        "@app.route('/api/v1.0/predict/<gender>/<age>/<hypertension>/<heart_disease>/<smoking_history>/<bmi>/<HbA1c_level>/<blood_glucose_level>')\n",
        "def predict(gender,age,hypertension,heart_disease,smoking_history,bmi,HbA1c_level,blood_glucose_level):\n",
        "    # create a tuple from input parameters and convert them to int or float as they are treated as string when passed from Web UI\n",
        "    data = [(int(gender),int(age),int(hypertension),int(heart_disease),int(smoking_history),float(bmi),float(HbA1c_level),int(blood_glucose_level))]\n",
        "    columns = ['gender','age','hypertension','heart_disease','smoking_history','bmi','HbA1c_level','blood_glucose_level']\n",
        "\n",
        "    # Create spark dataframe for the input parameters\n",
        "    test_df = spark.createDataFrame(data,columns)\n",
        "\n",
        "    # invoke ML Model and capture model output in results\n",
        "    test_data = assembler.transform(test_df)\n",
        "    results = model.transform(test_data)\n",
        "\n",
        "    # return the results after converting it to JSON\n",
        "    return results.toJSON().first()"
      ],
      "metadata": {
        "id": "Zo9tL8hAKWT4"
      },
      "execution_count": 79,
      "outputs": []
    },
    {
      "cell_type": "code",
      "source": [
        "# Flask app when run gives local IP to access API. Since this is running on Cloud (Google Colab) and not on local notebook, local IP (127.0.0.1) will not be accessible.\n",
        "# Below code will ask colab to give us publicly accessible URL\n",
        "\n",
        "print(eval_js(\"google.colab.kernel.proxyPort(5000)\"))\n",
        "output.serve_kernel_port_as_window(5000)\n",
        "if __name__ == '__main__':\n",
        "    app.run(host='0.0.0.0',port=5000)"
      ],
      "metadata": {
        "colab": {
          "base_uri": "https://localhost:8080/",
          "height": 225
        },
        "id": "_nBfvcpZOmxv",
        "outputId": "bef2848c-8d7e-4d04-c762-67a32e330873"
      },
      "execution_count": null,
      "outputs": [
        {
          "output_type": "stream",
          "name": "stdout",
          "text": [
            "https://c22d7sun4m-496ff2e9c6d22116-5000-colab.googleusercontent.com/\n"
          ]
        },
        {
          "output_type": "display_data",
          "data": {
            "text/plain": [
              "<IPython.core.display.Javascript object>"
            ],
            "application/javascript": [
              "(async (port, path, text, element) => {\n",
              "    if (!google.colab.kernel.accessAllowed) {\n",
              "      return;\n",
              "    }\n",
              "    element.appendChild(document.createTextNode(''));\n",
              "    const url = await google.colab.kernel.proxyPort(port);\n",
              "    const anchor = document.createElement('a');\n",
              "    anchor.href = new URL(path, url).toString();\n",
              "    anchor.target = '_blank';\n",
              "    anchor.setAttribute('data-href', url + path);\n",
              "    anchor.textContent = text;\n",
              "    element.appendChild(anchor);\n",
              "  })(5000, \"/\", \"https://localhost:5000/\", window.element)"
            ]
          },
          "metadata": {}
        },
        {
          "output_type": "stream",
          "name": "stdout",
          "text": [
            " * Serving Flask app '__main__'\n",
            " * Debug mode: off\n"
          ]
        },
        {
          "output_type": "stream",
          "name": "stderr",
          "text": [
            "INFO:werkzeug:\u001b[31m\u001b[1mWARNING: This is a development server. Do not use it in a production deployment. Use a production WSGI server instead.\u001b[0m\n",
            " * Running on all addresses (0.0.0.0)\n",
            " * Running on http://127.0.0.1:5000\n",
            " * Running on http://172.28.0.12:5000\n",
            "INFO:werkzeug:\u001b[33mPress CTRL+C to quit\u001b[0m\n",
            "INFO:werkzeug:127.0.0.1 - - [27/Feb/2024 02:44:14] \"GET / HTTP/1.1\" 200 -\n",
            "INFO:werkzeug:127.0.0.1 - - [27/Feb/2024 02:44:15] \"\u001b[33mGET /favicon.ico HTTP/1.1\u001b[0m\" 404 -\n",
            "INFO:werkzeug:127.0.0.1 - - [27/Feb/2024 02:44:35] \"GET /api/v1.0/predict/1/28/0/0/0/27.32/5.5/158 HTTP/1.1\" 200 -\n"
          ]
        }
      ]
    }
  ]
}