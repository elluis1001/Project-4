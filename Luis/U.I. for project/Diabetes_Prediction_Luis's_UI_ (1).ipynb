{
  "nbformat": 4,
  "nbformat_minor": 0,
  "metadata": {
    "colab": {
      "provenance": []
    },
    "kernelspec": {
      "name": "python3",
      "display_name": "Python 3"
    }
  },
  "cells": [
    {
      "cell_type": "markdown",
      "metadata": {
        "id": "Snq4iq_JOB4T"
      },
      "source": [
        "# PART 1 : Install Dependencies & Run Spark Session"
      ]
    },
    {
      "cell_type": "code",
      "metadata": {
        "id": "NpCRBcqtN5lH",
        "colab": {
          "base_uri": "https://localhost:8080/"
        },
        "outputId": "cf5bd25c-eb30-49e1-cdc4-d179c1c7853b"
      },
      "source": [
        "#install pyspark\n",
        "! pip install pyspark\n",
        "\n",
        "from pyspark.sql.functions import when, col"
      ],
      "execution_count": 4,
      "outputs": [
        {
          "output_type": "stream",
          "name": "stderr",
          "text": [
            "Exception in thread _colab_inspector_thread:\n",
            "Traceback (most recent call last):\n",
            "  File \"/usr/lib/python3.10/threading.py\", line 1016, in _bootstrap_inner\n",
            "    self.run()\n",
            "  File \"/usr/lib/python3.10/threading.py\", line 953, in run\n",
            "    self._target(*self._args, **self._kwargs)\n",
            "  File \"/usr/local/lib/python3.10/dist-packages/google/colab/_debugpy.py\", line 64, in inspector_thread\n",
            "    _variable_inspector.run(shell, time)\n",
            "  File \"/usr/local/lib/python3.10/dist-packages/google/colab/_variable_inspector.py\", line 27, in run\n",
            "    globals().clear()\n",
            "TypeError: 'module' object is not callable\n"
          ]
        },
        {
          "output_type": "stream",
          "name": "stdout",
          "text": [
            "Requirement already satisfied: pyspark in /usr/local/lib/python3.10/dist-packages (3.5.0)\n",
            "Requirement already satisfied: py4j==0.10.9.7 in /usr/local/lib/python3.10/dist-packages (from pyspark) (0.10.9.7)\n"
          ]
        }
      ]
    },
    {
      "cell_type": "code",
      "metadata": {
        "id": "GNZoOuDqOdxX"
      },
      "source": [
        "#create a sparksession\n",
        "from pyspark.sql import SparkSession\n",
        "spark = SparkSession.builder.appName(\"spark\").getOrCreate()"
      ],
      "execution_count": 5,
      "outputs": []
    },
    {
      "cell_type": "markdown",
      "metadata": {
        "id": "5sG3MLXlOews"
      },
      "source": [
        "# PART 2: Clone & Explore dataset"
      ]
    },
    {
      "cell_type": "code",
      "metadata": {
        "id": "-Uh5H7_KOoSL",
        "colab": {
          "base_uri": "https://localhost:8080/"
        },
        "outputId": "ad80779d-7bd2-4e32-f99c-fce4c2fed305"
      },
      "source": [
        "#clone the diabetes dataset from the github repository\n",
        "# if you get error saying \"Project-4 directory already exists, move to next cell\"\n",
        "! git clone https://github.com/elluis1001/Project-4/"
      ],
      "execution_count": 6,
      "outputs": [
        {
          "output_type": "stream",
          "name": "stdout",
          "text": [
            "fatal: destination path 'Project-4' already exists and is not an empty directory.\n"
          ]
        }
      ]
    },
    {
      "cell_type": "code",
      "metadata": {
        "id": "VcqwJRxVOutr",
        "colab": {
          "base_uri": "https://localhost:8080/"
        },
        "outputId": "c3ce3191-6539-454a-cb0e-124250730e4e"
      },
      "source": [
        "#check if the dataset exists\n",
        "! ls /content/Project-4/Luis/Dataset/"
      ],
      "execution_count": 7,
      "outputs": [
        {
          "output_type": "stream",
          "name": "stdout",
          "text": [
            "diabetes_prediction_dataset.csv  diabetes_test_dataset.csv\n"
          ]
        }
      ]
    },
    {
      "cell_type": "code",
      "metadata": {
        "id": "ST1rFFOlOu8s"
      },
      "source": [
        "#create spark dataframe\n",
        "df_diabetes_data = spark.read.csv(\"/content/Project-4/Luis/Dataset/diabetes_prediction_dataset.csv\", header=True, inferSchema=True)"
      ],
      "execution_count": 8,
      "outputs": []
    },
    {
      "cell_type": "code",
      "metadata": {
        "id": "IiJm-pmROvKd",
        "colab": {
          "base_uri": "https://localhost:8080/"
        },
        "outputId": "3681145a-8e6d-4631-f11b-6185ec200b81"
      },
      "source": [
        "#display the dataframe\n",
        "df_diabetes_data.show()"
      ],
      "execution_count": 9,
      "outputs": [
        {
          "output_type": "stream",
          "name": "stdout",
          "text": [
            "+------+----+------------+-------------+---------------+-----+-----------+-------------------+--------+\n",
            "|gender| age|hypertension|heart_disease|smoking_history|  bmi|HbA1c_level|blood_glucose_level|diabetes|\n",
            "+------+----+------------+-------------+---------------+-----+-----------+-------------------+--------+\n",
            "|Female|80.0|           0|            1|          never|25.19|        6.6|                140|       0|\n",
            "|Female|54.0|           0|            0|        No Info|27.32|        6.6|                 80|       0|\n",
            "|  Male|28.0|           0|            0|          never|27.32|        5.7|                158|       0|\n",
            "|Female|36.0|           0|            0|        current|23.45|        5.0|                155|       0|\n",
            "|  Male|76.0|           1|            1|        current|20.14|        4.8|                155|       0|\n",
            "|Female|20.0|           0|            0|          never|27.32|        6.6|                 85|       0|\n",
            "|Female|44.0|           0|            0|          never|19.31|        6.5|                200|       1|\n",
            "|Female|79.0|           0|            0|        No Info|23.86|        5.7|                 85|       0|\n",
            "|  Male|42.0|           0|            0|          never|33.64|        4.8|                145|       0|\n",
            "|Female|32.0|           0|            0|          never|27.32|        5.0|                100|       0|\n",
            "|Female|53.0|           0|            0|          never|27.32|        6.1|                 85|       0|\n",
            "|Female|54.0|           0|            0|         former| 54.7|        6.0|                100|       0|\n",
            "|Female|78.0|           0|            0|         former|36.05|        5.0|                130|       0|\n",
            "|Female|67.0|           0|            0|          never|25.69|        5.8|                200|       0|\n",
            "|Female|76.0|           0|            0|        No Info|27.32|        5.0|                160|       0|\n",
            "|  Male|78.0|           0|            0|        No Info|27.32|        6.6|                126|       0|\n",
            "|  Male|15.0|           0|            0|          never|30.36|        6.1|                200|       0|\n",
            "|Female|42.0|           0|            0|          never|24.48|        5.7|                158|       0|\n",
            "|Female|42.0|           0|            0|        No Info|27.32|        5.7|                 80|       0|\n",
            "|  Male|37.0|           0|            0|           ever|25.72|        3.5|                159|       0|\n",
            "+------+----+------------+-------------+---------------+-----+-----------+-------------------+--------+\n",
            "only showing top 20 rows\n",
            "\n"
          ]
        }
      ]
    },
    {
      "cell_type": "code",
      "source": [
        "#show amount of rows\n",
        "df_diabetes_data.count()"
      ],
      "metadata": {
        "colab": {
          "base_uri": "https://localhost:8080/"
        },
        "id": "MKF7kv1AI2pw",
        "outputId": "2a82c487-779d-4dd7-8781-daa795de7f98"
      },
      "execution_count": 10,
      "outputs": [
        {
          "output_type": "execute_result",
          "data": {
            "text/plain": [
              "100000"
            ]
          },
          "metadata": {},
          "execution_count": 10
        }
      ]
    },
    {
      "cell_type": "code",
      "metadata": {
        "id": "Ulqkuz8aOvV6",
        "colab": {
          "base_uri": "https://localhost:8080/"
        },
        "outputId": "fbcc6cad-b3ae-4051-94a4-965a74a2a71f"
      },
      "source": [
        "#print the schema\n",
        "df_diabetes_data.printSchema()"
      ],
      "execution_count": 11,
      "outputs": [
        {
          "output_type": "stream",
          "name": "stdout",
          "text": [
            "root\n",
            " |-- gender: string (nullable = true)\n",
            " |-- age: double (nullable = true)\n",
            " |-- hypertension: integer (nullable = true)\n",
            " |-- heart_disease: integer (nullable = true)\n",
            " |-- smoking_history: string (nullable = true)\n",
            " |-- bmi: double (nullable = true)\n",
            " |-- HbA1c_level: double (nullable = true)\n",
            " |-- blood_glucose_level: integer (nullable = true)\n",
            " |-- diabetes: integer (nullable = true)\n",
            "\n"
          ]
        }
      ]
    },
    {
      "cell_type": "code",
      "metadata": {
        "id": "kpZlF2S2Ovgw",
        "colab": {
          "base_uri": "https://localhost:8080/"
        },
        "outputId": "3f651853-93c7-4635-ad40-abb3fec466fe"
      },
      "source": [
        "#count the total no. of diabetic and non-diabetic class (values of 1 indicating the presence of diabetes and 0 indicating the absence of diabetes)\n",
        "print((df_diabetes_data.count(), len(df_diabetes_data.columns)))\n",
        "df_diabetes_data.groupBy('diabetes').count().show()"
      ],
      "execution_count": 12,
      "outputs": [
        {
          "output_type": "stream",
          "name": "stdout",
          "text": [
            "(100000, 9)\n",
            "+--------+-----+\n",
            "|diabetes|count|\n",
            "+--------+-----+\n",
            "|       1| 8500|\n",
            "|       0|91500|\n",
            "+--------+-----+\n",
            "\n"
          ]
        }
      ]
    },
    {
      "cell_type": "code",
      "source": [
        "#count the total no. of gender types\n",
        "print((df_diabetes_data.count(), len(df_diabetes_data.columns)))\n",
        "df_diabetes_data.groupBy('gender').count().show()"
      ],
      "metadata": {
        "colab": {
          "base_uri": "https://localhost:8080/"
        },
        "id": "3f2sAuuh9iY7",
        "outputId": "bbc08448-9de8-4068-cd82-6bec3c3d7c96"
      },
      "execution_count": 13,
      "outputs": [
        {
          "output_type": "stream",
          "name": "stdout",
          "text": [
            "(100000, 9)\n",
            "+------+-----+\n",
            "|gender|count|\n",
            "+------+-----+\n",
            "|Female|58552|\n",
            "| Other|   18|\n",
            "|  Male|41430|\n",
            "+------+-----+\n",
            "\n"
          ]
        }
      ]
    },
    {
      "cell_type": "code",
      "source": [
        "#check to see if there are any empty values in the 'gender' column\n",
        "df_diabetes_data[df_diabetes_data['gender'] == '']"
      ],
      "metadata": {
        "colab": {
          "base_uri": "https://localhost:8080/"
        },
        "id": "muPOXP7dF2Jl",
        "outputId": "bf514ca5-273d-4ff4-c756-ed09b7cdc125"
      },
      "execution_count": 14,
      "outputs": [
        {
          "output_type": "execute_result",
          "data": {
            "text/plain": [
              "DataFrame[gender: string, age: double, hypertension: int, heart_disease: int, smoking_history: string, bmi: double, HbA1c_level: double, blood_glucose_level: int, diabetes: int]"
            ]
          },
          "metadata": {},
          "execution_count": 14
        }
      ]
    },
    {
      "cell_type": "code",
      "metadata": {
        "id": "NewCNZEMOvtM",
        "colab": {
          "base_uri": "https://localhost:8080/"
        },
        "outputId": "61c19b78-e8bb-48ba-9ed1-4419b8e8e04c"
      },
      "source": [
        "#get the summary statistics\n",
        "df_diabetes_data.describe().show()"
      ],
      "execution_count": 15,
      "outputs": [
        {
          "output_type": "stream",
          "name": "stdout",
          "text": [
            "+-------+------+-----------------+------------------+------------------+---------------+-----------------+------------------+-------------------+-------------------+\n",
            "|summary|gender|              age|      hypertension|     heart_disease|smoking_history|              bmi|       HbA1c_level|blood_glucose_level|           diabetes|\n",
            "+-------+------+-----------------+------------------+------------------+---------------+-----------------+------------------+-------------------+-------------------+\n",
            "|  count|100000|           100000|            100000|            100000|         100000|           100000|            100000|             100000|             100000|\n",
            "|   mean|  NULL|41.88585600000013|           0.07485|           0.03942|           NULL|27.32076709999422|5.5275069999983275|          138.05806|              0.085|\n",
            "| stddev|  NULL|22.51683987161704|0.2631504702289171|0.1945930169980986|           NULL|6.636783416648357|1.0706720918835468|  40.70813604870383|0.27888308976661896|\n",
            "|    min|Female|             0.08|                 0|                 0|        No Info|            10.01|               3.5|                 80|                  0|\n",
            "|    max| Other|             80.0|                 1|                 1|    not current|            95.69|               9.0|                300|                  1|\n",
            "+-------+------+-----------------+------------------+------------------+---------------+-----------------+------------------+-------------------+-------------------+\n",
            "\n"
          ]
        }
      ]
    },
    {
      "cell_type": "markdown",
      "metadata": {
        "id": "gZerPOR-OyjQ"
      },
      "source": [
        "# PART 3: Data Cleaning & Preparation"
      ]
    },
    {
      "cell_type": "code",
      "metadata": {
        "id": "Q-KkJvV_PFFU",
        "colab": {
          "base_uri": "https://localhost:8080/"
        },
        "outputId": "e68f6f02-ef44-4ad5-f173-85a041646881"
      },
      "source": [
        "#check for null values\n",
        "for col in df_diabetes_data.columns:\n",
        "  print(col + \":\", df_diabetes_data[df_diabetes_data[col].isNull()].count())"
      ],
      "execution_count": 16,
      "outputs": [
        {
          "output_type": "stream",
          "name": "stdout",
          "text": [
            "gender: 0\n",
            "age: 0\n",
            "hypertension: 0\n",
            "heart_disease: 0\n",
            "smoking_history: 0\n",
            "bmi: 0\n",
            "HbA1c_level: 0\n",
            "blood_glucose_level: 0\n",
            "diabetes: 0\n"
          ]
        }
      ]
    },
    {
      "cell_type": "code",
      "metadata": {
        "id": "ZJsbgwZMPFQC"
      },
      "source": [
        "#look for the unnecessary values present\n",
        "def count_zeros():\n",
        "  columns_list = [\"age\", \"bmi\", \"HbA1c_level\", \"blood_glucose_level\"]\n",
        "  for i in columns_list:\n",
        "    print(i+\":\",df_diabetes_data[df_diabetes_data[i]==0].count())"
      ],
      "execution_count": 17,
      "outputs": []
    },
    {
      "cell_type": "code",
      "metadata": {
        "id": "pcXTErb9PFbo",
        "colab": {
          "base_uri": "https://localhost:8080/"
        },
        "outputId": "592db471-4fb9-4c64-8e6a-638efab746db"
      },
      "source": [
        "count_zeros()"
      ],
      "execution_count": 18,
      "outputs": [
        {
          "output_type": "stream",
          "name": "stdout",
          "text": [
            "age: 0\n",
            "bmi: 0\n",
            "HbA1c_level: 0\n",
            "blood_glucose_level: 0\n"
          ]
        }
      ]
    },
    {
      "cell_type": "code",
      "metadata": {
        "id": "C0bk0Ps_PFwk",
        "colab": {
          "base_uri": "https://localhost:8080/"
        },
        "outputId": "11de5292-0d48-48dc-f4bc-9e3e53577bb3"
      },
      "source": [
        "#display the dataframe\n",
        "df_diabetes_data.show()"
      ],
      "execution_count": 19,
      "outputs": [
        {
          "output_type": "stream",
          "name": "stdout",
          "text": [
            "+------+----+------------+-------------+---------------+-----+-----------+-------------------+--------+\n",
            "|gender| age|hypertension|heart_disease|smoking_history|  bmi|HbA1c_level|blood_glucose_level|diabetes|\n",
            "+------+----+------------+-------------+---------------+-----+-----------+-------------------+--------+\n",
            "|Female|80.0|           0|            1|          never|25.19|        6.6|                140|       0|\n",
            "|Female|54.0|           0|            0|        No Info|27.32|        6.6|                 80|       0|\n",
            "|  Male|28.0|           0|            0|          never|27.32|        5.7|                158|       0|\n",
            "|Female|36.0|           0|            0|        current|23.45|        5.0|                155|       0|\n",
            "|  Male|76.0|           1|            1|        current|20.14|        4.8|                155|       0|\n",
            "|Female|20.0|           0|            0|          never|27.32|        6.6|                 85|       0|\n",
            "|Female|44.0|           0|            0|          never|19.31|        6.5|                200|       1|\n",
            "|Female|79.0|           0|            0|        No Info|23.86|        5.7|                 85|       0|\n",
            "|  Male|42.0|           0|            0|          never|33.64|        4.8|                145|       0|\n",
            "|Female|32.0|           0|            0|          never|27.32|        5.0|                100|       0|\n",
            "|Female|53.0|           0|            0|          never|27.32|        6.1|                 85|       0|\n",
            "|Female|54.0|           0|            0|         former| 54.7|        6.0|                100|       0|\n",
            "|Female|78.0|           0|            0|         former|36.05|        5.0|                130|       0|\n",
            "|Female|67.0|           0|            0|          never|25.69|        5.8|                200|       0|\n",
            "|Female|76.0|           0|            0|        No Info|27.32|        5.0|                160|       0|\n",
            "|  Male|78.0|           0|            0|        No Info|27.32|        6.6|                126|       0|\n",
            "|  Male|15.0|           0|            0|          never|30.36|        6.1|                200|       0|\n",
            "|Female|42.0|           0|            0|          never|24.48|        5.7|                158|       0|\n",
            "|Female|42.0|           0|            0|        No Info|27.32|        5.7|                 80|       0|\n",
            "|  Male|37.0|           0|            0|           ever|25.72|        3.5|                159|       0|\n",
            "+------+----+------------+-------------+---------------+-----+-----------+-------------------+--------+\n",
            "only showing top 20 rows\n",
            "\n"
          ]
        }
      ]
    },
    {
      "cell_type": "code",
      "source": [
        "#drop the 'other' rows in the gender columns\n",
        "string_to_remove = \"Other\"\n",
        "df_diabetes_data = df_diabetes_data[df_diabetes_data['Gender'] != string_to_remove]"
      ],
      "metadata": {
        "id": "E1k77q7hKhIo"
      },
      "execution_count": 20,
      "outputs": []
    },
    {
      "cell_type": "code",
      "source": [
        "#count the total no. of gender types\n",
        "print((df_diabetes_data.count(), len(df_diabetes_data.columns)))\n",
        "df_diabetes_data.groupBy('gender').count().show()"
      ],
      "metadata": {
        "colab": {
          "base_uri": "https://localhost:8080/"
        },
        "id": "OXDmlg6KZgTn",
        "outputId": "5163a383-0cff-478d-b9f2-33a06e411688"
      },
      "execution_count": 21,
      "outputs": [
        {
          "output_type": "stream",
          "name": "stdout",
          "text": [
            "(99982, 9)\n",
            "+------+-----+\n",
            "|gender|count|\n",
            "+------+-----+\n",
            "|Female|58552|\n",
            "|  Male|41430|\n",
            "+------+-----+\n",
            "\n"
          ]
        }
      ]
    },
    {
      "cell_type": "code",
      "source": [
        "#count the total no. of smoker/non-smoker types\n",
        "print((df_diabetes_data.count(), len(df_diabetes_data.columns)))\n",
        "df_diabetes_data.groupBy('smoking_history').count().show()"
      ],
      "metadata": {
        "colab": {
          "base_uri": "https://localhost:8080/"
        },
        "id": "xwwTUAJLZ72A",
        "outputId": "e1408710-9c9b-4eb6-8d01-8c13cc94743f"
      },
      "execution_count": 22,
      "outputs": [
        {
          "output_type": "stream",
          "name": "stdout",
          "text": [
            "(99982, 9)\n",
            "+---------------+-----+\n",
            "|smoking_history|count|\n",
            "+---------------+-----+\n",
            "|    not current| 6439|\n",
            "|         former| 9352|\n",
            "|        No Info|35810|\n",
            "|        current| 9286|\n",
            "|          never|35092|\n",
            "|           ever| 4003|\n",
            "+---------------+-----+\n",
            "\n"
          ]
        }
      ]
    },
    {
      "cell_type": "code",
      "source": [
        "#drop the 'other' rows in the gender columns\n",
        "string_to_remove_1= \"No Info\"\n",
        "df_diabetes_data = df_diabetes_data[df_diabetes_data['smoking_history'] != string_to_remove_1]"
      ],
      "metadata": {
        "id": "KdN7OCA1cDnb"
      },
      "execution_count": 23,
      "outputs": []
    },
    {
      "cell_type": "code",
      "source": [
        "#count the total no. of smoker/non-smoker types\n",
        "print((df_diabetes_data.count(), len(df_diabetes_data.columns)))\n",
        "df_diabetes_data.groupBy('smoking_history').count().show()"
      ],
      "metadata": {
        "colab": {
          "base_uri": "https://localhost:8080/"
        },
        "id": "ZbxmgHOFcoEb",
        "outputId": "b73e02ad-f45a-4955-ffcb-82de0199b482"
      },
      "execution_count": 24,
      "outputs": [
        {
          "output_type": "stream",
          "name": "stdout",
          "text": [
            "(64172, 9)\n",
            "+---------------+-----+\n",
            "|smoking_history|count|\n",
            "+---------------+-----+\n",
            "|    not current| 6439|\n",
            "|         former| 9352|\n",
            "|        current| 9286|\n",
            "|          never|35092|\n",
            "|           ever| 4003|\n",
            "+---------------+-----+\n",
            "\n"
          ]
        }
      ]
    },
    {
      "cell_type": "code",
      "source": [
        "#count the total no. of gender types\n",
        "print((df_diabetes_data.count(), len(df_diabetes_data.columns)))\n",
        "df_diabetes_data.groupBy('gender').count().show()"
      ],
      "metadata": {
        "colab": {
          "base_uri": "https://localhost:8080/"
        },
        "id": "ZKJc4_sLh_pJ",
        "outputId": "623b4d00-2b32-4cb1-ddac-e87964ae4796"
      },
      "execution_count": 25,
      "outputs": [
        {
          "output_type": "stream",
          "name": "stdout",
          "text": [
            "(64172, 9)\n",
            "+------+-----+\n",
            "|gender|count|\n",
            "+------+-----+\n",
            "|Female|38852|\n",
            "|  Male|25320|\n",
            "+------+-----+\n",
            "\n"
          ]
        }
      ]
    },
    {
      "cell_type": "code",
      "source": [
        "#assign in the 'gender'column 'Female' = 0, and 'Male' = 1\n",
        "from pyspark.sql.functions import when, col\n",
        "df_diabetes_data = df_diabetes_data.withColumn(\"gender\",\n",
        "    when(col(\"gender\") == \"Female\", 0).\n",
        "    when(col(\"gender\") == \"Male\", 1).\n",
        "    otherwise(col(\"gender\"))\n",
        ")\n",
        "df_diabetes_data.show()"
      ],
      "metadata": {
        "colab": {
          "base_uri": "https://localhost:8080/"
        },
        "id": "ZlK0I77Di1Yq",
        "outputId": "dd943037-7499-491f-b62a-3d11d47cc409"
      },
      "execution_count": 26,
      "outputs": [
        {
          "output_type": "stream",
          "name": "stdout",
          "text": [
            "+------+----+------------+-------------+---------------+-----+-----------+-------------------+--------+\n",
            "|gender| age|hypertension|heart_disease|smoking_history|  bmi|HbA1c_level|blood_glucose_level|diabetes|\n",
            "+------+----+------------+-------------+---------------+-----+-----------+-------------------+--------+\n",
            "|     0|80.0|           0|            1|          never|25.19|        6.6|                140|       0|\n",
            "|     1|28.0|           0|            0|          never|27.32|        5.7|                158|       0|\n",
            "|     0|36.0|           0|            0|        current|23.45|        5.0|                155|       0|\n",
            "|     1|76.0|           1|            1|        current|20.14|        4.8|                155|       0|\n",
            "|     0|20.0|           0|            0|          never|27.32|        6.6|                 85|       0|\n",
            "|     0|44.0|           0|            0|          never|19.31|        6.5|                200|       1|\n",
            "|     1|42.0|           0|            0|          never|33.64|        4.8|                145|       0|\n",
            "|     0|32.0|           0|            0|          never|27.32|        5.0|                100|       0|\n",
            "|     0|53.0|           0|            0|          never|27.32|        6.1|                 85|       0|\n",
            "|     0|54.0|           0|            0|         former| 54.7|        6.0|                100|       0|\n",
            "|     0|78.0|           0|            0|         former|36.05|        5.0|                130|       0|\n",
            "|     0|67.0|           0|            0|          never|25.69|        5.8|                200|       0|\n",
            "|     1|15.0|           0|            0|          never|30.36|        6.1|                200|       0|\n",
            "|     0|42.0|           0|            0|          never|24.48|        5.7|                158|       0|\n",
            "|     1|37.0|           0|            0|           ever|25.72|        3.5|                159|       0|\n",
            "|     1|40.0|           0|            0|        current|36.38|        6.0|                 90|       0|\n",
            "|     0|69.0|           0|            0|          never|21.24|        4.8|                 85|       0|\n",
            "|     0|72.0|           0|            1|         former|27.94|        6.5|                130|       0|\n",
            "|     1|30.0|           0|            0|          never|33.76|        6.1|                126|       0|\n",
            "|     1|67.0|           0|            1|    not current|27.32|        6.5|                200|       1|\n",
            "+------+----+------------+-------------+---------------+-----+-----------+-------------------+--------+\n",
            "only showing top 20 rows\n",
            "\n"
          ]
        }
      ]
    },
    {
      "cell_type": "code",
      "source": [
        "#assign in the 'smoking_history': \"never\" = 0, \"ever\" = 1, \"not current\" = 2, \"current\" = 3, \"former\" = 4\n",
        "df_diabetes_data = df_diabetes_data.withColumn(\"smoking_history\",\n",
        "    when(col(\"smoking_history\") == \"never\", 0).\n",
        "    when(col(\"smoking_history\") == \"ever\", 1).\n",
        "    when(col(\"smoking_history\") == \"not current\", 2).\n",
        "    when(col(\"smoking_history\") == \"current\", 3).\n",
        "    when(col(\"smoking_history\") == \"former\", 4).\n",
        "    otherwise(col(\"smoking_history\"))\n",
        ")\n",
        "df_diabetes_data.show()"
      ],
      "metadata": {
        "colab": {
          "base_uri": "https://localhost:8080/"
        },
        "id": "j3RHqrEwlS_e",
        "outputId": "f3181a5e-eedd-4ff1-b7f8-148e3d7cc802"
      },
      "execution_count": 27,
      "outputs": [
        {
          "output_type": "stream",
          "name": "stdout",
          "text": [
            "+------+----+------------+-------------+---------------+-----+-----------+-------------------+--------+\n",
            "|gender| age|hypertension|heart_disease|smoking_history|  bmi|HbA1c_level|blood_glucose_level|diabetes|\n",
            "+------+----+------------+-------------+---------------+-----+-----------+-------------------+--------+\n",
            "|     0|80.0|           0|            1|              0|25.19|        6.6|                140|       0|\n",
            "|     1|28.0|           0|            0|              0|27.32|        5.7|                158|       0|\n",
            "|     0|36.0|           0|            0|              3|23.45|        5.0|                155|       0|\n",
            "|     1|76.0|           1|            1|              3|20.14|        4.8|                155|       0|\n",
            "|     0|20.0|           0|            0|              0|27.32|        6.6|                 85|       0|\n",
            "|     0|44.0|           0|            0|              0|19.31|        6.5|                200|       1|\n",
            "|     1|42.0|           0|            0|              0|33.64|        4.8|                145|       0|\n",
            "|     0|32.0|           0|            0|              0|27.32|        5.0|                100|       0|\n",
            "|     0|53.0|           0|            0|              0|27.32|        6.1|                 85|       0|\n",
            "|     0|54.0|           0|            0|              4| 54.7|        6.0|                100|       0|\n",
            "|     0|78.0|           0|            0|              4|36.05|        5.0|                130|       0|\n",
            "|     0|67.0|           0|            0|              0|25.69|        5.8|                200|       0|\n",
            "|     1|15.0|           0|            0|              0|30.36|        6.1|                200|       0|\n",
            "|     0|42.0|           0|            0|              0|24.48|        5.7|                158|       0|\n",
            "|     1|37.0|           0|            0|              1|25.72|        3.5|                159|       0|\n",
            "|     1|40.0|           0|            0|              3|36.38|        6.0|                 90|       0|\n",
            "|     0|69.0|           0|            0|              0|21.24|        4.8|                 85|       0|\n",
            "|     0|72.0|           0|            1|              4|27.94|        6.5|                130|       0|\n",
            "|     1|30.0|           0|            0|              0|33.76|        6.1|                126|       0|\n",
            "|     1|67.0|           0|            1|              2|27.32|        6.5|                200|       1|\n",
            "+------+----+------------+-------------+---------------+-----+-----------+-------------------+--------+\n",
            "only showing top 20 rows\n",
            "\n"
          ]
        }
      ]
    },
    {
      "cell_type": "markdown",
      "metadata": {
        "id": "LOgSTdBpPs7G"
      },
      "source": [
        "# PART 4: Correlation Analysis & Feature Selection"
      ]
    },
    {
      "cell_type": "code",
      "source": [
        "# gender and smoking_history needs to be converted to float data type for model to work\n",
        "df_diabetes_data = df_diabetes_data.withColumn(\"gender\", col(\"gender\").cast('float'))\n",
        "df_diabetes_data = df_diabetes_data.withColumn(\"smoking_history\", col(\"smoking_history\").cast('float'))\n",
        "df_diabetes_data.show()\n"
      ],
      "metadata": {
        "id": "PVQ4iahSjL63",
        "outputId": "1b69eec8-2ac4-4bf3-a681-50508cc5c665",
        "colab": {
          "base_uri": "https://localhost:8080/"
        }
      },
      "execution_count": 28,
      "outputs": [
        {
          "output_type": "stream",
          "name": "stdout",
          "text": [
            "+------+----+------------+-------------+---------------+-----+-----------+-------------------+--------+\n",
            "|gender| age|hypertension|heart_disease|smoking_history|  bmi|HbA1c_level|blood_glucose_level|diabetes|\n",
            "+------+----+------------+-------------+---------------+-----+-----------+-------------------+--------+\n",
            "|   0.0|80.0|           0|            1|            0.0|25.19|        6.6|                140|       0|\n",
            "|   1.0|28.0|           0|            0|            0.0|27.32|        5.7|                158|       0|\n",
            "|   0.0|36.0|           0|            0|            3.0|23.45|        5.0|                155|       0|\n",
            "|   1.0|76.0|           1|            1|            3.0|20.14|        4.8|                155|       0|\n",
            "|   0.0|20.0|           0|            0|            0.0|27.32|        6.6|                 85|       0|\n",
            "|   0.0|44.0|           0|            0|            0.0|19.31|        6.5|                200|       1|\n",
            "|   1.0|42.0|           0|            0|            0.0|33.64|        4.8|                145|       0|\n",
            "|   0.0|32.0|           0|            0|            0.0|27.32|        5.0|                100|       0|\n",
            "|   0.0|53.0|           0|            0|            0.0|27.32|        6.1|                 85|       0|\n",
            "|   0.0|54.0|           0|            0|            4.0| 54.7|        6.0|                100|       0|\n",
            "|   0.0|78.0|           0|            0|            4.0|36.05|        5.0|                130|       0|\n",
            "|   0.0|67.0|           0|            0|            0.0|25.69|        5.8|                200|       0|\n",
            "|   1.0|15.0|           0|            0|            0.0|30.36|        6.1|                200|       0|\n",
            "|   0.0|42.0|           0|            0|            0.0|24.48|        5.7|                158|       0|\n",
            "|   1.0|37.0|           0|            0|            1.0|25.72|        3.5|                159|       0|\n",
            "|   1.0|40.0|           0|            0|            3.0|36.38|        6.0|                 90|       0|\n",
            "|   0.0|69.0|           0|            0|            0.0|21.24|        4.8|                 85|       0|\n",
            "|   0.0|72.0|           0|            1|            4.0|27.94|        6.5|                130|       0|\n",
            "|   1.0|30.0|           0|            0|            0.0|33.76|        6.1|                126|       0|\n",
            "|   1.0|67.0|           0|            1|            2.0|27.32|        6.5|                200|       1|\n",
            "+------+----+------------+-------------+---------------+-----+-----------+-------------------+--------+\n",
            "only showing top 20 rows\n",
            "\n"
          ]
        }
      ]
    },
    {
      "cell_type": "code",
      "metadata": {
        "id": "7Eq6jdcFP_3C",
        "colab": {
          "base_uri": "https://localhost:8080/"
        },
        "outputId": "29a7e03a-bf76-4cf2-cc5d-431ad5f0cf64"
      },
      "source": [
        "#find the correlation among the set of input & output variables\n",
        "for i in df_diabetes_data.columns:\n",
        "  print(\"Correlation to outcome for {} is {}\".format(i, df_diabetes_data.stat.corr(\"diabetes\",i)))"
      ],
      "execution_count": 29,
      "outputs": [
        {
          "output_type": "stream",
          "name": "stdout",
          "text": [
            "Correlation to outcome for gender is 0.05699689368565596\n",
            "Correlation to outcome for age is 0.26084962459224337\n",
            "Correlation to outcome for hypertension is 0.19222574901207254\n",
            "Correlation to outcome for heart_disease is 0.16961397731730365\n",
            "Correlation to outcome for smoking_history is 0.06472564826560573\n",
            "Correlation to outcome for bmi is 0.20442115545137657\n",
            "Correlation to outcome for HbA1c_level is 0.43889709468177335\n",
            "Correlation to outcome for blood_glucose_level is 0.449697968864106\n",
            "Correlation to outcome for diabetes is 1.0\n"
          ]
        }
      ]
    },
    {
      "cell_type": "code",
      "metadata": {
        "id": "Fl7Edj-OQACn"
      },
      "source": [
        "#feature selection\n",
        "from pyspark.ml.feature import VectorAssembler\n",
        "\n",
        "assembler = VectorAssembler(inputCols = ['gender', 'age', 'hypertension', 'heart_disease',\n",
        "                                         'smoking_history', 'bmi', 'HbA1c_level', 'blood_glucose_level'], outputCol='features')\n",
        "output_data = assembler.transform(df_diabetes_data)"
      ],
      "execution_count": 30,
      "outputs": []
    },
    {
      "cell_type": "code",
      "metadata": {
        "id": "mJKrfqdaQAOy",
        "colab": {
          "base_uri": "https://localhost:8080/"
        },
        "outputId": "d368c634-13da-4af4-cc75-f1a903a9bca1"
      },
      "source": [
        "#print the schema\n",
        "output_data.printSchema()"
      ],
      "execution_count": 31,
      "outputs": [
        {
          "output_type": "stream",
          "name": "stdout",
          "text": [
            "root\n",
            " |-- gender: float (nullable = true)\n",
            " |-- age: double (nullable = true)\n",
            " |-- hypertension: integer (nullable = true)\n",
            " |-- heart_disease: integer (nullable = true)\n",
            " |-- smoking_history: float (nullable = true)\n",
            " |-- bmi: double (nullable = true)\n",
            " |-- HbA1c_level: double (nullable = true)\n",
            " |-- blood_glucose_level: integer (nullable = true)\n",
            " |-- diabetes: integer (nullable = true)\n",
            " |-- features: vector (nullable = true)\n",
            "\n"
          ]
        }
      ]
    },
    {
      "cell_type": "code",
      "metadata": {
        "id": "FURl7qESQAaQ",
        "colab": {
          "base_uri": "https://localhost:8080/"
        },
        "outputId": "ee78f3e1-5e19-4afc-ea23-c7d460ab4aa4"
      },
      "source": [
        "#display dataframe\n",
        "output_data.show()"
      ],
      "execution_count": 32,
      "outputs": [
        {
          "output_type": "stream",
          "name": "stdout",
          "text": [
            "+------+----+------------+-------------+---------------+-----+-----------+-------------------+--------+--------------------+\n",
            "|gender| age|hypertension|heart_disease|smoking_history|  bmi|HbA1c_level|blood_glucose_level|diabetes|            features|\n",
            "+------+----+------------+-------------+---------------+-----+-----------+-------------------+--------+--------------------+\n",
            "|   0.0|80.0|           0|            1|            0.0|25.19|        6.6|                140|       0|[0.0,80.0,0.0,1.0...|\n",
            "|   1.0|28.0|           0|            0|            0.0|27.32|        5.7|                158|       0|[1.0,28.0,0.0,0.0...|\n",
            "|   0.0|36.0|           0|            0|            3.0|23.45|        5.0|                155|       0|[0.0,36.0,0.0,0.0...|\n",
            "|   1.0|76.0|           1|            1|            3.0|20.14|        4.8|                155|       0|[1.0,76.0,1.0,1.0...|\n",
            "|   0.0|20.0|           0|            0|            0.0|27.32|        6.6|                 85|       0|(8,[1,5,6,7],[20....|\n",
            "|   0.0|44.0|           0|            0|            0.0|19.31|        6.5|                200|       1|(8,[1,5,6,7],[44....|\n",
            "|   1.0|42.0|           0|            0|            0.0|33.64|        4.8|                145|       0|[1.0,42.0,0.0,0.0...|\n",
            "|   0.0|32.0|           0|            0|            0.0|27.32|        5.0|                100|       0|(8,[1,5,6,7],[32....|\n",
            "|   0.0|53.0|           0|            0|            0.0|27.32|        6.1|                 85|       0|(8,[1,5,6,7],[53....|\n",
            "|   0.0|54.0|           0|            0|            4.0| 54.7|        6.0|                100|       0|[0.0,54.0,0.0,0.0...|\n",
            "|   0.0|78.0|           0|            0|            4.0|36.05|        5.0|                130|       0|[0.0,78.0,0.0,0.0...|\n",
            "|   0.0|67.0|           0|            0|            0.0|25.69|        5.8|                200|       0|(8,[1,5,6,7],[67....|\n",
            "|   1.0|15.0|           0|            0|            0.0|30.36|        6.1|                200|       0|[1.0,15.0,0.0,0.0...|\n",
            "|   0.0|42.0|           0|            0|            0.0|24.48|        5.7|                158|       0|(8,[1,5,6,7],[42....|\n",
            "|   1.0|37.0|           0|            0|            1.0|25.72|        3.5|                159|       0|[1.0,37.0,0.0,0.0...|\n",
            "|   1.0|40.0|           0|            0|            3.0|36.38|        6.0|                 90|       0|[1.0,40.0,0.0,0.0...|\n",
            "|   0.0|69.0|           0|            0|            0.0|21.24|        4.8|                 85|       0|(8,[1,5,6,7],[69....|\n",
            "|   0.0|72.0|           0|            1|            4.0|27.94|        6.5|                130|       0|[0.0,72.0,0.0,1.0...|\n",
            "|   1.0|30.0|           0|            0|            0.0|33.76|        6.1|                126|       0|[1.0,30.0,0.0,0.0...|\n",
            "|   1.0|67.0|           0|            1|            2.0|27.32|        6.5|                200|       1|[1.0,67.0,0.0,1.0...|\n",
            "+------+----+------------+-------------+---------------+-----+-----------+-------------------+--------+--------------------+\n",
            "only showing top 20 rows\n",
            "\n"
          ]
        }
      ]
    },
    {
      "cell_type": "markdown",
      "metadata": {
        "id": "8fSjOdfyQA99"
      },
      "source": [
        "# PART 5: Split Dataset & Build the Model"
      ]
    },
    {
      "cell_type": "code",
      "metadata": {
        "id": "F89--FiVQQJn"
      },
      "source": [
        "#create final data\n",
        "from pyspark.ml.classification import LogisticRegression\n",
        "\n",
        "final_data = output_data.select('features','diabetes')"
      ],
      "execution_count": 33,
      "outputs": []
    },
    {
      "cell_type": "code",
      "metadata": {
        "id": "cKpm5912Qji_",
        "colab": {
          "base_uri": "https://localhost:8080/"
        },
        "outputId": "71fcd867-8340-49b1-84c6-19ff7d1ab9eb"
      },
      "source": [
        "#print schema of final data\n",
        "final_data.printSchema()"
      ],
      "execution_count": 34,
      "outputs": [
        {
          "output_type": "stream",
          "name": "stdout",
          "text": [
            "root\n",
            " |-- features: vector (nullable = true)\n",
            " |-- diabetes: integer (nullable = true)\n",
            "\n"
          ]
        }
      ]
    },
    {
      "cell_type": "code",
      "metadata": {
        "id": "r_Nom7aZQjuN"
      },
      "source": [
        "#split the dataset ; build the model\n",
        "train, test = final_data.randomSplit([0.7, 0.3])\n",
        "models = LogisticRegression(labelCol= 'diabetes')\n",
        "model = models.fit(train)"
      ],
      "execution_count": 35,
      "outputs": []
    },
    {
      "cell_type": "code",
      "metadata": {
        "id": "OljO2HcIQj7E",
        "colab": {
          "base_uri": "https://localhost:8080/"
        },
        "outputId": "109571ea-8b4e-4e46-8466-45487a84e70a"
      },
      "source": [
        "#summary of the model\n",
        "summary = model.summary\n",
        "summary.predictions.describe().show()"
      ],
      "execution_count": 36,
      "outputs": [
        {
          "output_type": "stream",
          "name": "stdout",
          "text": [
            "+-------+-------------------+-------------------+\n",
            "|summary|           diabetes|         prediction|\n",
            "+-------+-------------------+-------------------+\n",
            "|  count|              45013|              45013|\n",
            "|   mean|0.10936840468309156|0.08104325417101726|\n",
            "| stddev|0.31210434274795534|0.27290456150203823|\n",
            "|    min|                0.0|                0.0|\n",
            "|    max|                1.0|                1.0|\n",
            "+-------+-------------------+-------------------+\n",
            "\n"
          ]
        }
      ]
    },
    {
      "cell_type": "markdown",
      "metadata": {
        "id": "DfaD_vzfQkah"
      },
      "source": [
        "# PART 6: Evaluate and Save the Model"
      ]
    },
    {
      "cell_type": "code",
      "metadata": {
        "id": "CHC5Erq7Q4QN"
      },
      "source": [
        "from pyspark.ml.evaluation import BinaryClassificationEvaluator\n",
        "\n",
        "predictions = model.evaluate(test)"
      ],
      "execution_count": 37,
      "outputs": []
    },
    {
      "cell_type": "code",
      "metadata": {
        "id": "UBltVqoNQ4cM",
        "colab": {
          "base_uri": "https://localhost:8080/"
        },
        "outputId": "cdde2972-d917-4752-9c67-85b36a850333"
      },
      "source": [
        "predictions.predictions.show(100)"
      ],
      "execution_count": 38,
      "outputs": [
        {
          "output_type": "stream",
          "name": "stdout",
          "text": [
            "+--------------------+--------+--------------------+--------------------+----------+\n",
            "|            features|diabetes|       rawPrediction|         probability|prediction|\n",
            "+--------------------+--------+--------------------+--------------------+----------+\n",
            "|(8,[1,5,6,7],[0.3...|       0|[6.88961077106798...|[0.99898272578100...|       0.0|\n",
            "|(8,[1,5,6,7],[1.0...|       0|[7.54204299234909...|[0.99946996799416...|       0.0|\n",
            "|(8,[1,5,6,7],[1.0...|       0|[11.7004245193669...|[0.99999170976970...|       0.0|\n",
            "|(8,[1,5,6,7],[1.0...|       0|[6.67508312278615...|[0.99873962287198...|       0.0|\n",
            "|(8,[1,5,6,7],[1.3...|       0|[8.21290533030959...|[0.99972894164425...|       0.0|\n",
            "|(8,[1,5,6,7],[1.3...|       0|[10.7922295548348...|[0.99997944178855...|       0.0|\n",
            "|(8,[1,5,6,7],[1.5...|       0|[11.7357245496620...|[0.99999199730783...|       0.0|\n",
            "|(8,[1,5,6,7],[1.5...|       0|[5.31136917403668...|[0.99508907125364...|       0.0|\n",
            "|(8,[1,5,6,7],[1.6...|       0|[5.02586059046695...|[0.99347689677880...|       0.0|\n",
            "|(8,[1,5,6,7],[1.8...|       0|[6.93772685297386...|[0.99903046778512...|       0.0|\n",
            "|(8,[1,5,6,7],[2.0...|       0|[12.3243735470897...|[0.99999555787631...|       0.0|\n",
            "|(8,[1,5,6,7],[2.0...|       0|[12.4315421189925...|[0.99999600930880...|       0.0|\n",
            "|(8,[1,5,6,7],[2.0...|       0|[11.0723061364220...|[0.99998446354986...|       0.0|\n",
            "|(8,[1,5,6,7],[2.0...|       0|[8.72256679966748...|[0.99983715791900...|       0.0|\n",
            "|(8,[1,5,6,7],[2.0...|       0|[7.47915939502000...|[0.99943558680957...|       0.0|\n",
            "|(8,[1,5,6,7],[2.0...|       0|[6.21684384374983...|[0.99800844071909...|       0.0|\n",
            "|(8,[1,5,6,7],[2.0...|       0|[10.8968144215275...|[0.99998148321497...|       0.0|\n",
            "|(8,[1,5,6,7],[2.0...|       0|[14.4541587194757...|[0.99999947199455...|       0.0|\n",
            "|(8,[1,5,6,7],[2.0...|       0|[8.35119332666601...|[0.99976394114852...|       0.0|\n",
            "|(8,[1,5,6,7],[2.0...|       0|[10.7635082150211...|[0.99997884278069...|       0.0|\n",
            "|(8,[1,5,6,7],[2.0...|       0|[4.30777972606690...|[0.98671544648599...|       0.0|\n",
            "|(8,[1,5,6,7],[2.0...|       0|[10.8689858904689...|[0.99998096069306...|       0.0|\n",
            "|(8,[1,5,6,7],[2.0...|       0|[11.2129487446474...|[0.99998650190836...|       0.0|\n",
            "|(8,[1,5,6,7],[2.0...|       0|[9.49541031116590...|[0.99992480948794...|       0.0|\n",
            "|(8,[1,5,6,7],[2.0...|       0|[9.69664514780639...|[0.99993851434333...|       0.0|\n",
            "|(8,[1,5,6,7],[2.0...|       0|[11.2824088705008...|[0.99998740765493...|       0.0|\n",
            "|(8,[1,5,6,7],[2.0...|       0|[8.96894559484067...|[0.99987271385415...|       0.0|\n",
            "|(8,[1,5,6,7],[2.0...|       0|[4.24329452553398...|[0.98584309231174...|       0.0|\n",
            "|(8,[1,5,6,7],[3.0...|       0|[8.63107107609430...|[0.99982155846288...|       0.0|\n",
            "|(8,[1,5,6,7],[3.0...|       0|[6.47403459812642...|[0.99845938932163...|       0.0|\n",
            "|(8,[1,5,6,7],[3.0...|       0|[9.42131039851420...|[0.99991902672330...|       0.0|\n",
            "|(8,[1,5,6,7],[3.0...|       0|[9.32413136821932...|[0.99991076351779...|       0.0|\n",
            "|(8,[1,5,6,7],[3.0...|       0|[12.0124465653880...|[0.99999393182485...|       0.0|\n",
            "|(8,[1,5,6,7],[3.0...|       0|[3.38685527089243...|[0.96729119487707...|       0.0|\n",
            "|(8,[1,5,6,7],[3.0...|       0|[11.4410101747909...|[0.99998925447232...|       0.0|\n",
            "|(8,[1,5,6,7],[3.0...|       0|[11.5864687403023...|[0.99999070912694...|       0.0|\n",
            "|(8,[1,5,6,7],[3.0...|       0|[13.0479311762389...|[0.99999784546003...|       0.0|\n",
            "|(8,[1,5,6,7],[3.0...|       0|[7.09453488236609...|[0.99917106114656...|       0.0|\n",
            "|(8,[1,5,6,7],[3.0...|       0|[7.15660112167432...|[0.99922090729810...|       0.0|\n",
            "|(8,[1,5,6,7],[3.0...|       0|[10.9022197942474...|[0.99998158303323...|       0.0|\n",
            "|(8,[1,5,6,7],[3.0...|       0|[3.77510794507766...|[0.97757958866867...|       0.0|\n",
            "|(8,[1,5,6,7],[3.0...|       0|[9.74707976711885...|[0.99994153827144...|       0.0|\n",
            "|(8,[1,5,6,7],[4.0...|       0|[12.3782626094582...|[0.99999579092150...|       0.0|\n",
            "|(8,[1,5,6,7],[4.0...|       0|[8.14681924125651...|[0.99971042865655...|       0.0|\n",
            "|(8,[1,5,6,7],[4.0...|       0|[5.20897661371637...|[0.99456246251294...|       0.0|\n",
            "|(8,[1,5,6,7],[4.0...|       0|[9.66388557656673...|[0.99993646687354...|       0.0|\n",
            "|(8,[1,5,6,7],[4.0...|       0|[11.7281139360808...|[0.99999193617057...|       0.0|\n",
            "|(8,[1,5,6,7],[4.0...|       0|[5.83916265101722...|[0.99709717158218...|       0.0|\n",
            "|(8,[1,5,6,7],[4.0...|       0|[6.38175612533093...|[0.99831070980964...|       0.0|\n",
            "|(8,[1,5,6,7],[4.0...|       0|[8.40335927404711...|[0.99977593701489...|       0.0|\n",
            "|(8,[1,5,6,7],[4.0...|       0|[9.26109540988796...|[0.99990495788573...|       0.0|\n",
            "|(8,[1,5,6,7],[4.0...|       0|[5.02167990871202...|[0.99344974768090...|       0.0|\n",
            "|(8,[1,5,6,7],[4.0...|       0|[5.01324280703441...|[0.99339461533204...|       0.0|\n",
            "|(8,[1,5,6,7],[4.0...|       0|[6.47697777447975...|[0.99846390998965...|       0.0|\n",
            "|(8,[1,5,6,7],[4.0...|       0|[9.50263764877076...|[0.99992535091570...|       0.0|\n",
            "|(8,[1,5,6,7],[4.0...|       0|[5.75227440821534...|[0.99683450211741...|       0.0|\n",
            "|(8,[1,5,6,7],[4.0...|       0|[9.01739815181004...|[0.99987873343582...|       0.0|\n",
            "|(8,[1,5,6,7],[4.0...|       0|[7.47843104678982...|[0.99943517580275...|       0.0|\n",
            "|(8,[1,5,6,7],[4.0...|       0|[8.57701620543232...|[0.99981164923720...|       0.0|\n",
            "|(8,[1,5,6,7],[4.0...|       0|[5.70457896321964...|[0.99668037717096...|       0.0|\n",
            "|(8,[1,5,6,7],[4.0...|       0|[4.08515467025752...|[0.98345771268584...|       0.0|\n",
            "|(8,[1,5,6,7],[4.0...|       0|[11.6575876964736...|[0.99999134692967...|       0.0|\n",
            "|(8,[1,5,6,7],[5.0...|       0|[9.52182820387329...|[0.99992676971088...|       0.0|\n",
            "|(8,[1,5,6,7],[5.0...|       0|[5.23117276292596...|[0.99468119044066...|       0.0|\n",
            "|(8,[1,5,6,7],[5.0...|       0|[5.76684588084048...|[0.99688015078523...|       0.0|\n",
            "|(8,[1,5,6,7],[5.0...|       0|[7.87707429182348...|[0.99962080256853...|       0.0|\n",
            "|(8,[1,5,6,7],[5.0...|       0|[10.3712612849839...|[0.99996868121886...|       0.0|\n",
            "|(8,[1,5,6,7],[5.0...|       0|[10.8454785410571...|[0.99998050783627...|       0.0|\n",
            "|(8,[1,5,6,7],[5.0...|       0|[6.80097746923118...|[0.99888854969749...|       0.0|\n",
            "|(8,[1,5,6,7],[5.0...|       0|[9.28591239295931...|[0.99990728730150...|       0.0|\n",
            "|(8,[1,5,6,7],[5.0...|       0|[7.15323549244323...|[0.99921828279663...|       0.0|\n",
            "|(8,[1,5,6,7],[5.0...|       0|[8.11167786025227...|[0.99970007491474...|       0.0|\n",
            "|(8,[1,5,6,7],[5.0...|       0|[9.23542730596043...|[0.99990248699689...|       0.0|\n",
            "|(8,[1,5,6,7],[5.0...|       0|[9.67589267920372...|[0.99993722511319...|       0.0|\n",
            "|(8,[1,5,6,7],[5.0...|       0|[10.4430287910347...|[0.99997085006693...|       0.0|\n",
            "|(8,[1,5,6,7],[5.0...|       0|[6.39048673959249...|[0.99832536956486...|       0.0|\n",
            "|(8,[1,5,6,7],[5.0...|       0|[9.09075835441554...|[0.99988731013282...|       0.0|\n",
            "|(8,[1,5,6,7],[5.0...|       0|[9.97730077843014...|[0.99995355989869...|       0.0|\n",
            "|(8,[1,5,6,7],[5.0...|       0|[5.0301945708697,...|[0.99350492338076...|       0.0|\n",
            "|(8,[1,5,6,7],[5.0...|       0|[2.49131968123086...|[0.92353105255324...|       0.0|\n",
            "|(8,[1,5,6,7],[6.0...|       0|[10.9028424234178...|[0.99998159449639...|       0.0|\n",
            "|(8,[1,5,6,7],[6.0...|       0|[7.06109293351083...|[0.99914289523942...|       0.0|\n",
            "|(8,[1,5,6,7],[6.0...|       0|[11.5159835823063...|[0.99999003063385...|       0.0|\n",
            "|(8,[1,5,6,7],[6.0...|       0|[8.42063711420530...|[0.99977977424181...|       0.0|\n",
            "|(8,[1,5,6,7],[6.0...|       0|[6.10380247399347...|[0.99777062574717...|       0.0|\n",
            "|(8,[1,5,6,7],[6.0...|       0|[9.31484084291399...|[0.99990993067589...|       0.0|\n",
            "|(8,[1,5,6,7],[6.0...|       0|[7.95257654260433...|[0.99964836900273...|       0.0|\n",
            "|(8,[1,5,6,7],[6.0...|       0|[6.00255725386205...|[0.99753367631550...|       0.0|\n",
            "|(8,[1,5,6,7],[6.0...|       0|[11.8824123066149...|[0.99999308915898...|       0.0|\n",
            "|(8,[1,5,6,7],[6.0...|       0|[9.23221990411713...|[0.99990217376204...|       0.0|\n",
            "|(8,[1,5,6,7],[6.0...|       0|[3.00706889798416...|[0.95289245629602...|       0.0|\n",
            "|(8,[1,5,6,7],[6.0...|       0|[9.36520646318894...|[0.99991435434913...|       0.0|\n",
            "|(8,[1,5,6,7],[6.0...|       0|[12.2446022991141...|[0.99999518900728...|       0.0|\n",
            "|(8,[1,5,6,7],[6.0...|       0|[9.11338030155732...|[0.99988983050088...|       0.0|\n",
            "|(8,[1,5,6,7],[6.0...|       0|[5.87650995349553...|[0.99720328729182...|       0.0|\n",
            "|(8,[1,5,6,7],[7.0...|       0|[8.25373603533859...|[0.99973978342314...|       0.0|\n",
            "|(8,[1,5,6,7],[7.0...|       0|[4.87799138359086...|[0.99244522031505...|       0.0|\n",
            "|(8,[1,5,6,7],[7.0...|       0|[9.22132423458775...|[0.99990110215777...|       0.0|\n",
            "|(8,[1,5,6,7],[7.0...|       0|[3.35491979135285...|[0.96626557180183...|       0.0|\n",
            "|(8,[1,5,6,7],[7.0...|       0|[9.21050836340911...|[0.99990002679337...|       0.0|\n",
            "+--------------------+--------+--------------------+--------------------+----------+\n",
            "only showing top 100 rows\n",
            "\n"
          ]
        }
      ]
    },
    {
      "cell_type": "code",
      "metadata": {
        "id": "A4BHCxCiQ4l-",
        "colab": {
          "base_uri": "https://localhost:8080/"
        },
        "outputId": "9041c833-1ded-47db-c2bc-935306ef094f"
      },
      "source": [
        "evaluator = BinaryClassificationEvaluator(rawPredictionCol= 'rawPrediction', labelCol='diabetes')\n",
        "evaluator.evaluate(model.transform(test))"
      ],
      "execution_count": 42,
      "outputs": [
        {
          "output_type": "execute_result",
          "data": {
            "text/plain": [
              "0.9578469057849511"
            ]
          },
          "metadata": {},
          "execution_count": 42
        }
      ]
    },
    {
      "cell_type": "code",
      "metadata": {
        "id": "ERpRUFOHQ4x5",
        "colab": {
          "base_uri": "https://localhost:8080/",
          "height": 582
        },
        "outputId": "1c93bba8-dd36-41ec-9327-0314fb2fe7f5"
      },
      "source": [
        "# save model\n",
        "model.save(\"model\")"
      ],
      "execution_count": 43,
      "outputs": [
        {
          "output_type": "error",
          "ename": "Py4JJavaError",
          "evalue": "An error occurred while calling o495.save.\n: java.io.IOException: Path model already exists. To overwrite it, please use write.overwrite().save(path) for Scala and use write().overwrite().save(path) for Java and Python.\n\tat org.apache.spark.ml.util.FileSystemOverwrite.handleOverwrite(ReadWrite.scala:683)\n\tat org.apache.spark.ml.util.MLWriter.save(ReadWrite.scala:167)\n\tat java.base/jdk.internal.reflect.NativeMethodAccessorImpl.invoke0(Native Method)\n\tat java.base/jdk.internal.reflect.NativeMethodAccessorImpl.invoke(NativeMethodAccessorImpl.java:62)\n\tat java.base/jdk.internal.reflect.DelegatingMethodAccessorImpl.invoke(DelegatingMethodAccessorImpl.java:43)\n\tat java.base/java.lang.reflect.Method.invoke(Method.java:566)\n\tat py4j.reflection.MethodInvoker.invoke(MethodInvoker.java:244)\n\tat py4j.reflection.ReflectionEngine.invoke(ReflectionEngine.java:374)\n\tat py4j.Gateway.invoke(Gateway.java:282)\n\tat py4j.commands.AbstractCommand.invokeMethod(AbstractCommand.java:132)\n\tat py4j.commands.CallCommand.execute(CallCommand.java:79)\n\tat py4j.ClientServerConnection.waitForCommands(ClientServerConnection.java:182)\n\tat py4j.ClientServerConnection.run(ClientServerConnection.java:106)\n\tat java.base/java.lang.Thread.run(Thread.java:829)\n",
          "traceback": [
            "\u001b[0;31m---------------------------------------------------------------------------\u001b[0m",
            "\u001b[0;31mPy4JJavaError\u001b[0m                             Traceback (most recent call last)",
            "\u001b[0;32m<ipython-input-43-a5fbf640b42b>\u001b[0m in \u001b[0;36m<cell line: 2>\u001b[0;34m()\u001b[0m\n\u001b[1;32m      1\u001b[0m \u001b[0;31m# save model\u001b[0m\u001b[0;34m\u001b[0m\u001b[0;34m\u001b[0m\u001b[0m\n\u001b[0;32m----> 2\u001b[0;31m \u001b[0mmodel\u001b[0m\u001b[0;34m.\u001b[0m\u001b[0msave\u001b[0m\u001b[0;34m(\u001b[0m\u001b[0;34m\"model\"\u001b[0m\u001b[0;34m)\u001b[0m\u001b[0;34m\u001b[0m\u001b[0;34m\u001b[0m\u001b[0m\n\u001b[0m",
            "\u001b[0;32m/usr/local/lib/python3.10/dist-packages/pyspark/ml/util.py\u001b[0m in \u001b[0;36msave\u001b[0;34m(self, path)\u001b[0m\n\u001b[1;32m    260\u001b[0m     \u001b[0;32mdef\u001b[0m \u001b[0msave\u001b[0m\u001b[0;34m(\u001b[0m\u001b[0mself\u001b[0m\u001b[0;34m,\u001b[0m \u001b[0mpath\u001b[0m\u001b[0;34m:\u001b[0m \u001b[0mstr\u001b[0m\u001b[0;34m)\u001b[0m \u001b[0;34m->\u001b[0m \u001b[0;32mNone\u001b[0m\u001b[0;34m:\u001b[0m\u001b[0;34m\u001b[0m\u001b[0;34m\u001b[0m\u001b[0m\n\u001b[1;32m    261\u001b[0m         \u001b[0;34m\"\"\"Save this ML instance to the given path, a shortcut of 'write().save(path)'.\"\"\"\u001b[0m\u001b[0;34m\u001b[0m\u001b[0;34m\u001b[0m\u001b[0m\n\u001b[0;32m--> 262\u001b[0;31m         \u001b[0mself\u001b[0m\u001b[0;34m.\u001b[0m\u001b[0mwrite\u001b[0m\u001b[0;34m(\u001b[0m\u001b[0;34m)\u001b[0m\u001b[0;34m.\u001b[0m\u001b[0msave\u001b[0m\u001b[0;34m(\u001b[0m\u001b[0mpath\u001b[0m\u001b[0;34m)\u001b[0m\u001b[0;34m\u001b[0m\u001b[0;34m\u001b[0m\u001b[0m\n\u001b[0m\u001b[1;32m    263\u001b[0m \u001b[0;34m\u001b[0m\u001b[0m\n\u001b[1;32m    264\u001b[0m \u001b[0;34m\u001b[0m\u001b[0m\n",
            "\u001b[0;32m/usr/local/lib/python3.10/dist-packages/pyspark/ml/util.py\u001b[0m in \u001b[0;36msave\u001b[0;34m(self, path)\u001b[0m\n\u001b[1;32m    211\u001b[0m         \u001b[0;32mif\u001b[0m \u001b[0;32mnot\u001b[0m \u001b[0misinstance\u001b[0m\u001b[0;34m(\u001b[0m\u001b[0mpath\u001b[0m\u001b[0;34m,\u001b[0m \u001b[0mstr\u001b[0m\u001b[0;34m)\u001b[0m\u001b[0;34m:\u001b[0m\u001b[0;34m\u001b[0m\u001b[0;34m\u001b[0m\u001b[0m\n\u001b[1;32m    212\u001b[0m             \u001b[0;32mraise\u001b[0m \u001b[0mTypeError\u001b[0m\u001b[0;34m(\u001b[0m\u001b[0;34m\"path should be a string, got type %s\"\u001b[0m \u001b[0;34m%\u001b[0m \u001b[0mtype\u001b[0m\u001b[0;34m(\u001b[0m\u001b[0mpath\u001b[0m\u001b[0;34m)\u001b[0m\u001b[0;34m)\u001b[0m\u001b[0;34m\u001b[0m\u001b[0;34m\u001b[0m\u001b[0m\n\u001b[0;32m--> 213\u001b[0;31m         \u001b[0mself\u001b[0m\u001b[0;34m.\u001b[0m\u001b[0m_jwrite\u001b[0m\u001b[0;34m.\u001b[0m\u001b[0msave\u001b[0m\u001b[0;34m(\u001b[0m\u001b[0mpath\u001b[0m\u001b[0;34m)\u001b[0m\u001b[0;34m\u001b[0m\u001b[0;34m\u001b[0m\u001b[0m\n\u001b[0m\u001b[1;32m    214\u001b[0m \u001b[0;34m\u001b[0m\u001b[0m\n\u001b[1;32m    215\u001b[0m     \u001b[0;32mdef\u001b[0m \u001b[0moverwrite\u001b[0m\u001b[0;34m(\u001b[0m\u001b[0mself\u001b[0m\u001b[0;34m)\u001b[0m \u001b[0;34m->\u001b[0m \u001b[0;34m\"JavaMLWriter\"\u001b[0m\u001b[0;34m:\u001b[0m\u001b[0;34m\u001b[0m\u001b[0;34m\u001b[0m\u001b[0m\n",
            "\u001b[0;32m/usr/local/lib/python3.10/dist-packages/py4j/java_gateway.py\u001b[0m in \u001b[0;36m__call__\u001b[0;34m(self, *args)\u001b[0m\n\u001b[1;32m   1320\u001b[0m \u001b[0;34m\u001b[0m\u001b[0m\n\u001b[1;32m   1321\u001b[0m         \u001b[0manswer\u001b[0m \u001b[0;34m=\u001b[0m \u001b[0mself\u001b[0m\u001b[0;34m.\u001b[0m\u001b[0mgateway_client\u001b[0m\u001b[0;34m.\u001b[0m\u001b[0msend_command\u001b[0m\u001b[0;34m(\u001b[0m\u001b[0mcommand\u001b[0m\u001b[0;34m)\u001b[0m\u001b[0;34m\u001b[0m\u001b[0;34m\u001b[0m\u001b[0m\n\u001b[0;32m-> 1322\u001b[0;31m         return_value = get_return_value(\n\u001b[0m\u001b[1;32m   1323\u001b[0m             answer, self.gateway_client, self.target_id, self.name)\n\u001b[1;32m   1324\u001b[0m \u001b[0;34m\u001b[0m\u001b[0m\n",
            "\u001b[0;32m/usr/local/lib/python3.10/dist-packages/pyspark/errors/exceptions/captured.py\u001b[0m in \u001b[0;36mdeco\u001b[0;34m(*a, **kw)\u001b[0m\n\u001b[1;32m    177\u001b[0m     \u001b[0;32mdef\u001b[0m \u001b[0mdeco\u001b[0m\u001b[0;34m(\u001b[0m\u001b[0;34m*\u001b[0m\u001b[0ma\u001b[0m\u001b[0;34m:\u001b[0m \u001b[0mAny\u001b[0m\u001b[0;34m,\u001b[0m \u001b[0;34m**\u001b[0m\u001b[0mkw\u001b[0m\u001b[0;34m:\u001b[0m \u001b[0mAny\u001b[0m\u001b[0;34m)\u001b[0m \u001b[0;34m->\u001b[0m \u001b[0mAny\u001b[0m\u001b[0;34m:\u001b[0m\u001b[0;34m\u001b[0m\u001b[0;34m\u001b[0m\u001b[0m\n\u001b[1;32m    178\u001b[0m         \u001b[0;32mtry\u001b[0m\u001b[0;34m:\u001b[0m\u001b[0;34m\u001b[0m\u001b[0;34m\u001b[0m\u001b[0m\n\u001b[0;32m--> 179\u001b[0;31m             \u001b[0;32mreturn\u001b[0m \u001b[0mf\u001b[0m\u001b[0;34m(\u001b[0m\u001b[0;34m*\u001b[0m\u001b[0ma\u001b[0m\u001b[0;34m,\u001b[0m \u001b[0;34m**\u001b[0m\u001b[0mkw\u001b[0m\u001b[0;34m)\u001b[0m\u001b[0;34m\u001b[0m\u001b[0;34m\u001b[0m\u001b[0m\n\u001b[0m\u001b[1;32m    180\u001b[0m         \u001b[0;32mexcept\u001b[0m \u001b[0mPy4JJavaError\u001b[0m \u001b[0;32mas\u001b[0m \u001b[0me\u001b[0m\u001b[0;34m:\u001b[0m\u001b[0;34m\u001b[0m\u001b[0;34m\u001b[0m\u001b[0m\n\u001b[1;32m    181\u001b[0m             \u001b[0mconverted\u001b[0m \u001b[0;34m=\u001b[0m \u001b[0mconvert_exception\u001b[0m\u001b[0;34m(\u001b[0m\u001b[0me\u001b[0m\u001b[0;34m.\u001b[0m\u001b[0mjava_exception\u001b[0m\u001b[0;34m)\u001b[0m\u001b[0;34m\u001b[0m\u001b[0;34m\u001b[0m\u001b[0m\n",
            "\u001b[0;32m/usr/local/lib/python3.10/dist-packages/py4j/protocol.py\u001b[0m in \u001b[0;36mget_return_value\u001b[0;34m(answer, gateway_client, target_id, name)\u001b[0m\n\u001b[1;32m    324\u001b[0m             \u001b[0mvalue\u001b[0m \u001b[0;34m=\u001b[0m \u001b[0mOUTPUT_CONVERTER\u001b[0m\u001b[0;34m[\u001b[0m\u001b[0mtype\u001b[0m\u001b[0;34m]\u001b[0m\u001b[0;34m(\u001b[0m\u001b[0manswer\u001b[0m\u001b[0;34m[\u001b[0m\u001b[0;36m2\u001b[0m\u001b[0;34m:\u001b[0m\u001b[0;34m]\u001b[0m\u001b[0;34m,\u001b[0m \u001b[0mgateway_client\u001b[0m\u001b[0;34m)\u001b[0m\u001b[0;34m\u001b[0m\u001b[0;34m\u001b[0m\u001b[0m\n\u001b[1;32m    325\u001b[0m             \u001b[0;32mif\u001b[0m \u001b[0manswer\u001b[0m\u001b[0;34m[\u001b[0m\u001b[0;36m1\u001b[0m\u001b[0;34m]\u001b[0m \u001b[0;34m==\u001b[0m \u001b[0mREFERENCE_TYPE\u001b[0m\u001b[0;34m:\u001b[0m\u001b[0;34m\u001b[0m\u001b[0;34m\u001b[0m\u001b[0m\n\u001b[0;32m--> 326\u001b[0;31m                 raise Py4JJavaError(\n\u001b[0m\u001b[1;32m    327\u001b[0m                     \u001b[0;34m\"An error occurred while calling {0}{1}{2}.\\n\"\u001b[0m\u001b[0;34m.\u001b[0m\u001b[0;34m\u001b[0m\u001b[0;34m\u001b[0m\u001b[0m\n\u001b[1;32m    328\u001b[0m                     format(target_id, \".\", name), value)\n",
            "\u001b[0;31mPy4JJavaError\u001b[0m: An error occurred while calling o495.save.\n: java.io.IOException: Path model already exists. To overwrite it, please use write.overwrite().save(path) for Scala and use write().overwrite().save(path) for Java and Python.\n\tat org.apache.spark.ml.util.FileSystemOverwrite.handleOverwrite(ReadWrite.scala:683)\n\tat org.apache.spark.ml.util.MLWriter.save(ReadWrite.scala:167)\n\tat java.base/jdk.internal.reflect.NativeMethodAccessorImpl.invoke0(Native Method)\n\tat java.base/jdk.internal.reflect.NativeMethodAccessorImpl.invoke(NativeMethodAccessorImpl.java:62)\n\tat java.base/jdk.internal.reflect.DelegatingMethodAccessorImpl.invoke(DelegatingMethodAccessorImpl.java:43)\n\tat java.base/java.lang.reflect.Method.invoke(Method.java:566)\n\tat py4j.reflection.MethodInvoker.invoke(MethodInvoker.java:244)\n\tat py4j.reflection.ReflectionEngine.invoke(ReflectionEngine.java:374)\n\tat py4j.Gateway.invoke(Gateway.java:282)\n\tat py4j.commands.AbstractCommand.invokeMethod(AbstractCommand.java:132)\n\tat py4j.commands.CallCommand.execute(CallCommand.java:79)\n\tat py4j.ClientServerConnection.waitForCommands(ClientServerConnection.java:182)\n\tat py4j.ClientServerConnection.run(ClientServerConnection.java:106)\n\tat java.base/java.lang.Thread.run(Thread.java:829)\n"
          ]
        }
      ]
    },
    {
      "cell_type": "code",
      "metadata": {
        "id": "4zSA9_KCQ47W"
      },
      "source": [
        "# load saved model back to the environment\n",
        "from pyspark.ml.classification import LogisticRegressionModel\n",
        "\n",
        "model = LogisticRegressionModel.load('model')"
      ],
      "execution_count": 44,
      "outputs": []
    },
    {
      "cell_type": "markdown",
      "metadata": {
        "id": "Iznukr-xRANo"
      },
      "source": [
        "# PART 7: Prediction on New Data with the saved model\n"
      ]
    },
    {
      "cell_type": "code",
      "metadata": {
        "id": "MBq2hq27RdHB"
      },
      "source": [
        "#create a new spark dataframe\n",
        "test_df = spark.read.csv('/content/Project-4/Luis/Dataset/diabetes_test_dataset.csv', header=True, inferSchema=True)"
      ],
      "execution_count": 45,
      "outputs": []
    },
    {
      "cell_type": "code",
      "metadata": {
        "id": "co8K0NZsRdQB",
        "colab": {
          "base_uri": "https://localhost:8080/"
        },
        "outputId": "0a4bff99-d4cf-4e58-d82c-7cf3b6777703"
      },
      "source": [
        "#print the schema\n",
        "test_df.printSchema()"
      ],
      "execution_count": 46,
      "outputs": [
        {
          "output_type": "stream",
          "name": "stdout",
          "text": [
            "root\n",
            " |-- gender: integer (nullable = true)\n",
            " |-- age: integer (nullable = true)\n",
            " |-- hypertension: integer (nullable = true)\n",
            " |-- heart_disease: integer (nullable = true)\n",
            " |-- smoking_history: integer (nullable = true)\n",
            " |-- bmi: double (nullable = true)\n",
            " |-- HbA1c_level: double (nullable = true)\n",
            " |-- blood_glucose_level: integer (nullable = true)\n",
            "\n"
          ]
        }
      ]
    },
    {
      "cell_type": "code",
      "metadata": {
        "id": "J7jtGf4lRdaz"
      },
      "source": [
        "#create an additional feature merged column\n",
        "test_data = assembler.transform(test_df)"
      ],
      "execution_count": 47,
      "outputs": []
    },
    {
      "cell_type": "code",
      "metadata": {
        "id": "kd1glzOnRdkq",
        "colab": {
          "base_uri": "https://localhost:8080/"
        },
        "outputId": "8a763e7e-7af5-449c-d50e-405f7b7fb499"
      },
      "source": [
        "#print the schema\n",
        "test_data.printSchema()"
      ],
      "execution_count": 48,
      "outputs": [
        {
          "output_type": "stream",
          "name": "stdout",
          "text": [
            "root\n",
            " |-- gender: integer (nullable = true)\n",
            " |-- age: integer (nullable = true)\n",
            " |-- hypertension: integer (nullable = true)\n",
            " |-- heart_disease: integer (nullable = true)\n",
            " |-- smoking_history: integer (nullable = true)\n",
            " |-- bmi: double (nullable = true)\n",
            " |-- HbA1c_level: double (nullable = true)\n",
            " |-- blood_glucose_level: integer (nullable = true)\n",
            " |-- features: vector (nullable = true)\n",
            "\n"
          ]
        }
      ]
    },
    {
      "cell_type": "code",
      "metadata": {
        "id": "40Dck7K_Rdxh",
        "colab": {
          "base_uri": "https://localhost:8080/"
        },
        "outputId": "d069befa-ada4-4f99-9e32-1db7e5521293"
      },
      "source": [
        "#use model to make predictions\n",
        "results = model.transform(test_data)\n",
        "results.printSchema()"
      ],
      "execution_count": 49,
      "outputs": [
        {
          "output_type": "stream",
          "name": "stdout",
          "text": [
            "root\n",
            " |-- gender: integer (nullable = true)\n",
            " |-- age: integer (nullable = true)\n",
            " |-- hypertension: integer (nullable = true)\n",
            " |-- heart_disease: integer (nullable = true)\n",
            " |-- smoking_history: integer (nullable = true)\n",
            " |-- bmi: double (nullable = true)\n",
            " |-- HbA1c_level: double (nullable = true)\n",
            " |-- blood_glucose_level: integer (nullable = true)\n",
            " |-- features: vector (nullable = true)\n",
            " |-- rawPrediction: vector (nullable = true)\n",
            " |-- probability: vector (nullable = true)\n",
            " |-- prediction: double (nullable = false)\n",
            "\n"
          ]
        }
      ]
    },
    {
      "cell_type": "code",
      "metadata": {
        "id": "AHpfS2SjRd7s",
        "colab": {
          "base_uri": "https://localhost:8080/"
        },
        "outputId": "404ad5f8-b4ce-4395-c221-0710ea096434"
      },
      "source": [
        "#display the predictions\n",
        "results.select('features','rawPrediction','probability','prediction').show()"
      ],
      "execution_count": 50,
      "outputs": [
        {
          "output_type": "stream",
          "name": "stdout",
          "text": [
            "+--------------------+--------------------+--------------------+----------+\n",
            "|            features|       rawPrediction|         probability|prediction|\n",
            "+--------------------+--------------------+--------------------+----------+\n",
            "|[0.0,80.0,1.0,1.0...|[-0.3037109553510...|[0.42465056088912...|       1.0|\n",
            "|[1.0,28.0,0.0,0.0...|[4.63189662302659...|[0.99035760547458...|       0.0|\n",
            "|[0.0,36.0,0.0,0.0...|[6.56975950303427...|[0.99859982864796...|       0.0|\n",
            "|[1.0,76.0,1.0,1.0...|[3.64400113354813...|[0.97451875649938...|       0.0|\n",
            "|(8,[1,5,6,7],[20....|[5.64410537763842...|[0.99647416307362...|       0.0|\n",
            "|(8,[1,5,6,7],[44....|[1.66529427415611...|[0.84094741683320...|       0.0|\n",
            "|[1.0,42.0,0.0,0.0...|[5.91238014138594...|[0.99730156209374...|       0.0|\n",
            "|(8,[1,5,6,7],[32....|[8.28975423408175...|[0.99974898686229...|       0.0|\n",
            "+--------------------+--------------------+--------------------+----------+\n",
            "\n"
          ]
        }
      ]
    },
    {
      "cell_type": "markdown",
      "source": [
        "# PART 8: Host a Flask App which will take subjects parameters and return probablity and prediction on being diabetic or not based on ML model above"
      ],
      "metadata": {
        "id": "IKwLb4u2OB-6"
      }
    },
    {
      "cell_type": "code",
      "source": [
        "# import dependencies to run Flask app and host it on publicly accessible colab URL\n",
        "from flask import *\n",
        "from google.colab import output\n",
        "from google.colab.output import eval_js"
      ],
      "metadata": {
        "id": "f5MRzVzRGdLn"
      },
      "execution_count": 51,
      "outputs": []
    },
    {
      "cell_type": "code",
      "source": [
        "# initialize Flask app\n",
        "app=Flask(__name__)\n"
      ],
      "metadata": {
        "id": "9Wj4Xo3ZGkXY"
      },
      "execution_count": 52,
      "outputs": []
    },
    {
      "cell_type": "code",
      "source": [
        "# Static Root API for Diabetes Prediction Model\n",
        "@app.route('/')\n",
        "def home():\n",
        "    return 'Root API for Diabetes Prediction Model'\n",
        "\n",
        "# Dynamic API that will take parameters of subject through Web UI and leverage ML Model above to return probability & prediction for being diabetic\n",
        "@app.route('/api/v1.0/predict/<gender>/<age>/<hypertension>/<heart_disease>/<smoking_history>/<bmi>/<HbA1c_level>/<blood_glucose_level>')\n",
        "def predict(gender,age,hypertension,heart_disease,smoking_history,bmi,HbA1c_level,blood_glucose_level):\n",
        "    # create a tuple from input parameters and convert them to int or float as they are treated as string when passed from Web UI\n",
        "    data = [(int(gender),int(age),int(hypertension),int(heart_disease),int(smoking_history),float(bmi),float(HbA1c_level),int(blood_glucose_level))]\n",
        "    columns = ['gender','age','hypertension','heart_disease','smoking_history','bmi','HbA1c_level','blood_glucose_level']\n",
        "\n",
        "    # Create spark dataframe for the input parameters\n",
        "    test_df = spark.createDataFrame(data,columns)\n",
        "\n",
        "    # invoke ML Model and capture model output in results\n",
        "    test_data = assembler.transform(test_df)\n",
        "    results = model.transform(test_data)\n",
        "\n",
        "    # return the results after converting it to JSON\n",
        "    return results.toJSON().first()"
      ],
      "metadata": {
        "id": "Df-lDH6cJ1o3"
      },
      "execution_count": 53,
      "outputs": []
    },
    {
      "cell_type": "code",
      "source": [
        "# Flask app when run gives local IP to access API. Since this is running on Cloud (Google Colab) and not on local notebook, local IP (127.0.0.1) will not be accessible.\n",
        "# Below code will ask colab to give us publicly accessible URL\n",
        "\n",
        "print(eval_js(\"google.colab.kernel.proxyPort(5000)\"))\n",
        "output.serve_kernel_port_as_window(5000)\n",
        "if __name__ == '__main__':\n",
        "    app.run(host='0.0.0.0',port=5000)"
      ],
      "metadata": {
        "id": "_nBfvcpZOmxv",
        "colab": {
          "base_uri": "https://localhost:8080/",
          "height": 243
        },
        "outputId": "25e55470-00d5-472c-b5e9-14299d71ac28"
      },
      "execution_count": 104,
      "outputs": [
        {
          "output_type": "stream",
          "name": "stdout",
          "text": [
            "https://0yqlvlu6wsro-496ff2e9c6d22116-5000-colab.googleusercontent.com/\n"
          ]
        },
        {
          "output_type": "display_data",
          "data": {
            "text/plain": [
              "<IPython.core.display.Javascript object>"
            ],
            "application/javascript": [
              "(async (port, path, text, element) => {\n",
              "    if (!google.colab.kernel.accessAllowed) {\n",
              "      return;\n",
              "    }\n",
              "    element.appendChild(document.createTextNode(''));\n",
              "    const url = await google.colab.kernel.proxyPort(port);\n",
              "    const anchor = document.createElement('a');\n",
              "    anchor.href = new URL(path, url).toString();\n",
              "    anchor.target = '_blank';\n",
              "    anchor.setAttribute('data-href', url + path);\n",
              "    anchor.textContent = text;\n",
              "    element.appendChild(anchor);\n",
              "  })(5000, \"/\", \"https://localhost:5000/\", window.element)"
            ]
          },
          "metadata": {}
        },
        {
          "output_type": "stream",
          "name": "stdout",
          "text": [
            " * Serving Flask app '__main__'\n",
            " * Debug mode: off\n"
          ]
        },
        {
          "output_type": "stream",
          "name": "stderr",
          "text": [
            "INFO:werkzeug:\u001b[31m\u001b[1mWARNING: This is a development server. Do not use it in a production deployment. Use a production WSGI server instead.\u001b[0m\n",
            " * Running on all addresses (0.0.0.0)\n",
            " * Running on http://127.0.0.1:5000\n",
            " * Running on http://172.28.0.12:5000\n",
            "INFO:werkzeug:\u001b[33mPress CTRL+C to quit\u001b[0m\n",
            "INFO:werkzeug:127.0.0.1 - - [25/Feb/2024 22:27:28] \"GET / HTTP/1.1\" 200 -\n",
            "INFO:werkzeug:127.0.0.1 - - [25/Feb/2024 22:27:28] \"\u001b[33mGET /favicon.ico HTTP/1.1\u001b[0m\" 404 -\n",
            "INFO:werkzeug:127.0.0.1 - - [25/Feb/2024 22:27:49] \"GET / HTTP/1.1\" 200 -\n",
            "INFO:werkzeug:127.0.0.1 - - [25/Feb/2024 22:27:50] \"\u001b[33mGET /favicon.ico HTTP/1.1\u001b[0m\" 404 -\n"
          ]
        }
      ]
    },
    {
      "cell_type": "markdown",
      "source": [
        "# PART 9: Integration of Web UI with this API"
      ],
      "metadata": {
        "id": "n-WLr2805AiB"
      }
    },
    {
      "cell_type": "code",
      "source": [
        "%%html\n",
        "<!DOCTYPE html>\n",
        "<html>\n",
        "<head>\n",
        "  <title>Diabetes Prediction</title>\n",
        "  <style>\n",
        "    body {\n",
        "      font-family: Arial, sans-serif;\n",
        "      background-color: #f9f9f9;\n",
        "      padding: 20px;\n",
        "    }\n",
        "\n",
        "    .container {\n",
        "      max-width: 500px;\n",
        "      margin: 0 auto;\n",
        "      background-color: #fff;\n",
        "      padding: 20px;\n",
        "      border-radius: 5px;\n",
        "    }\n",
        "\n",
        "    h1 {\n",
        "      text-align: center;\n",
        "    }\n",
        "\n",
        "    label {\n",
        "      display: block;\n",
        "      margin-bottom: 10px;\n",
        "    }\n",
        "\n",
        "    input[type=\"text\"],\n",
        "    input[type=\"number\"] {\n",
        "      padding: 10px;\n",
        "      border-radius: 5px;\n",
        "      border: 1px solid #ccc;\n",
        "      width: 100%;\n",
        "      margin-bottom: 20px;\n",
        "    }\n",
        "\n",
        "    button {\n",
        "      background-color: #4CAF50;\n",
        "      color: white;\n",
        "      padding: 12px 20px;\n",
        "      border: none;\n",
        "      border-radius: 5px;\n",
        "      cursor: pointer;\n",
        "      width: 100%;\n",
        "      font-size: 16px;\n",
        "    }\n",
        "\n",
        "  </style>\n",
        "</head>\n",
        "\n",
        "<body>\n",
        "\n",
        "  <div class=\"container\">\n",
        "\n",
        "    <h1>Diabetes Prediction</h1>\n",
        "\n",
        "    <form>\n",
        "\n",
        "      <label for=\"gender\">Gender:</label>\n",
        "      <input type=\"text\" id=\"gender\" name=\"gender\">\n",
        "\n",
        "      <label for=\"age\">Age:</label>\n",
        "      <input type=\"number\" id=\"age\" name=\"age\">\n",
        "\n",
        "      <label for=\"hypertension\">Hypertension:</label>\n",
        "      <input type=\"number\" id=\"hypertension\" name=\"hypertension\">\n",
        "\n",
        "      <label for=\"heart_disease\">Heart Disease:</label>\n",
        "      <input type=\"number\" id=\"heart_disease\" name=\"heart_disease\">\n",
        "\n",
        "      <label for=\"smoking_history\">Smoking History:</label>\n",
        "      <input type=\"number\" id=\"smoking_history\" name=\"smoking_history\">\n",
        "\n",
        "      <label for=\"bmi\">BMI:</label>\n",
        "      <input type=\"number\" step=\"0.01\" id=\"bmi\" name=\"bmi\">\n",
        "\n",
        "      <label for=\"hba1c_level\">HbA1c Level:</label>\n",
        "      <input type=\"number\" step=\"0.01\" id=\"hba1c_level\" name=\"hba1c_level\">\n",
        "\n",
        "      <label for=\"blood_glucose_level\">Blood Glucose Level:</label>\n",
        "      <input type=\"number\" id=\"blood_glucose_level\" name=\"blood_glucose_level\">\n",
        "\n",
        "      <button type=\"button\" onclick=\"predict()\">Predict</button>\n",
        "\n",
        "    </form>\n",
        "\n",
        "  </div>\n",
        "\n",
        "  <script>\n",
        "    function predict() {\n",
        "      // Get input values\n",
        "      var gender = document.getElementById(\"gender\").value;\n",
        "      var age = document.getElementById(\"age\").value;\n",
        "      var hypertension = document.getElementById(\"hypertension\").value;\n",
        "      var heart_disease = document.getElementById(\"heart_disease\").value;\n",
        "      var smoking_history = document.getElementById(\"smoking_history\").value;\n",
        "      var bmi = document.getElementById(\"bmi\").value;\n",
        "      var hba1c_level = document.getElementById(\"hba1c_level\").value;\n",
        "      var blood_glucose_level = document.getElementById(\"blood_glucose_level\").value;\n",
        "\n",
        "      // API URL\n",
        "      var apiUrl = \"https://0yqlvlu6wsro-496ff2e9c6d22116-5000-colab.googleusercontent.com/\"+gender+\"/\"+age+\"/\"+hypertension+\"/\"+heart_disease+\"/\"+smoking_history+\"/\"+bmi+\"/\"+hba1c_level+\"/\"+blood_glucose_level;\n",
        "\n",
        "      // Make API call\n",
        "      fetch(apiUrl)\n",
        "        .then(response => response.json())\n",
        "        .then(data => {\n",
        "          // Display results\n",
        "          console.log(data)\n",
        "          alert(\"Prediction: \" + data.prediction + \", Probability: \" + data.probability[1]);\n",
        "        });\n",
        "    }\n",
        "  </script>\n",
        "\n",
        "</body>\n",
        "</html>"
      ],
      "metadata": {
        "colab": {
          "base_uri": "https://localhost:8080/",
          "height": 854
        },
        "id": "ZcelFZMyVgGa",
        "outputId": "af191ab6-daad-40b5-fe0b-ee87a2f7e2dd"
      },
      "execution_count": 105,
      "outputs": [
        {
          "output_type": "display_data",
          "data": {
            "text/plain": [
              "<IPython.core.display.HTML object>"
            ],
            "text/html": [
              "<!DOCTYPE html>\n",
              "<html>\n",
              "<head>\n",
              "  <title>Diabetes Prediction</title>\n",
              "  <style>\n",
              "    body {\n",
              "      font-family: Arial, sans-serif;\n",
              "      background-color: #f9f9f9;\n",
              "      padding: 20px;\n",
              "    }\n",
              "    \n",
              "    .container {\n",
              "      max-width: 500px;  \n",
              "      margin: 0 auto;\n",
              "      background-color: #fff;\n",
              "      padding: 20px; \n",
              "      border-radius: 5px;\n",
              "    }\n",
              "    \n",
              "    h1 {\n",
              "      text-align: center; \n",
              "    }\n",
              "    \n",
              "    label {\n",
              "      display: block;\n",
              "      margin-bottom: 10px;\n",
              "    }\n",
              "    \n",
              "    input[type=\"text\"], \n",
              "    input[type=\"number\"] {\n",
              "      padding: 10px;\n",
              "      border-radius: 5px;\n",
              "      border: 1px solid #ccc;  \n",
              "      width: 100%;\n",
              "      margin-bottom: 20px; \n",
              "    }\n",
              "    \n",
              "    button {\n",
              "      background-color: #4CAF50;\n",
              "      color: white;\n",
              "      padding: 12px 20px;\n",
              "      border: none;\n",
              "      border-radius: 5px;\n",
              "      cursor: pointer; \n",
              "      width: 100%;\n",
              "      font-size: 16px;\n",
              "    }\n",
              "\n",
              "  </style>\n",
              "</head>\n",
              "\n",
              "<body>\n",
              "\n",
              "  <div class=\"container\">\n",
              "\n",
              "    <h1>Diabetes Prediction</h1>\n",
              "    \n",
              "    <form>\n",
              "    \n",
              "      <label for=\"gender\">Gender:</label>\n",
              "      <input type=\"text\" id=\"gender\" name=\"gender\">\n",
              "\n",
              "      <label for=\"age\">Age:</label>    \n",
              "      <input type=\"number\" id=\"age\" name=\"age\">\n",
              "      \n",
              "      <label for=\"hypertension\">Hypertension:</label>    \n",
              "      <input type=\"number\" id=\"hypertension\" name=\"hypertension\">\n",
              "\n",
              "      <label for=\"heart_disease\">Heart Disease:</label>\n",
              "      <input type=\"number\" id=\"heart_disease\" name=\"heart_disease\">\n",
              "      \n",
              "      <label for=\"smoking_history\">Smoking History:</label>    \n",
              "      <input type=\"number\" id=\"smoking_history\" name=\"smoking_history\">\n",
              "\n",
              "      <label for=\"bmi\">BMI:</label>\n",
              "      <input type=\"number\" step=\"0.01\" id=\"bmi\" name=\"bmi\">\n",
              "      \n",
              "      <label for=\"hba1c_level\">HbA1c Level:</label>\n",
              "      <input type=\"number\" step=\"0.01\" id=\"hba1c_level\" name=\"hba1c_level\">\n",
              "\n",
              "      <label for=\"blood_glucose_level\">Blood Glucose Level:</label>    \n",
              "      <input type=\"number\" id=\"blood_glucose_level\" name=\"blood_glucose_level\">\n",
              "      \n",
              "      <button type=\"button\" onclick=\"predict()\">Predict</button>\n",
              "      \n",
              "    </form>\n",
              "\n",
              "  </div>\n",
              "\n",
              "  <script>\n",
              "    function predict() {\n",
              "      // Get input values  \n",
              "      var gender = document.getElementById(\"gender\").value;  \n",
              "      var age = document.getElementById(\"age\").value;\n",
              "      var hypertension = document.getElementById(\"hypertension\").value;\n",
              "      var heart_disease = document.getElementById(\"heart_disease\").value;  \n",
              "      var smoking_history = document.getElementById(\"smoking_history\").value;\n",
              "      var bmi = document.getElementById(\"bmi\").value;\n",
              "      var hba1c_level = document.getElementById(\"hba1c_level\").value;\n",
              "      var blood_glucose_level = document.getElementById(\"blood_glucose_level\").value;\n",
              "\n",
              "      // API URL\n",
              "      var apiUrl = \"https://0yqlvlu6wsro-496ff2e9c6d22116-5000-colab.googleusercontent.com/\"+gender+\"/\"+age+\"/\"+hypertension+\"/\"+heart_disease+\"/\"+smoking_history+\"/\"+bmi+\"/\"+hba1c_level+\"/\"+blood_glucose_level;\n",
              "      \n",
              "      // Make API call  \n",
              "      fetch(apiUrl)\n",
              "        .then(response => response.json())\n",
              "        .then(data => {\n",
              "          // Display results  \n",
              "          console.log(data)\n",
              "          alert(\"Prediction: \" + data.prediction + \", Probability: \" + data.probability[1]); \n",
              "        });\n",
              "    }\n",
              "  </script>\n",
              "\n",
              "</body>\n",
              "</html>\n"
            ]
          },
          "metadata": {}
        }
      ]
    }
  ]
}