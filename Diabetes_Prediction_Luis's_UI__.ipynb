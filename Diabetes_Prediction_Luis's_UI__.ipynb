{
  "nbformat": 4,
  "nbformat_minor": 0,
  "metadata": {
    "colab": {
      "provenance": [],
      "include_colab_link": true
    },
    "kernelspec": {
      "name": "python3",
      "display_name": "Python 3"
    }
  },
  "cells": [
    {
      "cell_type": "markdown",
      "metadata": {
        "id": "view-in-github",
        "colab_type": "text"
      },
      "source": [
        "<a href=\"https://colab.research.google.com/github/elluis1001/Project-4/blob/main/Diabetes_Prediction_Luis's_UI__.ipynb\" target=\"_parent\"><img src=\"https://colab.research.google.com/assets/colab-badge.svg\" alt=\"Open In Colab\"/></a>"
      ]
    },
    {
      "cell_type": "markdown",
      "metadata": {
        "id": "Snq4iq_JOB4T"
      },
      "source": [
        "# PART 1 : Install Dependencies & Run Spark Session"
      ]
    },
    {
      "cell_type": "code",
      "metadata": {
        "id": "NpCRBcqtN5lH",
        "colab": {
          "base_uri": "https://localhost:8080/"
        },
        "outputId": "fe995fdf-bcf8-4361-b4ed-8c0673e677ec"
      },
      "source": [
        "#install pyspark\n",
        "! pip install pyspark\n",
        "\n",
        "from pyspark.sql.functions import when, col"
      ],
      "execution_count": 1,
      "outputs": [
        {
          "output_type": "stream",
          "name": "stdout",
          "text": [
            "Collecting pyspark\n",
            "  Downloading pyspark-3.5.1.tar.gz (317.0 MB)\n",
            "\u001b[2K     \u001b[90m━━━━━━━━━━━━━━━━━━━━━━━━━━━━━━━━━━━━━━━━\u001b[0m \u001b[32m317.0/317.0 MB\u001b[0m \u001b[31m3.7 MB/s\u001b[0m eta \u001b[36m0:00:00\u001b[0m\n",
            "\u001b[?25h  Preparing metadata (setup.py) ... \u001b[?25l\u001b[?25hdone\n",
            "Requirement already satisfied: py4j==0.10.9.7 in /usr/local/lib/python3.10/dist-packages (from pyspark) (0.10.9.7)\n",
            "Building wheels for collected packages: pyspark\n",
            "  Building wheel for pyspark (setup.py) ... \u001b[?25l\u001b[?25hdone\n",
            "  Created wheel for pyspark: filename=pyspark-3.5.1-py2.py3-none-any.whl size=317488493 sha256=e90a4c9905702a10ddf72c78336460315abee022538e86a70b058fb28db5784b\n",
            "  Stored in directory: /root/.cache/pip/wheels/80/1d/60/2c256ed38dddce2fdd93be545214a63e02fbd8d74fb0b7f3a6\n",
            "Successfully built pyspark\n",
            "Installing collected packages: pyspark\n",
            "Successfully installed pyspark-3.5.1\n"
          ]
        }
      ]
    },
    {
      "cell_type": "code",
      "metadata": {
        "id": "GNZoOuDqOdxX"
      },
      "source": [
        "#create a sparksession\n",
        "from pyspark.sql import SparkSession\n",
        "spark = SparkSession.builder.appName(\"spark\").getOrCreate()"
      ],
      "execution_count": 2,
      "outputs": []
    },
    {
      "cell_type": "markdown",
      "metadata": {
        "id": "5sG3MLXlOews"
      },
      "source": [
        "# PART 2: Clone & Explore dataset"
      ]
    },
    {
      "cell_type": "code",
      "metadata": {
        "id": "-Uh5H7_KOoSL",
        "colab": {
          "base_uri": "https://localhost:8080/"
        },
        "outputId": "fab67e9c-9821-4899-c11e-2727ea8173f4"
      },
      "source": [
        "#clone the diabetes dataset from the github repository\n",
        "# if you get error saying \"Project-4 directory already exists, move to next cell\"\n",
        "! git clone https://github.com/elluis1001/Project-4/"
      ],
      "execution_count": 3,
      "outputs": [
        {
          "output_type": "stream",
          "name": "stdout",
          "text": [
            "Cloning into 'Project-4'...\n",
            "remote: Enumerating objects: 158, done.\u001b[K\n",
            "remote: Counting objects: 100% (158/158), done.\u001b[K\n",
            "remote: Compressing objects: 100% (137/137), done.\u001b[K\n",
            "remote: Total 158 (delta 76), reused 67 (delta 19), pack-reused 0\u001b[K\n",
            "Receiving objects: 100% (158/158), 1.27 MiB | 4.53 MiB/s, done.\n",
            "Resolving deltas: 100% (76/76), done.\n"
          ]
        }
      ]
    },
    {
      "cell_type": "code",
      "metadata": {
        "id": "VcqwJRxVOutr",
        "colab": {
          "base_uri": "https://localhost:8080/"
        },
        "outputId": "cfac65c8-d9b4-4146-be37-9aa90c71f9ca"
      },
      "source": [
        "#check if the dataset exists\n",
        "! ls /content/Project-4/Luis/Dataset/"
      ],
      "execution_count": 4,
      "outputs": [
        {
          "output_type": "stream",
          "name": "stdout",
          "text": [
            "diabetes_prediction_dataset.csv  diabetes_test_dataset.csv\n"
          ]
        }
      ]
    },
    {
      "cell_type": "code",
      "metadata": {
        "id": "ST1rFFOlOu8s"
      },
      "source": [
        "#create spark dataframe\n",
        "df_diabetes_data = spark.read.csv(\"/content/Project-4/Luis/Dataset/diabetes_prediction_dataset.csv\", header=True, inferSchema=True)"
      ],
      "execution_count": 5,
      "outputs": []
    },
    {
      "cell_type": "code",
      "metadata": {
        "id": "IiJm-pmROvKd",
        "colab": {
          "base_uri": "https://localhost:8080/"
        },
        "outputId": "0403a551-dd4a-40a2-dd46-d4900ad83c39"
      },
      "source": [
        "#display the dataframe\n",
        "df_diabetes_data.show()"
      ],
      "execution_count": 6,
      "outputs": [
        {
          "output_type": "stream",
          "name": "stdout",
          "text": [
            "+------+----+------------+-------------+---------------+-----+-----------+-------------------+--------+\n",
            "|gender| age|hypertension|heart_disease|smoking_history|  bmi|HbA1c_level|blood_glucose_level|diabetes|\n",
            "+------+----+------------+-------------+---------------+-----+-----------+-------------------+--------+\n",
            "|Female|80.0|           0|            1|          never|25.19|        6.6|                140|       0|\n",
            "|Female|54.0|           0|            0|        No Info|27.32|        6.6|                 80|       0|\n",
            "|  Male|28.0|           0|            0|          never|27.32|        5.7|                158|       0|\n",
            "|Female|36.0|           0|            0|        current|23.45|        5.0|                155|       0|\n",
            "|  Male|76.0|           1|            1|        current|20.14|        4.8|                155|       0|\n",
            "|Female|20.0|           0|            0|          never|27.32|        6.6|                 85|       0|\n",
            "|Female|44.0|           0|            0|          never|19.31|        6.5|                200|       1|\n",
            "|Female|79.0|           0|            0|        No Info|23.86|        5.7|                 85|       0|\n",
            "|  Male|42.0|           0|            0|          never|33.64|        4.8|                145|       0|\n",
            "|Female|32.0|           0|            0|          never|27.32|        5.0|                100|       0|\n",
            "|Female|53.0|           0|            0|          never|27.32|        6.1|                 85|       0|\n",
            "|Female|54.0|           0|            0|         former| 54.7|        6.0|                100|       0|\n",
            "|Female|78.0|           0|            0|         former|36.05|        5.0|                130|       0|\n",
            "|Female|67.0|           0|            0|          never|25.69|        5.8|                200|       0|\n",
            "|Female|76.0|           0|            0|        No Info|27.32|        5.0|                160|       0|\n",
            "|  Male|78.0|           0|            0|        No Info|27.32|        6.6|                126|       0|\n",
            "|  Male|15.0|           0|            0|          never|30.36|        6.1|                200|       0|\n",
            "|Female|42.0|           0|            0|          never|24.48|        5.7|                158|       0|\n",
            "|Female|42.0|           0|            0|        No Info|27.32|        5.7|                 80|       0|\n",
            "|  Male|37.0|           0|            0|           ever|25.72|        3.5|                159|       0|\n",
            "+------+----+------------+-------------+---------------+-----+-----------+-------------------+--------+\n",
            "only showing top 20 rows\n",
            "\n"
          ]
        }
      ]
    },
    {
      "cell_type": "code",
      "source": [
        "#show amount of rows\n",
        "df_diabetes_data.count()"
      ],
      "metadata": {
        "colab": {
          "base_uri": "https://localhost:8080/"
        },
        "id": "MKF7kv1AI2pw",
        "outputId": "d749cac3-8efc-438e-8b70-f99876706ae4"
      },
      "execution_count": 7,
      "outputs": [
        {
          "output_type": "execute_result",
          "data": {
            "text/plain": [
              "100000"
            ]
          },
          "metadata": {},
          "execution_count": 7
        }
      ]
    },
    {
      "cell_type": "code",
      "metadata": {
        "id": "Ulqkuz8aOvV6",
        "colab": {
          "base_uri": "https://localhost:8080/"
        },
        "outputId": "89c0371a-c714-4e6e-c9ae-68a8433ee060"
      },
      "source": [
        "#print the schema\n",
        "df_diabetes_data.printSchema()"
      ],
      "execution_count": 8,
      "outputs": [
        {
          "output_type": "stream",
          "name": "stdout",
          "text": [
            "root\n",
            " |-- gender: string (nullable = true)\n",
            " |-- age: double (nullable = true)\n",
            " |-- hypertension: integer (nullable = true)\n",
            " |-- heart_disease: integer (nullable = true)\n",
            " |-- smoking_history: string (nullable = true)\n",
            " |-- bmi: double (nullable = true)\n",
            " |-- HbA1c_level: double (nullable = true)\n",
            " |-- blood_glucose_level: integer (nullable = true)\n",
            " |-- diabetes: integer (nullable = true)\n",
            "\n"
          ]
        }
      ]
    },
    {
      "cell_type": "code",
      "metadata": {
        "id": "kpZlF2S2Ovgw",
        "colab": {
          "base_uri": "https://localhost:8080/"
        },
        "outputId": "9655117d-6156-4d78-edf7-6ada2cb27231"
      },
      "source": [
        "#count the total no. of diabetic and non-diabetic class (values of 1 indicating the presence of diabetes and 0 indicating the absence of diabetes)\n",
        "print((df_diabetes_data.count(), len(df_diabetes_data.columns)))\n",
        "df_diabetes_data.groupBy('diabetes').count().show()"
      ],
      "execution_count": 9,
      "outputs": [
        {
          "output_type": "stream",
          "name": "stdout",
          "text": [
            "(100000, 9)\n",
            "+--------+-----+\n",
            "|diabetes|count|\n",
            "+--------+-----+\n",
            "|       1| 8500|\n",
            "|       0|91500|\n",
            "+--------+-----+\n",
            "\n"
          ]
        }
      ]
    },
    {
      "cell_type": "code",
      "source": [
        "#count the total no. of gender types\n",
        "print((df_diabetes_data.count(), len(df_diabetes_data.columns)))\n",
        "df_diabetes_data.groupBy('gender').count().show()"
      ],
      "metadata": {
        "colab": {
          "base_uri": "https://localhost:8080/"
        },
        "id": "3f2sAuuh9iY7",
        "outputId": "46bca740-5623-4a26-cd34-90258d308b9c"
      },
      "execution_count": 10,
      "outputs": [
        {
          "output_type": "stream",
          "name": "stdout",
          "text": [
            "(100000, 9)\n",
            "+------+-----+\n",
            "|gender|count|\n",
            "+------+-----+\n",
            "|Female|58552|\n",
            "| Other|   18|\n",
            "|  Male|41430|\n",
            "+------+-----+\n",
            "\n"
          ]
        }
      ]
    },
    {
      "cell_type": "code",
      "source": [
        "#check to see if there are any empty values in the 'gender' column\n",
        "df_diabetes_data[df_diabetes_data['gender'] == '']"
      ],
      "metadata": {
        "colab": {
          "base_uri": "https://localhost:8080/"
        },
        "id": "muPOXP7dF2Jl",
        "outputId": "4f214b24-150c-4a98-d554-4b8600f23a3e"
      },
      "execution_count": 11,
      "outputs": [
        {
          "output_type": "execute_result",
          "data": {
            "text/plain": [
              "DataFrame[gender: string, age: double, hypertension: int, heart_disease: int, smoking_history: string, bmi: double, HbA1c_level: double, blood_glucose_level: int, diabetes: int]"
            ]
          },
          "metadata": {},
          "execution_count": 11
        }
      ]
    },
    {
      "cell_type": "code",
      "metadata": {
        "id": "NewCNZEMOvtM",
        "colab": {
          "base_uri": "https://localhost:8080/"
        },
        "outputId": "817d3269-50b1-44f3-f5f3-da9fc35c6c9d"
      },
      "source": [
        "#get the summary statistics\n",
        "df_diabetes_data.describe().show()"
      ],
      "execution_count": 12,
      "outputs": [
        {
          "output_type": "stream",
          "name": "stdout",
          "text": [
            "+-------+------+-----------------+------------------+------------------+---------------+-----------------+------------------+-------------------+-------------------+\n",
            "|summary|gender|              age|      hypertension|     heart_disease|smoking_history|              bmi|       HbA1c_level|blood_glucose_level|           diabetes|\n",
            "+-------+------+-----------------+------------------+------------------+---------------+-----------------+------------------+-------------------+-------------------+\n",
            "|  count|100000|           100000|            100000|            100000|         100000|           100000|            100000|             100000|             100000|\n",
            "|   mean|  NULL|41.88585600000013|           0.07485|           0.03942|           NULL|27.32076709999422|5.5275069999983275|          138.05806|              0.085|\n",
            "| stddev|  NULL|22.51683987161704|0.2631504702289171|0.1945930169980986|           NULL|6.636783416648357|1.0706720918835468|  40.70813604870383|0.27888308976661896|\n",
            "|    min|Female|             0.08|                 0|                 0|        No Info|            10.01|               3.5|                 80|                  0|\n",
            "|    max| Other|             80.0|                 1|                 1|    not current|            95.69|               9.0|                300|                  1|\n",
            "+-------+------+-----------------+------------------+------------------+---------------+-----------------+------------------+-------------------+-------------------+\n",
            "\n"
          ]
        }
      ]
    },
    {
      "cell_type": "markdown",
      "metadata": {
        "id": "gZerPOR-OyjQ"
      },
      "source": [
        "# PART 3: Data Cleaning & Preparation"
      ]
    },
    {
      "cell_type": "code",
      "metadata": {
        "id": "Q-KkJvV_PFFU",
        "colab": {
          "base_uri": "https://localhost:8080/"
        },
        "outputId": "57b871a0-fcbe-4d5d-880b-07c633eb81f9"
      },
      "source": [
        "#check for null values\n",
        "for col in df_diabetes_data.columns:\n",
        "  print(col + \":\", df_diabetes_data[df_diabetes_data[col].isNull()].count())"
      ],
      "execution_count": 13,
      "outputs": [
        {
          "output_type": "stream",
          "name": "stdout",
          "text": [
            "gender: 0\n",
            "age: 0\n",
            "hypertension: 0\n",
            "heart_disease: 0\n",
            "smoking_history: 0\n",
            "bmi: 0\n",
            "HbA1c_level: 0\n",
            "blood_glucose_level: 0\n",
            "diabetes: 0\n"
          ]
        }
      ]
    },
    {
      "cell_type": "code",
      "metadata": {
        "id": "ZJsbgwZMPFQC"
      },
      "source": [
        "#look for the unnecessary values present\n",
        "def count_zeros():\n",
        "  columns_list = [\"age\", \"bmi\", \"HbA1c_level\", \"blood_glucose_level\"]\n",
        "  for i in columns_list:\n",
        "    print(i+\":\",df_diabetes_data[df_diabetes_data[i]==0].count())"
      ],
      "execution_count": 14,
      "outputs": []
    },
    {
      "cell_type": "code",
      "metadata": {
        "id": "pcXTErb9PFbo",
        "colab": {
          "base_uri": "https://localhost:8080/"
        },
        "outputId": "ef5386f6-1227-4749-ab5d-c5064e25b336"
      },
      "source": [
        "count_zeros()"
      ],
      "execution_count": 15,
      "outputs": [
        {
          "output_type": "stream",
          "name": "stdout",
          "text": [
            "age: 0\n",
            "bmi: 0\n",
            "HbA1c_level: 0\n",
            "blood_glucose_level: 0\n"
          ]
        }
      ]
    },
    {
      "cell_type": "code",
      "metadata": {
        "id": "C0bk0Ps_PFwk",
        "colab": {
          "base_uri": "https://localhost:8080/"
        },
        "outputId": "08bcdd1a-c421-4f23-e006-569973e4d77f"
      },
      "source": [
        "#display the dataframe\n",
        "df_diabetes_data.show()"
      ],
      "execution_count": 16,
      "outputs": [
        {
          "output_type": "stream",
          "name": "stdout",
          "text": [
            "+------+----+------------+-------------+---------------+-----+-----------+-------------------+--------+\n",
            "|gender| age|hypertension|heart_disease|smoking_history|  bmi|HbA1c_level|blood_glucose_level|diabetes|\n",
            "+------+----+------------+-------------+---------------+-----+-----------+-------------------+--------+\n",
            "|Female|80.0|           0|            1|          never|25.19|        6.6|                140|       0|\n",
            "|Female|54.0|           0|            0|        No Info|27.32|        6.6|                 80|       0|\n",
            "|  Male|28.0|           0|            0|          never|27.32|        5.7|                158|       0|\n",
            "|Female|36.0|           0|            0|        current|23.45|        5.0|                155|       0|\n",
            "|  Male|76.0|           1|            1|        current|20.14|        4.8|                155|       0|\n",
            "|Female|20.0|           0|            0|          never|27.32|        6.6|                 85|       0|\n",
            "|Female|44.0|           0|            0|          never|19.31|        6.5|                200|       1|\n",
            "|Female|79.0|           0|            0|        No Info|23.86|        5.7|                 85|       0|\n",
            "|  Male|42.0|           0|            0|          never|33.64|        4.8|                145|       0|\n",
            "|Female|32.0|           0|            0|          never|27.32|        5.0|                100|       0|\n",
            "|Female|53.0|           0|            0|          never|27.32|        6.1|                 85|       0|\n",
            "|Female|54.0|           0|            0|         former| 54.7|        6.0|                100|       0|\n",
            "|Female|78.0|           0|            0|         former|36.05|        5.0|                130|       0|\n",
            "|Female|67.0|           0|            0|          never|25.69|        5.8|                200|       0|\n",
            "|Female|76.0|           0|            0|        No Info|27.32|        5.0|                160|       0|\n",
            "|  Male|78.0|           0|            0|        No Info|27.32|        6.6|                126|       0|\n",
            "|  Male|15.0|           0|            0|          never|30.36|        6.1|                200|       0|\n",
            "|Female|42.0|           0|            0|          never|24.48|        5.7|                158|       0|\n",
            "|Female|42.0|           0|            0|        No Info|27.32|        5.7|                 80|       0|\n",
            "|  Male|37.0|           0|            0|           ever|25.72|        3.5|                159|       0|\n",
            "+------+----+------------+-------------+---------------+-----+-----------+-------------------+--------+\n",
            "only showing top 20 rows\n",
            "\n"
          ]
        }
      ]
    },
    {
      "cell_type": "code",
      "source": [
        "#drop the 'other' rows in the gender columns\n",
        "string_to_remove = \"Other\"\n",
        "df_diabetes_data = df_diabetes_data[df_diabetes_data['Gender'] != string_to_remove]"
      ],
      "metadata": {
        "id": "E1k77q7hKhIo"
      },
      "execution_count": 17,
      "outputs": []
    },
    {
      "cell_type": "code",
      "source": [
        "#count the total no. of gender types\n",
        "print((df_diabetes_data.count(), len(df_diabetes_data.columns)))\n",
        "df_diabetes_data.groupBy('gender').count().show()"
      ],
      "metadata": {
        "colab": {
          "base_uri": "https://localhost:8080/"
        },
        "id": "OXDmlg6KZgTn",
        "outputId": "aad81d55-3bdb-4ad8-b461-72153ec4a0ac"
      },
      "execution_count": 18,
      "outputs": [
        {
          "output_type": "stream",
          "name": "stdout",
          "text": [
            "(99982, 9)\n",
            "+------+-----+\n",
            "|gender|count|\n",
            "+------+-----+\n",
            "|Female|58552|\n",
            "|  Male|41430|\n",
            "+------+-----+\n",
            "\n"
          ]
        }
      ]
    },
    {
      "cell_type": "code",
      "source": [
        "#count the total no. of smoker/non-smoker types\n",
        "print((df_diabetes_data.count(), len(df_diabetes_data.columns)))\n",
        "df_diabetes_data.groupBy('smoking_history').count().show()"
      ],
      "metadata": {
        "colab": {
          "base_uri": "https://localhost:8080/"
        },
        "id": "xwwTUAJLZ72A",
        "outputId": "b8505426-967c-4e07-b86d-668dec1e7e5a"
      },
      "execution_count": 19,
      "outputs": [
        {
          "output_type": "stream",
          "name": "stdout",
          "text": [
            "(99982, 9)\n",
            "+---------------+-----+\n",
            "|smoking_history|count|\n",
            "+---------------+-----+\n",
            "|    not current| 6439|\n",
            "|         former| 9352|\n",
            "|        No Info|35810|\n",
            "|        current| 9286|\n",
            "|          never|35092|\n",
            "|           ever| 4003|\n",
            "+---------------+-----+\n",
            "\n"
          ]
        }
      ]
    },
    {
      "cell_type": "code",
      "source": [
        "#drop the 'other' rows in the gender columns\n",
        "string_to_remove_1= \"No Info\"\n",
        "df_diabetes_data = df_diabetes_data[df_diabetes_data['smoking_history'] != string_to_remove_1]"
      ],
      "metadata": {
        "id": "KdN7OCA1cDnb"
      },
      "execution_count": 20,
      "outputs": []
    },
    {
      "cell_type": "code",
      "source": [
        "#count the total no. of smoker/non-smoker types\n",
        "print((df_diabetes_data.count(), len(df_diabetes_data.columns)))\n",
        "df_diabetes_data.groupBy('smoking_history').count().show()"
      ],
      "metadata": {
        "colab": {
          "base_uri": "https://localhost:8080/"
        },
        "id": "ZbxmgHOFcoEb",
        "outputId": "6cdfbcf2-12b9-417e-cd98-0ffccd3a5c2e"
      },
      "execution_count": 21,
      "outputs": [
        {
          "output_type": "stream",
          "name": "stdout",
          "text": [
            "(64172, 9)\n",
            "+---------------+-----+\n",
            "|smoking_history|count|\n",
            "+---------------+-----+\n",
            "|    not current| 6439|\n",
            "|         former| 9352|\n",
            "|        current| 9286|\n",
            "|          never|35092|\n",
            "|           ever| 4003|\n",
            "+---------------+-----+\n",
            "\n"
          ]
        }
      ]
    },
    {
      "cell_type": "code",
      "source": [
        "#count the total no. of gender types\n",
        "print((df_diabetes_data.count(), len(df_diabetes_data.columns)))\n",
        "df_diabetes_data.groupBy('gender').count().show()"
      ],
      "metadata": {
        "colab": {
          "base_uri": "https://localhost:8080/"
        },
        "id": "ZKJc4_sLh_pJ",
        "outputId": "c032432e-cc92-4b4e-9388-cf9f591e30c5"
      },
      "execution_count": 22,
      "outputs": [
        {
          "output_type": "stream",
          "name": "stdout",
          "text": [
            "(64172, 9)\n",
            "+------+-----+\n",
            "|gender|count|\n",
            "+------+-----+\n",
            "|Female|38852|\n",
            "|  Male|25320|\n",
            "+------+-----+\n",
            "\n"
          ]
        }
      ]
    },
    {
      "cell_type": "code",
      "source": [
        "#assign in the 'gender'column 'Female' = 0, and 'Male' = 1\n",
        "from pyspark.sql.functions import when, col\n",
        "df_diabetes_data = df_diabetes_data.withColumn(\"gender\",\n",
        "    when(col(\"gender\") == \"Female\", 0).\n",
        "    when(col(\"gender\") == \"Male\", 1).\n",
        "    otherwise(col(\"gender\"))\n",
        ")\n",
        "df_diabetes_data.show()"
      ],
      "metadata": {
        "colab": {
          "base_uri": "https://localhost:8080/"
        },
        "id": "ZlK0I77Di1Yq",
        "outputId": "ef1a6c5c-8b4b-4214-f046-ba67f5cf1d26"
      },
      "execution_count": 23,
      "outputs": [
        {
          "output_type": "stream",
          "name": "stdout",
          "text": [
            "+------+----+------------+-------------+---------------+-----+-----------+-------------------+--------+\n",
            "|gender| age|hypertension|heart_disease|smoking_history|  bmi|HbA1c_level|blood_glucose_level|diabetes|\n",
            "+------+----+------------+-------------+---------------+-----+-----------+-------------------+--------+\n",
            "|     0|80.0|           0|            1|          never|25.19|        6.6|                140|       0|\n",
            "|     1|28.0|           0|            0|          never|27.32|        5.7|                158|       0|\n",
            "|     0|36.0|           0|            0|        current|23.45|        5.0|                155|       0|\n",
            "|     1|76.0|           1|            1|        current|20.14|        4.8|                155|       0|\n",
            "|     0|20.0|           0|            0|          never|27.32|        6.6|                 85|       0|\n",
            "|     0|44.0|           0|            0|          never|19.31|        6.5|                200|       1|\n",
            "|     1|42.0|           0|            0|          never|33.64|        4.8|                145|       0|\n",
            "|     0|32.0|           0|            0|          never|27.32|        5.0|                100|       0|\n",
            "|     0|53.0|           0|            0|          never|27.32|        6.1|                 85|       0|\n",
            "|     0|54.0|           0|            0|         former| 54.7|        6.0|                100|       0|\n",
            "|     0|78.0|           0|            0|         former|36.05|        5.0|                130|       0|\n",
            "|     0|67.0|           0|            0|          never|25.69|        5.8|                200|       0|\n",
            "|     1|15.0|           0|            0|          never|30.36|        6.1|                200|       0|\n",
            "|     0|42.0|           0|            0|          never|24.48|        5.7|                158|       0|\n",
            "|     1|37.0|           0|            0|           ever|25.72|        3.5|                159|       0|\n",
            "|     1|40.0|           0|            0|        current|36.38|        6.0|                 90|       0|\n",
            "|     0|69.0|           0|            0|          never|21.24|        4.8|                 85|       0|\n",
            "|     0|72.0|           0|            1|         former|27.94|        6.5|                130|       0|\n",
            "|     1|30.0|           0|            0|          never|33.76|        6.1|                126|       0|\n",
            "|     1|67.0|           0|            1|    not current|27.32|        6.5|                200|       1|\n",
            "+------+----+------------+-------------+---------------+-----+-----------+-------------------+--------+\n",
            "only showing top 20 rows\n",
            "\n"
          ]
        }
      ]
    },
    {
      "cell_type": "code",
      "source": [
        "#assign in the 'smoking_history': \"never\" = 0, \"ever\" = 1, \"not current\" = 2, \"current\" = 3, \"former\" = 4\n",
        "df_diabetes_data = df_diabetes_data.withColumn(\"smoking_history\",\n",
        "    when(col(\"smoking_history\") == \"never\", 0).\n",
        "    when(col(\"smoking_history\") == \"ever\", 1).\n",
        "    when(col(\"smoking_history\") == \"not current\", 2).\n",
        "    when(col(\"smoking_history\") == \"current\", 3).\n",
        "    when(col(\"smoking_history\") == \"former\", 4).\n",
        "    otherwise(col(\"smoking_history\"))\n",
        ")\n",
        "df_diabetes_data.show()"
      ],
      "metadata": {
        "colab": {
          "base_uri": "https://localhost:8080/"
        },
        "id": "j3RHqrEwlS_e",
        "outputId": "f90a7927-46be-4d77-ad85-1df22f5ed6ce"
      },
      "execution_count": 24,
      "outputs": [
        {
          "output_type": "stream",
          "name": "stdout",
          "text": [
            "+------+----+------------+-------------+---------------+-----+-----------+-------------------+--------+\n",
            "|gender| age|hypertension|heart_disease|smoking_history|  bmi|HbA1c_level|blood_glucose_level|diabetes|\n",
            "+------+----+------------+-------------+---------------+-----+-----------+-------------------+--------+\n",
            "|     0|80.0|           0|            1|              0|25.19|        6.6|                140|       0|\n",
            "|     1|28.0|           0|            0|              0|27.32|        5.7|                158|       0|\n",
            "|     0|36.0|           0|            0|              3|23.45|        5.0|                155|       0|\n",
            "|     1|76.0|           1|            1|              3|20.14|        4.8|                155|       0|\n",
            "|     0|20.0|           0|            0|              0|27.32|        6.6|                 85|       0|\n",
            "|     0|44.0|           0|            0|              0|19.31|        6.5|                200|       1|\n",
            "|     1|42.0|           0|            0|              0|33.64|        4.8|                145|       0|\n",
            "|     0|32.0|           0|            0|              0|27.32|        5.0|                100|       0|\n",
            "|     0|53.0|           0|            0|              0|27.32|        6.1|                 85|       0|\n",
            "|     0|54.0|           0|            0|              4| 54.7|        6.0|                100|       0|\n",
            "|     0|78.0|           0|            0|              4|36.05|        5.0|                130|       0|\n",
            "|     0|67.0|           0|            0|              0|25.69|        5.8|                200|       0|\n",
            "|     1|15.0|           0|            0|              0|30.36|        6.1|                200|       0|\n",
            "|     0|42.0|           0|            0|              0|24.48|        5.7|                158|       0|\n",
            "|     1|37.0|           0|            0|              1|25.72|        3.5|                159|       0|\n",
            "|     1|40.0|           0|            0|              3|36.38|        6.0|                 90|       0|\n",
            "|     0|69.0|           0|            0|              0|21.24|        4.8|                 85|       0|\n",
            "|     0|72.0|           0|            1|              4|27.94|        6.5|                130|       0|\n",
            "|     1|30.0|           0|            0|              0|33.76|        6.1|                126|       0|\n",
            "|     1|67.0|           0|            1|              2|27.32|        6.5|                200|       1|\n",
            "+------+----+------------+-------------+---------------+-----+-----------+-------------------+--------+\n",
            "only showing top 20 rows\n",
            "\n"
          ]
        }
      ]
    },
    {
      "cell_type": "markdown",
      "metadata": {
        "id": "LOgSTdBpPs7G"
      },
      "source": [
        "# PART 4: Correlation Analysis & Feature Selection"
      ]
    },
    {
      "cell_type": "code",
      "source": [
        "# gender and smoking_history needs to be converted to float data type for model to work\n",
        "df_diabetes_data = df_diabetes_data.withColumn(\"gender\", col(\"gender\").cast('float'))\n",
        "df_diabetes_data = df_diabetes_data.withColumn(\"smoking_history\", col(\"smoking_history\").cast('float'))\n",
        "df_diabetes_data.show()\n"
      ],
      "metadata": {
        "id": "PVQ4iahSjL63",
        "outputId": "0dfb754b-4883-44d6-a44c-900614ade163",
        "colab": {
          "base_uri": "https://localhost:8080/"
        }
      },
      "execution_count": 25,
      "outputs": [
        {
          "output_type": "stream",
          "name": "stdout",
          "text": [
            "+------+----+------------+-------------+---------------+-----+-----------+-------------------+--------+\n",
            "|gender| age|hypertension|heart_disease|smoking_history|  bmi|HbA1c_level|blood_glucose_level|diabetes|\n",
            "+------+----+------------+-------------+---------------+-----+-----------+-------------------+--------+\n",
            "|   0.0|80.0|           0|            1|            0.0|25.19|        6.6|                140|       0|\n",
            "|   1.0|28.0|           0|            0|            0.0|27.32|        5.7|                158|       0|\n",
            "|   0.0|36.0|           0|            0|            3.0|23.45|        5.0|                155|       0|\n",
            "|   1.0|76.0|           1|            1|            3.0|20.14|        4.8|                155|       0|\n",
            "|   0.0|20.0|           0|            0|            0.0|27.32|        6.6|                 85|       0|\n",
            "|   0.0|44.0|           0|            0|            0.0|19.31|        6.5|                200|       1|\n",
            "|   1.0|42.0|           0|            0|            0.0|33.64|        4.8|                145|       0|\n",
            "|   0.0|32.0|           0|            0|            0.0|27.32|        5.0|                100|       0|\n",
            "|   0.0|53.0|           0|            0|            0.0|27.32|        6.1|                 85|       0|\n",
            "|   0.0|54.0|           0|            0|            4.0| 54.7|        6.0|                100|       0|\n",
            "|   0.0|78.0|           0|            0|            4.0|36.05|        5.0|                130|       0|\n",
            "|   0.0|67.0|           0|            0|            0.0|25.69|        5.8|                200|       0|\n",
            "|   1.0|15.0|           0|            0|            0.0|30.36|        6.1|                200|       0|\n",
            "|   0.0|42.0|           0|            0|            0.0|24.48|        5.7|                158|       0|\n",
            "|   1.0|37.0|           0|            0|            1.0|25.72|        3.5|                159|       0|\n",
            "|   1.0|40.0|           0|            0|            3.0|36.38|        6.0|                 90|       0|\n",
            "|   0.0|69.0|           0|            0|            0.0|21.24|        4.8|                 85|       0|\n",
            "|   0.0|72.0|           0|            1|            4.0|27.94|        6.5|                130|       0|\n",
            "|   1.0|30.0|           0|            0|            0.0|33.76|        6.1|                126|       0|\n",
            "|   1.0|67.0|           0|            1|            2.0|27.32|        6.5|                200|       1|\n",
            "+------+----+------------+-------------+---------------+-----+-----------+-------------------+--------+\n",
            "only showing top 20 rows\n",
            "\n"
          ]
        }
      ]
    },
    {
      "cell_type": "code",
      "metadata": {
        "id": "7Eq6jdcFP_3C",
        "colab": {
          "base_uri": "https://localhost:8080/"
        },
        "outputId": "52b21f59-b851-4e47-8ed9-a4aa47f85a3c"
      },
      "source": [
        "#find the correlation among the set of input & output variables\n",
        "for i in df_diabetes_data.columns:\n",
        "  print(\"Correlation to outcome for {} is {}\".format(i, df_diabetes_data.stat.corr(\"diabetes\",i)))"
      ],
      "execution_count": 26,
      "outputs": [
        {
          "output_type": "stream",
          "name": "stdout",
          "text": [
            "Correlation to outcome for gender is 0.05699689368565596\n",
            "Correlation to outcome for age is 0.26084962459224337\n",
            "Correlation to outcome for hypertension is 0.19222574901207254\n",
            "Correlation to outcome for heart_disease is 0.16961397731730365\n",
            "Correlation to outcome for smoking_history is 0.06472564826560573\n",
            "Correlation to outcome for bmi is 0.20442115545137657\n",
            "Correlation to outcome for HbA1c_level is 0.43889709468177335\n",
            "Correlation to outcome for blood_glucose_level is 0.449697968864106\n",
            "Correlation to outcome for diabetes is 1.0\n"
          ]
        }
      ]
    },
    {
      "cell_type": "code",
      "metadata": {
        "id": "Fl7Edj-OQACn"
      },
      "source": [
        "#feature selection\n",
        "from pyspark.ml.feature import VectorAssembler\n",
        "\n",
        "assembler = VectorAssembler(inputCols = ['gender', 'age', 'hypertension', 'heart_disease',\n",
        "                                         'smoking_history', 'bmi', 'HbA1c_level', 'blood_glucose_level'], outputCol='features')\n",
        "output_data = assembler.transform(df_diabetes_data)"
      ],
      "execution_count": 27,
      "outputs": []
    },
    {
      "cell_type": "code",
      "metadata": {
        "id": "mJKrfqdaQAOy",
        "colab": {
          "base_uri": "https://localhost:8080/"
        },
        "outputId": "255a6e85-b37a-4732-edfe-cb0b7b6caca1"
      },
      "source": [
        "#print the schema\n",
        "output_data.printSchema()"
      ],
      "execution_count": 28,
      "outputs": [
        {
          "output_type": "stream",
          "name": "stdout",
          "text": [
            "root\n",
            " |-- gender: float (nullable = true)\n",
            " |-- age: double (nullable = true)\n",
            " |-- hypertension: integer (nullable = true)\n",
            " |-- heart_disease: integer (nullable = true)\n",
            " |-- smoking_history: float (nullable = true)\n",
            " |-- bmi: double (nullable = true)\n",
            " |-- HbA1c_level: double (nullable = true)\n",
            " |-- blood_glucose_level: integer (nullable = true)\n",
            " |-- diabetes: integer (nullable = true)\n",
            " |-- features: vector (nullable = true)\n",
            "\n"
          ]
        }
      ]
    },
    {
      "cell_type": "code",
      "metadata": {
        "id": "FURl7qESQAaQ",
        "colab": {
          "base_uri": "https://localhost:8080/"
        },
        "outputId": "f600cc06-f404-4b7f-d39f-5ee6bf70136e"
      },
      "source": [
        "#display dataframe\n",
        "output_data.show()"
      ],
      "execution_count": 29,
      "outputs": [
        {
          "output_type": "stream",
          "name": "stdout",
          "text": [
            "+------+----+------------+-------------+---------------+-----+-----------+-------------------+--------+--------------------+\n",
            "|gender| age|hypertension|heart_disease|smoking_history|  bmi|HbA1c_level|blood_glucose_level|diabetes|            features|\n",
            "+------+----+------------+-------------+---------------+-----+-----------+-------------------+--------+--------------------+\n",
            "|   0.0|80.0|           0|            1|            0.0|25.19|        6.6|                140|       0|[0.0,80.0,0.0,1.0...|\n",
            "|   1.0|28.0|           0|            0|            0.0|27.32|        5.7|                158|       0|[1.0,28.0,0.0,0.0...|\n",
            "|   0.0|36.0|           0|            0|            3.0|23.45|        5.0|                155|       0|[0.0,36.0,0.0,0.0...|\n",
            "|   1.0|76.0|           1|            1|            3.0|20.14|        4.8|                155|       0|[1.0,76.0,1.0,1.0...|\n",
            "|   0.0|20.0|           0|            0|            0.0|27.32|        6.6|                 85|       0|(8,[1,5,6,7],[20....|\n",
            "|   0.0|44.0|           0|            0|            0.0|19.31|        6.5|                200|       1|(8,[1,5,6,7],[44....|\n",
            "|   1.0|42.0|           0|            0|            0.0|33.64|        4.8|                145|       0|[1.0,42.0,0.0,0.0...|\n",
            "|   0.0|32.0|           0|            0|            0.0|27.32|        5.0|                100|       0|(8,[1,5,6,7],[32....|\n",
            "|   0.0|53.0|           0|            0|            0.0|27.32|        6.1|                 85|       0|(8,[1,5,6,7],[53....|\n",
            "|   0.0|54.0|           0|            0|            4.0| 54.7|        6.0|                100|       0|[0.0,54.0,0.0,0.0...|\n",
            "|   0.0|78.0|           0|            0|            4.0|36.05|        5.0|                130|       0|[0.0,78.0,0.0,0.0...|\n",
            "|   0.0|67.0|           0|            0|            0.0|25.69|        5.8|                200|       0|(8,[1,5,6,7],[67....|\n",
            "|   1.0|15.0|           0|            0|            0.0|30.36|        6.1|                200|       0|[1.0,15.0,0.0,0.0...|\n",
            "|   0.0|42.0|           0|            0|            0.0|24.48|        5.7|                158|       0|(8,[1,5,6,7],[42....|\n",
            "|   1.0|37.0|           0|            0|            1.0|25.72|        3.5|                159|       0|[1.0,37.0,0.0,0.0...|\n",
            "|   1.0|40.0|           0|            0|            3.0|36.38|        6.0|                 90|       0|[1.0,40.0,0.0,0.0...|\n",
            "|   0.0|69.0|           0|            0|            0.0|21.24|        4.8|                 85|       0|(8,[1,5,6,7],[69....|\n",
            "|   0.0|72.0|           0|            1|            4.0|27.94|        6.5|                130|       0|[0.0,72.0,0.0,1.0...|\n",
            "|   1.0|30.0|           0|            0|            0.0|33.76|        6.1|                126|       0|[1.0,30.0,0.0,0.0...|\n",
            "|   1.0|67.0|           0|            1|            2.0|27.32|        6.5|                200|       1|[1.0,67.0,0.0,1.0...|\n",
            "+------+----+------------+-------------+---------------+-----+-----------+-------------------+--------+--------------------+\n",
            "only showing top 20 rows\n",
            "\n"
          ]
        }
      ]
    },
    {
      "cell_type": "markdown",
      "metadata": {
        "id": "8fSjOdfyQA99"
      },
      "source": [
        "# PART 5: Split Dataset & Build the Model"
      ]
    },
    {
      "cell_type": "code",
      "metadata": {
        "id": "F89--FiVQQJn"
      },
      "source": [
        "#create final data\n",
        "from pyspark.ml.classification import LogisticRegression\n",
        "\n",
        "final_data = output_data.select('features','diabetes')"
      ],
      "execution_count": 30,
      "outputs": []
    },
    {
      "cell_type": "code",
      "metadata": {
        "id": "cKpm5912Qji_",
        "colab": {
          "base_uri": "https://localhost:8080/"
        },
        "outputId": "e06dfc45-1c21-4af8-8caf-71333c8fecfa"
      },
      "source": [
        "#print schema of final data\n",
        "final_data.printSchema()"
      ],
      "execution_count": 31,
      "outputs": [
        {
          "output_type": "stream",
          "name": "stdout",
          "text": [
            "root\n",
            " |-- features: vector (nullable = true)\n",
            " |-- diabetes: integer (nullable = true)\n",
            "\n"
          ]
        }
      ]
    },
    {
      "cell_type": "code",
      "metadata": {
        "id": "r_Nom7aZQjuN"
      },
      "source": [
        "#split the dataset ; build the model\n",
        "train, test = final_data.randomSplit([0.7, 0.3])\n",
        "models = LogisticRegression(labelCol= 'diabetes')\n",
        "model = models.fit(train)"
      ],
      "execution_count": 32,
      "outputs": []
    },
    {
      "cell_type": "code",
      "metadata": {
        "id": "OljO2HcIQj7E",
        "colab": {
          "base_uri": "https://localhost:8080/"
        },
        "outputId": "4f77d873-d1d7-4eb5-cdaa-4f33f9c090dc"
      },
      "source": [
        "#summary of the model\n",
        "summary = model.summary\n",
        "summary.predictions.describe().show()"
      ],
      "execution_count": 33,
      "outputs": [
        {
          "output_type": "stream",
          "name": "stdout",
          "text": [
            "+-------+-------------------+-------------------+\n",
            "|summary|           diabetes|         prediction|\n",
            "+-------+-------------------+-------------------+\n",
            "|  count|              44862|              44862|\n",
            "|   mean|0.11102937898444118| 0.0822076590432883|\n",
            "| stddev|0.31417201682745477|0.27468389412167904|\n",
            "|    min|                0.0|                0.0|\n",
            "|    max|                1.0|                1.0|\n",
            "+-------+-------------------+-------------------+\n",
            "\n"
          ]
        }
      ]
    },
    {
      "cell_type": "markdown",
      "metadata": {
        "id": "DfaD_vzfQkah"
      },
      "source": [
        "# PART 6: Evaluate and Save the Model"
      ]
    },
    {
      "cell_type": "code",
      "metadata": {
        "id": "CHC5Erq7Q4QN"
      },
      "source": [
        "from pyspark.ml.evaluation import BinaryClassificationEvaluator\n",
        "\n",
        "predictions = model.evaluate(test)"
      ],
      "execution_count": 34,
      "outputs": []
    },
    {
      "cell_type": "code",
      "metadata": {
        "id": "UBltVqoNQ4cM",
        "colab": {
          "base_uri": "https://localhost:8080/"
        },
        "outputId": "305c358f-4c71-4fff-dea1-b2389a21c4ea"
      },
      "source": [
        "predictions.predictions.show(100)"
      ],
      "execution_count": 35,
      "outputs": [
        {
          "output_type": "stream",
          "name": "stdout",
          "text": [
            "+--------------------+--------+--------------------+--------------------+----------+\n",
            "|            features|diabetes|       rawPrediction|         probability|prediction|\n",
            "+--------------------+--------+--------------------+--------------------+----------+\n",
            "|(8,[1,5,6,7],[0.8...|       0|[8.17569318144726...|[0.99971866784858...|       0.0|\n",
            "|(8,[1,5,6,7],[0.8...|       0|[5.74639407291909...|[0.99681589253640...|       0.0|\n",
            "|(8,[1,5,6,7],[1.0...|       0|[6.23772423651855...|[0.99804951384524...|       0.0|\n",
            "|(8,[1,5,6,7],[1.0...|       0|[11.6715751790492...|[0.99999146712077...|       0.0|\n",
            "|(8,[1,5,6,7],[1.2...|       0|[5.19762244863871...|[0.99450071344229...|       0.0|\n",
            "|(8,[1,5,6,7],[1.3...|       0|[8.28802097137679...|[0.99974855152280...|       0.0|\n",
            "|(8,[1,5,6,7],[1.3...|       0|[7.96254324366285...|[0.99965185498293...|       0.0|\n",
            "|(8,[1,5,6,7],[1.3...|       0|[14.2505027768702...|[0.99999935273071...|       0.0|\n",
            "|(8,[1,5,6,7],[1.3...|       0|[9.75258818833731...|[0.99994185939928...|       0.0|\n",
            "|(8,[1,5,6,7],[1.4...|       0|[10.8558918914593...|[0.99998070975792...|       0.0|\n",
            "|(8,[1,5,6,7],[1.4...|       0|[10.0464338568272...|[0.99995666184772...|       0.0|\n",
            "|(8,[1,5,6,7],[1.5...|       0|[11.7475953841874...|[0.99999209174409...|       0.0|\n",
            "|(8,[1,5,6,7],[1.5...|       0|[7.40103701296643...|[0.99938975341564...|       0.0|\n",
            "|(8,[1,5,6,7],[1.6...|       0|[5.11341874752150...|[0.99402048733839...|       0.0|\n",
            "|(8,[1,5,6,7],[1.6...|       0|[8.83673955828727...|[0.99985472540436...|       0.0|\n",
            "|(8,[1,5,6,7],[1.6...|       0|[7.95819897839200...|[0.99965033978864...|       0.0|\n",
            "|(8,[1,5,6,7],[1.7...|       0|[6.50699940730715...|[0.99850927283327...|       0.0|\n",
            "|(8,[1,5,6,7],[1.8...|       0|[8.58852316073329...|[0.99981380375769...|       0.0|\n",
            "|(8,[1,5,6,7],[1.8...|       0|[5.93412590725954...|[0.99735945500240...|       0.0|\n",
            "|(8,[1,5,6,7],[1.8...|       0|[8.14277851456100...|[0.99970925655160...|       0.0|\n",
            "|(8,[1,5,6,7],[1.8...|       0|[6.39899218999053...|[0.99833952909810...|       0.0|\n",
            "|(8,[1,5,6,7],[1.8...|       0|[10.7137539001294...|[0.99997776351471...|       0.0|\n",
            "|(8,[1,5,6,7],[1.8...|       0|[11.4103477452709...|[0.99998891988863...|       0.0|\n",
            "|(8,[1,5,6,7],[2.0...|       0|[4.75131397986741...|[0.99143368134346...|       0.0|\n",
            "|(8,[1,5,6,7],[2.0...|       0|[11.4429859487627...|[0.99998927568187...|       0.0|\n",
            "|(8,[1,5,6,7],[2.0...|       0|[7.53636053312151...|[0.99946694914526...|       0.0|\n",
            "|(8,[1,5,6,7],[2.0...|       0|[6.78536958812972...|[0.99887108596562...|       0.0|\n",
            "|(8,[1,5,6,7],[2.0...|       0|[14.4137635348174...|[0.99999945022904...|       0.0|\n",
            "|(8,[1,5,6,7],[2.0...|       0|[8.35941563796074...|[0.99976587368760...|       0.0|\n",
            "|(8,[1,5,6,7],[2.0...|       0|[10.9363933065200...|[0.99998220176218...|       0.0|\n",
            "|(8,[1,5,6,7],[2.0...|       0|[6.14329250022586...|[0.99785676313102...|       0.0|\n",
            "|(8,[1,5,6,7],[2.0...|       0|[7.47596551510976...|[0.99943378228213...|       0.0|\n",
            "|(8,[1,5,6,7],[2.0...|       0|[9.49243770653260...|[0.99992458566063...|       0.0|\n",
            "|(8,[1,5,6,7],[2.0...|       0|[5.88341569049489...|[0.99722248066255...|       0.0|\n",
            "|(8,[1,5,6,7],[2.0...|       0|[9.70701970610802...|[0.99993914889376...|       0.0|\n",
            "|(8,[1,5,6,7],[2.0...|       0|[7.67621622014998...|[0.99953648872101...|       0.0|\n",
            "|(8,[1,5,6,7],[2.0...|       0|[11.2014670519974...|[0.99998634603641...|       0.0|\n",
            "|(8,[1,5,6,7],[2.0...|       0|[7.63978573082662...|[0.99951929969410...|       0.0|\n",
            "|(8,[1,5,6,7],[2.0...|       0|[6.94680560994966...|[0.99903922167820...|       0.0|\n",
            "|(8,[1,5,6,7],[3.0...|       0|[4.85576519541709...|[0.99227673777722...|       0.0|\n",
            "|(8,[1,5,6,7],[3.0...|       0|[6.20229502900310...|[0.99797931306849...|       0.0|\n",
            "|(8,[1,5,6,7],[3.0...|       0|[6.98756818210108...|[0.99907756260163...|       0.0|\n",
            "|(8,[1,5,6,7],[3.0...|       0|[9.49207936796662...|[0.99992455863396...|       0.0|\n",
            "|(8,[1,5,6,7],[3.0...|       0|[6.99747580573192...|[0.99908664833360...|       0.0|\n",
            "|(8,[1,5,6,7],[3.0...|       0|[9.39834153499929...|[0.99991714549108...|       0.0|\n",
            "|(8,[1,5,6,7],[3.0...|       0|[11.9732171320799...|[0.99999368904435...|       0.0|\n",
            "|(8,[1,5,6,7],[3.0...|       0|[7.07555183648001...|[0.99915518847688...|       0.0|\n",
            "|(8,[1,5,6,7],[3.0...|       0|[7.26301844423724...|[0.99929950209828...|       0.0|\n",
            "|(8,[1,5,6,7],[3.0...|       0|[11.9898787717855...|[0.99999379332342...|       0.0|\n",
            "|(8,[1,5,6,7],[3.0...|       0|[11.4573192754081...|[0.99998942829903...|       0.0|\n",
            "|(8,[1,5,6,7],[3.0...|       0|[11.9299695318725...|[0.99999341012463...|       0.0|\n",
            "|(8,[1,5,6,7],[3.0...|       0|[11.5610826883462...|[0.99999047025137...|       0.0|\n",
            "|(8,[1,5,6,7],[3.0...|       0|[10.8448023115078...|[0.99998049465089...|       0.0|\n",
            "|(8,[1,5,6,7],[3.0...|       0|[5.81392795993395...|[0.99702320836507...|       0.0|\n",
            "|(8,[1,5,6,7],[3.0...|       0|[4.68928800342052...|[0.99089051619959...|       0.0|\n",
            "|(8,[1,5,6,7],[4.0...|       0|[6.89990084529739...|[0.99899312944942...|       0.0|\n",
            "|(8,[1,5,6,7],[4.0...|       0|[11.0175613882891...|[0.99998358931316...|       0.0|\n",
            "|(8,[1,5,6,7],[4.0...|       0|[8.50819053248401...|[0.99979823205756...|       0.0|\n",
            "|(8,[1,5,6,7],[4.0...|       0|[5.95429418622981...|[0.99741204036750...|       0.0|\n",
            "|(8,[1,5,6,7],[4.0...|       0|[8.57555013029289...|[0.99981137295043...|       0.0|\n",
            "|(8,[1,5,6,7],[4.0...|       0|[7.56124572674442...|[0.99948004371553...|       0.0|\n",
            "|(8,[1,5,6,7],[4.0...|       0|[8.60192223960555...|[0.99981628152054...|       0.0|\n",
            "|(8,[1,5,6,7],[4.0...|       0|[13.4110387171386...|[0.99999850149140...|       0.0|\n",
            "|(8,[1,5,6,7],[4.0...|       0|[5.73406841937060...|[0.99677653075838...|       0.0|\n",
            "|(8,[1,5,6,7],[4.0...|       0|[7.58459256825512...|[0.99949203634639...|       0.0|\n",
            "|(8,[1,5,6,7],[4.0...|       0|[5.34692908566885...|[0.99525982172969...|       0.0|\n",
            "|(8,[1,5,6,7],[4.0...|       0|[11.5584021133612...|[0.99999044467214...|       0.0|\n",
            "|(8,[1,5,6,7],[5.0...|       0|[7.60250963682851...|[0.99950105201659...|       0.0|\n",
            "|(8,[1,5,6,7],[5.0...|       0|[9.09144493660782...|[0.99988738746841...|       0.0|\n",
            "|(8,[1,5,6,7],[5.0...|       0|[9.55125715310995...|[0.99992889324811...|       0.0|\n",
            "|(8,[1,5,6,7],[5.0...|       0|[5.34205976976318...|[0.99523679422723...|       0.0|\n",
            "|(8,[1,5,6,7],[5.0...|       0|[9.18509432580842...|[0.99989745377416...|       0.0|\n",
            "|(8,[1,5,6,7],[5.0...|       0|[7.45821001240536...|[0.99942364486514...|       0.0|\n",
            "|(8,[1,5,6,7],[5.0...|       0|[11.6355375688792...|[0.99999115401093...|       0.0|\n",
            "|(8,[1,5,6,7],[5.0...|       0|[6.74786834067685...|[0.99882799700340...|       0.0|\n",
            "|(8,[1,5,6,7],[5.0...|       0|[9.60274081565232...|[0.99993246120312...|       0.0|\n",
            "|(8,[1,5,6,7],[5.0...|       0|[12.0796802502214...|[0.99999432639547...|       0.0|\n",
            "|(8,[1,5,6,7],[5.0...|       0|[7.33262413219761...|[0.99934657171713...|       0.0|\n",
            "|(8,[1,5,6,7],[5.0...|       0|[11.1740628492585...|[0.9999859666916,...|       0.0|\n",
            "|(8,[1,5,6,7],[5.0...|       0|[9.97334918744339...|[0.99995337603191...|       0.0|\n",
            "|(8,[1,5,6,7],[5.0...|       0|[11.7118549198014...|[0.99999180399006...|       0.0|\n",
            "|(8,[1,5,6,7],[5.0...|       0|[5.80050300178338...|[0.99698309698298...|       0.0|\n",
            "|(8,[1,5,6,7],[5.0...|       0|[7.25415850005825...|[0.99929327255624...|       0.0|\n",
            "|(8,[1,5,6,7],[5.0...|       0|[8.18667857898151...|[0.99972174062539...|       0.0|\n",
            "|(8,[1,5,6,7],[5.0...|       0|[7.46604874040833...|[0.99942814252170...|       0.0|\n",
            "|(8,[1,5,6,7],[5.0...|       0|[6.39111830073006...|[0.99832642509299...|       0.0|\n",
            "|(8,[1,5,6,7],[5.0...|       0|[10.8519502116744...|[0.99998063357339...|       0.0|\n",
            "|(8,[1,5,6,7],[5.0...|       0|[12.4310505289478...|[0.99999600734654...|       0.0|\n",
            "|(8,[1,5,6,7],[6.0...|       0|[12.4374937414320...|[0.99999603298925...|       0.0|\n",
            "|(8,[1,5,6,7],[6.0...|       0|[11.9785942438863...|[0.99999372288778...|       0.0|\n",
            "|(8,[1,5,6,7],[6.0...|       0|[4.88996518061458...|[0.99253446899700...|       0.0|\n",
            "|(8,[1,5,6,7],[6.0...|       0|[9.61584612507226...|[0.99993334048673...|       0.0|\n",
            "|(8,[1,5,6,7],[6.0...|       0|[12.5105808436351...|[0.99999631258368...|       0.0|\n",
            "|(8,[1,5,6,7],[6.0...|       0|[8.45441407727517...|[0.99978708701842...|       0.0|\n",
            "|(8,[1,5,6,7],[6.0...|       0|[9.54021473255685...|[0.99992810376301...|       0.0|\n",
            "|(8,[1,5,6,7],[6.0...|       0|[9.54662535697891...|[0.99992856315579...|       0.0|\n",
            "|(8,[1,5,6,7],[6.0...|       0|[6.73859100765352...|[0.99881708627019...|       0.0|\n",
            "|(8,[1,5,6,7],[6.0...|       0|[7.66681301100028...|[0.99953211172013...|       0.0|\n",
            "|(8,[1,5,6,7],[6.0...|       0|[9.07795948491689...|[0.99988585872617...|       0.0|\n",
            "|(8,[1,5,6,7],[6.0...|       0|[7.93783461371770...|[0.99964314874963...|       0.0|\n",
            "+--------------------+--------+--------------------+--------------------+----------+\n",
            "only showing top 100 rows\n",
            "\n"
          ]
        }
      ]
    },
    {
      "cell_type": "code",
      "metadata": {
        "id": "A4BHCxCiQ4l-",
        "colab": {
          "base_uri": "https://localhost:8080/"
        },
        "outputId": "b9f864aa-0c42-405b-d87e-448ca052b696"
      },
      "source": [
        "evaluator = BinaryClassificationEvaluator(rawPredictionCol= 'rawPrediction', labelCol='diabetes')\n",
        "evaluator.evaluate(model.transform(test))"
      ],
      "execution_count": 36,
      "outputs": [
        {
          "output_type": "execute_result",
          "data": {
            "text/plain": [
              "0.9579881735731376"
            ]
          },
          "metadata": {},
          "execution_count": 36
        }
      ]
    },
    {
      "cell_type": "code",
      "metadata": {
        "id": "ERpRUFOHQ4x5"
      },
      "source": [
        "# save model\n",
        "model.save(\"model\")"
      ],
      "execution_count": 37,
      "outputs": []
    },
    {
      "cell_type": "code",
      "metadata": {
        "id": "4zSA9_KCQ47W"
      },
      "source": [
        "# load saved model back to the environment\n",
        "from pyspark.ml.classification import LogisticRegressionModel\n",
        "\n",
        "model = LogisticRegressionModel.load('model')"
      ],
      "execution_count": 38,
      "outputs": []
    },
    {
      "cell_type": "markdown",
      "metadata": {
        "id": "Iznukr-xRANo"
      },
      "source": [
        "# PART 7: Prediction on New Data with the saved model\n"
      ]
    },
    {
      "cell_type": "code",
      "metadata": {
        "id": "MBq2hq27RdHB"
      },
      "source": [
        "#create a new spark dataframe\n",
        "test_df = spark.read.csv('/content/Project-4/Luis/Dataset/diabetes_test_dataset.csv', header=True, inferSchema=True)"
      ],
      "execution_count": 39,
      "outputs": []
    },
    {
      "cell_type": "code",
      "metadata": {
        "id": "co8K0NZsRdQB",
        "colab": {
          "base_uri": "https://localhost:8080/"
        },
        "outputId": "8df80433-3b25-474d-99fb-010f0e70ad26"
      },
      "source": [
        "#print the schema\n",
        "test_df.printSchema()"
      ],
      "execution_count": 40,
      "outputs": [
        {
          "output_type": "stream",
          "name": "stdout",
          "text": [
            "root\n",
            " |-- gender: integer (nullable = true)\n",
            " |-- age: integer (nullable = true)\n",
            " |-- hypertension: integer (nullable = true)\n",
            " |-- heart_disease: integer (nullable = true)\n",
            " |-- smoking_history: integer (nullable = true)\n",
            " |-- bmi: double (nullable = true)\n",
            " |-- HbA1c_level: double (nullable = true)\n",
            " |-- blood_glucose_level: integer (nullable = true)\n",
            "\n"
          ]
        }
      ]
    },
    {
      "cell_type": "code",
      "metadata": {
        "id": "J7jtGf4lRdaz"
      },
      "source": [
        "#create an additional feature merged column\n",
        "test_data = assembler.transform(test_df)"
      ],
      "execution_count": 41,
      "outputs": []
    },
    {
      "cell_type": "code",
      "metadata": {
        "id": "kd1glzOnRdkq",
        "colab": {
          "base_uri": "https://localhost:8080/"
        },
        "outputId": "a101ca91-0c72-4c1f-83b5-a1c003acaaee"
      },
      "source": [
        "#print the schema\n",
        "test_data.printSchema()"
      ],
      "execution_count": 42,
      "outputs": [
        {
          "output_type": "stream",
          "name": "stdout",
          "text": [
            "root\n",
            " |-- gender: integer (nullable = true)\n",
            " |-- age: integer (nullable = true)\n",
            " |-- hypertension: integer (nullable = true)\n",
            " |-- heart_disease: integer (nullable = true)\n",
            " |-- smoking_history: integer (nullable = true)\n",
            " |-- bmi: double (nullable = true)\n",
            " |-- HbA1c_level: double (nullable = true)\n",
            " |-- blood_glucose_level: integer (nullable = true)\n",
            " |-- features: vector (nullable = true)\n",
            "\n"
          ]
        }
      ]
    },
    {
      "cell_type": "code",
      "metadata": {
        "id": "40Dck7K_Rdxh",
        "colab": {
          "base_uri": "https://localhost:8080/"
        },
        "outputId": "810bad65-c76b-4949-c144-2d74b2ce3359"
      },
      "source": [
        "#use model to make predictions\n",
        "results = model.transform(test_data)\n",
        "results.printSchema()"
      ],
      "execution_count": 43,
      "outputs": [
        {
          "output_type": "stream",
          "name": "stdout",
          "text": [
            "root\n",
            " |-- gender: integer (nullable = true)\n",
            " |-- age: integer (nullable = true)\n",
            " |-- hypertension: integer (nullable = true)\n",
            " |-- heart_disease: integer (nullable = true)\n",
            " |-- smoking_history: integer (nullable = true)\n",
            " |-- bmi: double (nullable = true)\n",
            " |-- HbA1c_level: double (nullable = true)\n",
            " |-- blood_glucose_level: integer (nullable = true)\n",
            " |-- features: vector (nullable = true)\n",
            " |-- rawPrediction: vector (nullable = true)\n",
            " |-- probability: vector (nullable = true)\n",
            " |-- prediction: double (nullable = false)\n",
            "\n"
          ]
        }
      ]
    },
    {
      "cell_type": "code",
      "metadata": {
        "id": "AHpfS2SjRd7s",
        "colab": {
          "base_uri": "https://localhost:8080/"
        },
        "outputId": "382d9286-610b-45c1-c930-f45a44bdee03"
      },
      "source": [
        "#display the predictions\n",
        "results.select('features','rawPrediction','probability','prediction').show()"
      ],
      "execution_count": 44,
      "outputs": [
        {
          "output_type": "stream",
          "name": "stdout",
          "text": [
            "+--------------------+--------------------+--------------------+----------+\n",
            "|            features|       rawPrediction|         probability|prediction|\n",
            "+--------------------+--------------------+--------------------+----------+\n",
            "|[0.0,80.0,1.0,1.0...|[-0.2656924852949...|[0.43396488768511...|       1.0|\n",
            "|[1.0,28.0,0.0,0.0...|[4.56408571312722...|[0.98968804323947...|       0.0|\n",
            "|[0.0,36.0,0.0,0.0...|[6.47410129547176...|[0.99845949191456...|       0.0|\n",
            "|[1.0,76.0,1.0,1.0...|[3.54007791106000...|[0.97180684673887...|       0.0|\n",
            "|(8,[1,5,6,7],[20....|[5.63902415694215...|[0.99645626557396...|       0.0|\n",
            "|(8,[1,5,6,7],[44....|[1.66179973044356...|[0.84047944754339...|       0.0|\n",
            "|[1.0,42.0,0.0,0.0...|[5.81463808580058...|[0.99702531522548...|       0.0|\n",
            "|(8,[1,5,6,7],[32....|[8.20561294676106...|[0.99972695829960...|       0.0|\n",
            "+--------------------+--------------------+--------------------+----------+\n",
            "\n"
          ]
        }
      ]
    },
    {
      "cell_type": "markdown",
      "source": [
        "# PART 8: Host a Flask App which will take subjects parameters and return probablity and prediction on being diabetic or not based on ML model above"
      ],
      "metadata": {
        "id": "IKwLb4u2OB-6"
      }
    },
    {
      "cell_type": "code",
      "source": [
        "# import dependencies to run Flask app and host it on publicly accessible colab URL\n",
        "from flask import *\n",
        "import pandas as pd\n",
        "import json\n",
        "from google.colab import output\n",
        "from google.colab.output import eval_js"
      ],
      "metadata": {
        "id": "f5MRzVzRGdLn",
        "colab": {
          "base_uri": "https://localhost:8080/"
        },
        "outputId": "f69c7d14-eb65-4e42-d1a3-bbcd45e3c2ce"
      },
      "execution_count": 45,
      "outputs": [
        {
          "output_type": "stream",
          "name": "stderr",
          "text": [
            "Exception in thread _colab_inspector_thread:\n",
            "Traceback (most recent call last):\n",
            "  File \"/usr/lib/python3.10/threading.py\", line 1016, in _bootstrap_inner\n",
            "    self.run()\n",
            "  File \"/usr/lib/python3.10/threading.py\", line 953, in run\n",
            "    self._target(*self._args, **self._kwargs)\n",
            "  File \"/usr/local/lib/python3.10/dist-packages/google/colab/_debugpy.py\", line 64, in inspector_thread\n",
            "    _variable_inspector.run(shell, time)\n",
            "  File \"/usr/local/lib/python3.10/dist-packages/google/colab/_variable_inspector.py\", line 27, in run\n",
            "    globals().clear()\n",
            "TypeError: 'module' object is not callable\n"
          ]
        }
      ]
    },
    {
      "cell_type": "code",
      "source": [
        "# initialize Flask app\n",
        "app=Flask(__name__)\n"
      ],
      "metadata": {
        "id": "9Wj4Xo3ZGkXY"
      },
      "execution_count": 46,
      "outputs": []
    },
    {
      "cell_type": "code",
      "source": [
        "# Static Root API for Diabetes Prediction Model\n",
        "@app.route('/')\n",
        "def home():\n",
        "    return 'Root API for Diabetes Prediction Model'\n",
        "\n",
        "# Dynamic API that will take parameters of subject through Web UI and leverage ML Model above to return probability & prediction for being diabetic\n",
        "@app.route('/api/v1.0/predict/<gender>/<age>/<hypertension>/<heart_disease>/<smoking_history>/<bmi>/<HbA1c_level>/<blood_glucose_level>')\n",
        "def predict(gender,age,hypertension,heart_disease,smoking_history,bmi,HbA1c_level,blood_glucose_level):\n",
        "    # create a tuple from input parameters and convert them to int or float as they are treated as string when passed from Web UI\n",
        "    data = [(int(gender),int(age),int(hypertension),int(heart_disease),int(smoking_history),float(bmi),float(HbA1c_level),int(blood_glucose_level))]\n",
        "    columns = ['gender','age','hypertension','heart_disease','smoking_history','bmi','HbA1c_level','blood_glucose_level']\n",
        "\n",
        "    # Create spark dataframe for the input parameters\n",
        "    test_df = spark.createDataFrame(data,columns)\n",
        "\n",
        "    # invoke ML Model and capture model output in results\n",
        "    test_data = assembler.transform(test_df)\n",
        "    results = model.transform(test_data)\n",
        "\n",
        "    # return the results after converting it to JSON\n",
        "    return results.toJSON().first()"
      ],
      "metadata": {
        "id": "Df-lDH6cJ1o3"
      },
      "execution_count": 47,
      "outputs": []
    },
    {
      "cell_type": "code",
      "source": [
        "# Flask app when run gives local IP to access API. Since this is running on Cloud (Google Colab) and not on local notebook, local IP (127.0.0.1) will not be accessible.\n",
        "# Below code will ask colab to give us publicly accessible URL\n",
        "\n",
        "print(eval_js(\"google.colab.kernel.proxyPort(5000)\"))\n",
        "output.serve_kernel_port_as_window(5000)\n",
        "if __name__ == '__main__':\n",
        "    app.run(host='0.0.0.0',port=5000)"
      ],
      "metadata": {
        "id": "_nBfvcpZOmxv",
        "colab": {
          "base_uri": "https://localhost:8080/",
          "height": 208
        },
        "outputId": "00c0970f-88c2-4e9a-c9f8-a8fd154e3406"
      },
      "execution_count": null,
      "outputs": [
        {
          "output_type": "stream",
          "name": "stdout",
          "text": [
            "https://mnzekj9h7a-496ff2e9c6d22116-5000-colab.googleusercontent.com/\n"
          ]
        },
        {
          "output_type": "display_data",
          "data": {
            "text/plain": [
              "<IPython.core.display.Javascript object>"
            ],
            "application/javascript": [
              "(async (port, path, text, element) => {\n",
              "    if (!google.colab.kernel.accessAllowed) {\n",
              "      return;\n",
              "    }\n",
              "    element.appendChild(document.createTextNode(''));\n",
              "    const url = await google.colab.kernel.proxyPort(port);\n",
              "    const anchor = document.createElement('a');\n",
              "    anchor.href = new URL(path, url).toString();\n",
              "    anchor.target = '_blank';\n",
              "    anchor.setAttribute('data-href', url + path);\n",
              "    anchor.textContent = text;\n",
              "    element.appendChild(anchor);\n",
              "  })(5000, \"/\", \"https://localhost:5000/\", window.element)"
            ]
          },
          "metadata": {}
        },
        {
          "output_type": "stream",
          "name": "stdout",
          "text": [
            " * Serving Flask app '__main__'\n",
            " * Debug mode: off\n"
          ]
        },
        {
          "output_type": "stream",
          "name": "stderr",
          "text": [
            "INFO:werkzeug:\u001b[31m\u001b[1mWARNING: This is a development server. Do not use it in a production deployment. Use a production WSGI server instead.\u001b[0m\n",
            " * Running on all addresses (0.0.0.0)\n",
            " * Running on http://127.0.0.1:5000\n",
            " * Running on http://172.28.0.12:5000\n",
            "INFO:werkzeug:\u001b[33mPress CTRL+C to quit\u001b[0m\n",
            "INFO:werkzeug:127.0.0.1 - - [27/Feb/2024 00:55:26] \"GET / HTTP/1.1\" 200 -\n",
            "INFO:werkzeug:127.0.0.1 - - [27/Feb/2024 00:55:26] \"\u001b[33mGET /favicon.ico HTTP/1.1\u001b[0m\" 404 -\n"
          ]
        }
      ]
    },
    {
      "cell_type": "code",
      "source": [
        "%%html\n",
        "<!DOCTYPE html>\n",
        "<html>\n",
        "\n",
        "<head>\n",
        "    <title>Diabetes Prediction</title>\n",
        "    <style>\n",
        "        body {\n",
        "            font-family: Arial, sans-serif;\n",
        "            background-color: #000000;\n",
        "            padding: 20px;\n",
        "            color: #333;\n",
        "        }\n",
        "\n",
        "        .container {\n",
        "            max-width: 500px;\n",
        "            margin: 0 auto;\n",
        "            background-color: #fff;\n",
        "            padding: 20px;\n",
        "            border-radius: 5px;\n",
        "        }\n",
        "\n",
        "        h1 {\n",
        "            text-align: center;\n",
        "            color: #111; /* An even darker shade of black for the title */\n",
        "        }\n",
        "\n",
        "        label {\n",
        "            display: block;\n",
        "            margin-bottom: 10px;\n",
        "        }\n",
        "\n",
        "        input[type=\"text\"],\n",
        "        input[type=\"number\"] {\n",
        "            padding: 10px;\n",
        "            border-radius: 5px;\n",
        "            border: 1px solid #ccc;\n",
        "            width: 100%;\n",
        "            margin-bottom: 20px;\n",
        "        }\n",
        "\n",
        "        button {\n",
        "            background-color: #4CAF50;\n",
        "            color: white;\n",
        "            padding: 12px 20px;\n",
        "            border: none;\n",
        "            border-radius: 5px;\n",
        "            cursor: pointer;\n",
        "            width: 100%;\n",
        "            font-size: 16px;\n",
        "        }\n",
        "    </style>\n",
        "</head>\n",
        "\n",
        "<body>\n",
        "\n",
        "    <div class=\"container\">\n",
        "\n",
        "        <h1>Diabetes Prediction</h1>\n",
        "\n",
        "        <form>\n",
        "\n",
        "            <label for=\"gender\">Gender:</label>\n",
        "            <input type=\"text\" id=\"gender\" name=\"gender\">\n",
        "\n",
        "            <label for=\"age\">Age:</label>\n",
        "            <input type=\"number\" id=\"age\" name=\"age\">\n",
        "\n",
        "            <label for=\"hypertension\">Hypertension:</label>\n",
        "            <input type=\"number\" id=\"hypertension\" name=\"hypertension\">\n",
        "\n",
        "            <label for=\"heart_disease\">Heart Disease:</label>\n",
        "            <input type=\"number\" id=\"heart_disease\" name=\"heart_disease\">\n",
        "\n",
        "            <label for=\"smoking_history\">Smoking History:</label>\n",
        "            <input type=\"number\" id=\"smoking_history\" name=\"smoking_history\">\n",
        "\n",
        "            <label for=\"bmi\">BMI:</label>\n",
        "            <input type=\"number\" step=\"0.01\" id=\"bmi\" name=\"bmi\">\n",
        "\n",
        "            <label for=\"hba1c_level\">HbA1c Level:</label>\n",
        "            <input type=\"number\" step=\"0.01\" id=\"hba1c_level\" name=\"hba1c_level\">\n",
        "\n",
        "            <label for=\"blood_glucose_level\">Blood Glucose Level:</label>\n",
        "            <input type=\"number\" id=\"blood_glucose_level\" name=\"blood_glucose_level\">\n",
        "\n",
        "            <button type=\"button\" onclick=\"predict()\">Predict</button>\n",
        "\n",
        "        </form>\n",
        "\n",
        "    </div>\n",
        "\n",
        "    <script>\n",
        "        function predict() {\n",
        "            // Get input values\n",
        "            var gender = document.getElementById(\"gender\").value;\n",
        "            var age = document.getElementById(\"age\").value;\n",
        "            var hypertension = document.getElementById(\"hypertension\").value;\n",
        "            var heart_disease = document.getElementById(\"heart_disease\").value;\n",
        "            var smoking_history = document.getElementById(\"smoking_history\").value;\n",
        "            var bmi = document.getElementById(\"bmi\").value;\n",
        "            var hba1c_level = document.getElementById(\"hba1c_level\").value;\n",
        "            var blood_glucose_level = document.getElementById(\"blood_glucose_level\").value;\n",
        "\n",
        "            // API URL\n",
        "            var publicUrl = \"https://g74ttvfgl36-496ff2e9c6d22116-5000-colab.googleusercontent.com/\";\n",
        "            var apiUrl = publicUrl + \"/api/v1.0/predict\" + gender + \"/\" + age + \"/\" + hypertension + \"/\" + heart_disease + \"/\" + smoking_history + \"/\" + bmi + \"/\" + hba1c_level + \"/\" + blood_glucose_level;\n",
        "\n",
        "            // Make API call\n",
        "            fetch(apiUrl)\n",
        "                .then(response => response.json())\n",
        "                .then(data => {\n",
        "                    // Display results\n",
        "                    console.log(data);\n",
        "                    alert(\"Prediction: \" + data.prediction + \", Probability: \" + data.probability[1]);\n",
        "                });\n",
        "        }\n",
        "    </script>\n",
        "\n",
        "</body>\n",
        "\n",
        "</html>\n"
      ],
      "metadata": {
        "colab": {
          "base_uri": "https://localhost:8080/",
          "height": 855
        },
        "id": "ZcelFZMyVgGa",
        "outputId": "d44484e0-d933-417a-87cd-47e82763e307"
      },
      "execution_count": 49,
      "outputs": [
        {
          "output_type": "display_data",
          "data": {
            "text/plain": [
              "<IPython.core.display.HTML object>"
            ],
            "text/html": [
              "<!DOCTYPE html>\n",
              "<html>\n",
              "\n",
              "<head>\n",
              "    <title>Diabetes Prediction</title>\n",
              "    <style>\n",
              "        body {\n",
              "            font-family: Arial, sans-serif;\n",
              "            background-color: #000000;\n",
              "            padding: 20px;\n",
              "            color: #333;\n",
              "        }\n",
              "\n",
              "        .container {\n",
              "            max-width: 500px;\n",
              "            margin: 0 auto;\n",
              "            background-color: #fff;\n",
              "            padding: 20px;\n",
              "            border-radius: 5px;\n",
              "        }\n",
              "\n",
              "        h1 {\n",
              "            text-align: center;\n",
              "            color: #111; /* An even darker shade of black for the title */\n",
              "        }\n",
              "\n",
              "        label {\n",
              "            display: block;\n",
              "            margin-bottom: 10px;\n",
              "        }\n",
              "\n",
              "        input[type=\"text\"],\n",
              "        input[type=\"number\"] {\n",
              "            padding: 10px;\n",
              "            border-radius: 5px;\n",
              "            border: 1px solid #ccc;\n",
              "            width: 100%;\n",
              "            margin-bottom: 20px;\n",
              "        }\n",
              "\n",
              "        button {\n",
              "            background-color: #4CAF50;\n",
              "            color: white;\n",
              "            padding: 12px 20px;\n",
              "            border: none;\n",
              "            border-radius: 5px;\n",
              "            cursor: pointer;\n",
              "            width: 100%;\n",
              "            font-size: 16px;\n",
              "        }\n",
              "    </style>\n",
              "</head>\n",
              "\n",
              "<body>\n",
              "\n",
              "    <div class=\"container\">\n",
              "\n",
              "        <h1>Diabetes Prediction</h1>\n",
              "\n",
              "        <form>\n",
              "\n",
              "            <label for=\"gender\">Gender:</label>\n",
              "            <input type=\"text\" id=\"gender\" name=\"gender\">\n",
              "\n",
              "            <label for=\"age\">Age:</label>\n",
              "            <input type=\"number\" id=\"age\" name=\"age\">\n",
              "\n",
              "            <label for=\"hypertension\">Hypertension:</label>\n",
              "            <input type=\"number\" id=\"hypertension\" name=\"hypertension\">\n",
              "\n",
              "            <label for=\"heart_disease\">Heart Disease:</label>\n",
              "            <input type=\"number\" id=\"heart_disease\" name=\"heart_disease\">\n",
              "\n",
              "            <label for=\"smoking_history\">Smoking History:</label>\n",
              "            <input type=\"number\" id=\"smoking_history\" name=\"smoking_history\">\n",
              "\n",
              "            <label for=\"bmi\">BMI:</label>\n",
              "            <input type=\"number\" step=\"0.01\" id=\"bmi\" name=\"bmi\">\n",
              "\n",
              "            <label for=\"hba1c_level\">HbA1c Level:</label>\n",
              "            <input type=\"number\" step=\"0.01\" id=\"hba1c_level\" name=\"hba1c_level\">\n",
              "\n",
              "            <label for=\"blood_glucose_level\">Blood Glucose Level:</label>\n",
              "            <input type=\"number\" id=\"blood_glucose_level\" name=\"blood_glucose_level\">\n",
              "\n",
              "            <button type=\"button\" onclick=\"predict()\">Predict</button>\n",
              "\n",
              "        </form>\n",
              "\n",
              "    </div>\n",
              "\n",
              "    <script>\n",
              "        function predict() {\n",
              "            // Get input values\n",
              "            var gender = document.getElementById(\"gender\").value;\n",
              "            var age = document.getElementById(\"age\").value;\n",
              "            var hypertension = document.getElementById(\"hypertension\").value;\n",
              "            var heart_disease = document.getElementById(\"heart_disease\").value;\n",
              "            var smoking_history = document.getElementById(\"smoking_history\").value;\n",
              "            var bmi = document.getElementById(\"bmi\").value;\n",
              "            var hba1c_level = document.getElementById(\"hba1c_level\").value;\n",
              "            var blood_glucose_level = document.getElementById(\"blood_glucose_level\").value;\n",
              "\n",
              "            // API URL\n",
              "            var publicUrl = \"https://g74ttvfgl36-496ff2e9c6d22116-5000-colab.googleusercontent.com/\";\n",
              "            var apiUrl = publicUrl + \"/api/v1.0/predict\" + gender + \"/\" + age + \"/\" + hypertension + \"/\" + heart_disease + \"/\" + smoking_history + \"/\" + bmi + \"/\" + hba1c_level + \"/\" + blood_glucose_level;\n",
              "\n",
              "            // Make API call\n",
              "            fetch(apiUrl)\n",
              "                .then(response => response.json())\n",
              "                .then(data => {\n",
              "                    // Display results\n",
              "                    console.log(data);\n",
              "                    alert(\"Prediction: \" + data.prediction + \", Probability: \" + data.probability[1]);\n",
              "                });\n",
              "        }\n",
              "    </script>\n",
              "\n",
              "</body>\n",
              "\n",
              "</html>\n"
            ]
          },
          "metadata": {}
        }
      ]
    },
    {
      "cell_type": "code",
      "source": [],
      "metadata": {
        "id": "u3bqTKQkWzcV"
      },
      "execution_count": 49,
      "outputs": []
    }
  ]
}