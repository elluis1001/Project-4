{
  "nbformat": 4,
  "nbformat_minor": 0,
  "metadata": {
    "colab": {
      "provenance": []
    },
    "kernelspec": {
      "name": "python3",
      "display_name": "Python 3"
    },
    "language_info": {
      "name": "python"
    }
  },
  "cells": [
    {
      "cell_type": "code",
      "execution_count": 153,
      "metadata": {
        "colab": {
          "base_uri": "https://localhost:8080/"
        },
        "id": "WmlZJlYoxHIi",
        "outputId": "bc52e0f3-f328-46c1-e476-9ea8e6361c8c"
      },
      "outputs": [
        {
          "output_type": "stream",
          "name": "stdout",
          "text": [
            "Requirement already satisfied: pyspark in /usr/local/lib/python3.10/dist-packages (3.5.0)\n",
            "Requirement already satisfied: py4j==0.10.9.7 in /usr/local/lib/python3.10/dist-packages (from pyspark) (0.10.9.7)\n"
          ]
        }
      ],
      "source": [
        "## PART 1 : Install Dependencies & Run Spark Session\n",
        "#install pyspark\n",
        "! pip install pyspark"
      ]
    },
    {
      "cell_type": "code",
      "source": [
        "#create a sparksession\n",
        "from pyspark.sql import SparkSession\n",
        "spark = SparkSession.builder.appName(\"spark\").getOrCreate()"
      ],
      "metadata": {
        "id": "tEz8stZ3xshr"
      },
      "execution_count": 154,
      "outputs": []
    },
    {
      "cell_type": "code",
      "source": [
        "#create spark dataframe\n",
        "file_path = \"BSdiabetes_prediction_dataset.csv\"\n",
        "df_diabetes_data = spark.read.csv(file_path, header=True,inferSchema=True)"
      ],
      "metadata": {
        "id": "jeqh44-_xsx6"
      },
      "execution_count": 155,
      "outputs": []
    },
    {
      "cell_type": "code",
      "source": [
        "#display the dataframe\n",
        "df_diabetes_data.show()"
      ],
      "metadata": {
        "id": "gbk3wR6Hxs4S",
        "colab": {
          "base_uri": "https://localhost:8080/"
        },
        "outputId": "bf30b9ff-155d-43c6-d882-be05552dc55e"
      },
      "execution_count": 156,
      "outputs": [
        {
          "output_type": "stream",
          "name": "stdout",
          "text": [
            "+------+----+------------+-------------+---------------+-----+-----------+-------------------+--------+\n",
            "|gender| age|hypertension|heart_disease|smoking_history|  bmi|HbA1c_level|blood_glucose_level|diabetes|\n",
            "+------+----+------------+-------------+---------------+-----+-----------+-------------------+--------+\n",
            "|Female|80.0|           0|            1|          never|25.19|        6.6|                140|       0|\n",
            "|Female|54.0|           0|            0|        No Info|27.32|        6.6|                 80|       0|\n",
            "|  Male|28.0|           0|            0|          never|27.32|        5.7|                158|       0|\n",
            "|Female|36.0|           0|            0|        current|23.45|        5.0|                155|       0|\n",
            "|  Male|76.0|           1|            1|        current|20.14|        4.8|                155|       0|\n",
            "|Female|20.0|           0|            0|          never|27.32|        6.6|                 85|       0|\n",
            "|Female|44.0|           0|            0|          never|19.31|        6.5|                200|       1|\n",
            "|Female|79.0|           0|            0|        No Info|23.86|        5.7|                 85|       0|\n",
            "|  Male|42.0|           0|            0|          never|33.64|        4.8|                145|       0|\n",
            "|Female|32.0|           0|            0|          never|27.32|        5.0|                100|       0|\n",
            "|Female|53.0|           0|            0|          never|27.32|        6.1|                 85|       0|\n",
            "|Female|54.0|           0|            0|         former| 54.7|        6.0|                100|       0|\n",
            "|Female|78.0|           0|            0|         former|36.05|        5.0|                130|       0|\n",
            "|Female|67.0|           0|            0|          never|25.69|        5.8|                200|       0|\n",
            "|Female|76.0|           0|            0|        No Info|27.32|        5.0|                160|       0|\n",
            "|  Male|78.0|           0|            0|        No Info|27.32|        6.6|                126|       0|\n",
            "|  Male|15.0|           0|            0|          never|30.36|        6.1|                200|       0|\n",
            "|Female|42.0|           0|            0|          never|24.48|        5.7|                158|       0|\n",
            "|Female|42.0|           0|            0|        No Info|27.32|        5.7|                 80|       0|\n",
            "|  Male|37.0|           0|            0|           ever|25.72|        3.5|                159|       0|\n",
            "+------+----+------------+-------------+---------------+-----+-----------+-------------------+--------+\n",
            "only showing top 20 rows\n",
            "\n"
          ]
        }
      ]
    },
    {
      "cell_type": "code",
      "source": [
        "#show amount of rows\n",
        "df_diabetes_data.count()"
      ],
      "metadata": {
        "colab": {
          "base_uri": "https://localhost:8080/"
        },
        "id": "ikGV6V3bdecX",
        "outputId": "33e61a37-0740-4e39-d4b5-067836078fa8"
      },
      "execution_count": 157,
      "outputs": [
        {
          "output_type": "execute_result",
          "data": {
            "text/plain": [
              "100000"
            ]
          },
          "metadata": {},
          "execution_count": 157
        }
      ]
    },
    {
      "cell_type": "code",
      "source": [
        "#print the schema\n",
        "df_diabetes_data.printSchema()"
      ],
      "metadata": {
        "id": "mllZAP6_xs_-",
        "colab": {
          "base_uri": "https://localhost:8080/"
        },
        "outputId": "4c04dd98-2387-4658-93be-c2cedd8531ce"
      },
      "execution_count": 158,
      "outputs": [
        {
          "output_type": "stream",
          "name": "stdout",
          "text": [
            "root\n",
            " |-- gender: string (nullable = true)\n",
            " |-- age: double (nullable = true)\n",
            " |-- hypertension: integer (nullable = true)\n",
            " |-- heart_disease: integer (nullable = true)\n",
            " |-- smoking_history: string (nullable = true)\n",
            " |-- bmi: double (nullable = true)\n",
            " |-- HbA1c_level: double (nullable = true)\n",
            " |-- blood_glucose_level: integer (nullable = true)\n",
            " |-- diabetes: integer (nullable = true)\n",
            "\n"
          ]
        }
      ]
    },
    {
      "cell_type": "code",
      "source": [
        "#count the total no. of diabetic and non-diabetic class (values of 1 indicating the presence of diabetes and 0 indicating the absence of diabetes)\n",
        "print((df_diabetes_data.count(), len(df_diabetes_data.columns)))\n",
        "df_diabetes_data.groupBy('diabetes').count().show()"
      ],
      "metadata": {
        "id": "711JMn92xtD2",
        "colab": {
          "base_uri": "https://localhost:8080/"
        },
        "outputId": "9d198131-95da-464c-a251-c56d80d0aeb0"
      },
      "execution_count": 159,
      "outputs": [
        {
          "output_type": "stream",
          "name": "stdout",
          "text": [
            "(100000, 9)\n",
            "+--------+-----+\n",
            "|diabetes|count|\n",
            "+--------+-----+\n",
            "|       1| 8500|\n",
            "|       0|91500|\n",
            "+--------+-----+\n",
            "\n"
          ]
        }
      ]
    },
    {
      "cell_type": "code",
      "source": [
        "#count the total no. of gender types\n",
        "print((df_diabetes_data.count(), len(df_diabetes_data.columns)))\n",
        "df_diabetes_data.groupBy('gender').count().show()"
      ],
      "metadata": {
        "id": "uPKWj8YvxtH9",
        "colab": {
          "base_uri": "https://localhost:8080/"
        },
        "outputId": "1912a8d8-dcea-4d91-f58a-a1b0933e0d7f"
      },
      "execution_count": 160,
      "outputs": [
        {
          "output_type": "stream",
          "name": "stdout",
          "text": [
            "(100000, 9)\n",
            "+------+-----+\n",
            "|gender|count|\n",
            "+------+-----+\n",
            "|Female|58552|\n",
            "| Other|   18|\n",
            "|  Male|41430|\n",
            "+------+-----+\n",
            "\n"
          ]
        }
      ]
    },
    {
      "cell_type": "code",
      "source": [
        "#check to see if there are any empty values in the 'gender' column\n",
        "df_diabetes_data[df_diabetes_data['gender'] == '']"
      ],
      "metadata": {
        "colab": {
          "base_uri": "https://localhost:8080/"
        },
        "id": "1mPH0vSidqO-",
        "outputId": "7ab38027-3cfc-43e0-e855-a327b5570916"
      },
      "execution_count": 161,
      "outputs": [
        {
          "output_type": "execute_result",
          "data": {
            "text/plain": [
              "DataFrame[gender: string, age: double, hypertension: int, heart_disease: int, smoking_history: string, bmi: double, HbA1c_level: double, blood_glucose_level: int, diabetes: int]"
            ]
          },
          "metadata": {},
          "execution_count": 161
        }
      ]
    },
    {
      "cell_type": "code",
      "source": [
        "#get the summary statistics\n",
        "df_diabetes_data.describe().show()"
      ],
      "metadata": {
        "id": "tilbM2uZxtNa",
        "colab": {
          "base_uri": "https://localhost:8080/"
        },
        "outputId": "2343de3f-2331-47b9-87b4-8d7b5fe75249"
      },
      "execution_count": 162,
      "outputs": [
        {
          "output_type": "stream",
          "name": "stdout",
          "text": [
            "+-------+------+-----------------+------------------+------------------+---------------+-----------------+------------------+-------------------+-------------------+\n",
            "|summary|gender|              age|      hypertension|     heart_disease|smoking_history|              bmi|       HbA1c_level|blood_glucose_level|           diabetes|\n",
            "+-------+------+-----------------+------------------+------------------+---------------+-----------------+------------------+-------------------+-------------------+\n",
            "|  count|100000|           100000|            100000|            100000|         100000|           100000|            100000|             100000|             100000|\n",
            "|   mean|  NULL|41.88585600000013|           0.07485|           0.03942|           NULL|27.32076709999422|5.5275069999983275|          138.05806|              0.085|\n",
            "| stddev|  NULL|22.51683987161704|0.2631504702289171|0.1945930169980986|           NULL|6.636783416648357|1.0706720918835468|  40.70813604870383|0.27888308976661896|\n",
            "|    min|Female|             0.08|                 0|                 0|        No Info|            10.01|               3.5|                 80|                  0|\n",
            "|    max| Other|             80.0|                 1|                 1|    not current|            95.69|               9.0|                300|                  1|\n",
            "+-------+------+-----------------+------------------+------------------+---------------+-----------------+------------------+-------------------+-------------------+\n",
            "\n"
          ]
        }
      ]
    },
    {
      "cell_type": "code",
      "source": [
        "## Data Cleaning & Preparation\n",
        "#check for null values\n",
        "for col in df_diabetes_data.columns:\n",
        "  print(col + \":\", df_diabetes_data[df_diabetes_data[col].isNull()].count())"
      ],
      "metadata": {
        "id": "BMz2yjRdyhso",
        "colab": {
          "base_uri": "https://localhost:8080/"
        },
        "outputId": "b7b4e954-6bd8-4793-ba22-40c9489c6a81"
      },
      "execution_count": 163,
      "outputs": [
        {
          "output_type": "stream",
          "name": "stdout",
          "text": [
            "gender: 0\n",
            "age: 0\n",
            "hypertension: 0\n",
            "heart_disease: 0\n",
            "smoking_history: 0\n",
            "bmi: 0\n",
            "HbA1c_level: 0\n",
            "blood_glucose_level: 0\n",
            "diabetes: 0\n"
          ]
        }
      ]
    },
    {
      "cell_type": "code",
      "source": [
        "#look for the unnecessary values present\n",
        "def count_zeros():\n",
        "  columns_list = [\"age\", \"bmi\", \"HbA1c_level\", \"blood_glucose_level\"]\n",
        "  for i in columns_list:\n",
        "    print(i+\":\",df_diabetes_data[df_diabetes_data[i]==0].count())\n",
        "    count_zeros()"
      ],
      "metadata": {
        "id": "onzeQtCRyhwR"
      },
      "execution_count": 164,
      "outputs": []
    },
    {
      "cell_type": "code",
      "source": [
        "#display the dataframe\n",
        "df_diabetes_data.show()"
      ],
      "metadata": {
        "id": "84gPXxDQyh0L",
        "colab": {
          "base_uri": "https://localhost:8080/"
        },
        "outputId": "519e3313-6fab-437a-e262-4ce1552b8296"
      },
      "execution_count": 165,
      "outputs": [
        {
          "output_type": "stream",
          "name": "stdout",
          "text": [
            "+------+----+------------+-------------+---------------+-----+-----------+-------------------+--------+\n",
            "|gender| age|hypertension|heart_disease|smoking_history|  bmi|HbA1c_level|blood_glucose_level|diabetes|\n",
            "+------+----+------------+-------------+---------------+-----+-----------+-------------------+--------+\n",
            "|Female|80.0|           0|            1|          never|25.19|        6.6|                140|       0|\n",
            "|Female|54.0|           0|            0|        No Info|27.32|        6.6|                 80|       0|\n",
            "|  Male|28.0|           0|            0|          never|27.32|        5.7|                158|       0|\n",
            "|Female|36.0|           0|            0|        current|23.45|        5.0|                155|       0|\n",
            "|  Male|76.0|           1|            1|        current|20.14|        4.8|                155|       0|\n",
            "|Female|20.0|           0|            0|          never|27.32|        6.6|                 85|       0|\n",
            "|Female|44.0|           0|            0|          never|19.31|        6.5|                200|       1|\n",
            "|Female|79.0|           0|            0|        No Info|23.86|        5.7|                 85|       0|\n",
            "|  Male|42.0|           0|            0|          never|33.64|        4.8|                145|       0|\n",
            "|Female|32.0|           0|            0|          never|27.32|        5.0|                100|       0|\n",
            "|Female|53.0|           0|            0|          never|27.32|        6.1|                 85|       0|\n",
            "|Female|54.0|           0|            0|         former| 54.7|        6.0|                100|       0|\n",
            "|Female|78.0|           0|            0|         former|36.05|        5.0|                130|       0|\n",
            "|Female|67.0|           0|            0|          never|25.69|        5.8|                200|       0|\n",
            "|Female|76.0|           0|            0|        No Info|27.32|        5.0|                160|       0|\n",
            "|  Male|78.0|           0|            0|        No Info|27.32|        6.6|                126|       0|\n",
            "|  Male|15.0|           0|            0|          never|30.36|        6.1|                200|       0|\n",
            "|Female|42.0|           0|            0|          never|24.48|        5.7|                158|       0|\n",
            "|Female|42.0|           0|            0|        No Info|27.32|        5.7|                 80|       0|\n",
            "|  Male|37.0|           0|            0|           ever|25.72|        3.5|                159|       0|\n",
            "+------+----+------------+-------------+---------------+-----+-----------+-------------------+--------+\n",
            "only showing top 20 rows\n",
            "\n"
          ]
        }
      ]
    },
    {
      "cell_type": "code",
      "source": [
        "#drop the 'other' rows in the gender columns\n",
        "string_to_remove = \"Other\"\n",
        "df_diabetes_data = df_diabetes_data[df_diabetes_data['Gender'] != string_to_remove]"
      ],
      "metadata": {
        "id": "mAZV-HnieDEx"
      },
      "execution_count": 166,
      "outputs": []
    },
    {
      "cell_type": "code",
      "source": [
        "#count the total no. of gender types\n",
        "print((df_diabetes_data.count(), len(df_diabetes_data.columns)))\n",
        "df_diabetes_data.groupBy('gender').count().show()"
      ],
      "metadata": {
        "id": "HL-DQZXkyh30",
        "colab": {
          "base_uri": "https://localhost:8080/"
        },
        "outputId": "1fa6bf4a-2404-4170-dab8-2e10b84c4235"
      },
      "execution_count": 167,
      "outputs": [
        {
          "output_type": "stream",
          "name": "stdout",
          "text": [
            "(99982, 9)\n",
            "+------+-----+\n",
            "|gender|count|\n",
            "+------+-----+\n",
            "|Female|58552|\n",
            "|  Male|41430|\n",
            "+------+-----+\n",
            "\n"
          ]
        }
      ]
    },
    {
      "cell_type": "code",
      "source": [
        "#count the total no. of smoker/non-smoker types\n",
        "print((df_diabetes_data.count(), len(df_diabetes_data.columns)))\n",
        "df_diabetes_data.groupBy('smoking_history').count().show()"
      ],
      "metadata": {
        "colab": {
          "base_uri": "https://localhost:8080/"
        },
        "id": "6ZjFg_1jeR16",
        "outputId": "21c2004a-80f6-4182-e892-f86b5a8de448"
      },
      "execution_count": 168,
      "outputs": [
        {
          "output_type": "stream",
          "name": "stdout",
          "text": [
            "(99982, 9)\n",
            "+---------------+-----+\n",
            "|smoking_history|count|\n",
            "+---------------+-----+\n",
            "|    not current| 6439|\n",
            "|         former| 9352|\n",
            "|        No Info|35810|\n",
            "|        current| 9286|\n",
            "|          never|35092|\n",
            "|           ever| 4003|\n",
            "+---------------+-----+\n",
            "\n"
          ]
        }
      ]
    },
    {
      "cell_type": "code",
      "source": [
        "#drop the 'other' rows in the gender columns\n",
        "string_to_remove_1= \"No Info\"\n",
        "df_diabetes_data = df_diabetes_data[df_diabetes_data['smoking_history'] != string_to_remove_1]"
      ],
      "metadata": {
        "id": "mH5iBWYUBM-k"
      },
      "execution_count": 169,
      "outputs": []
    },
    {
      "cell_type": "code",
      "source": [
        "#count the total no. of smoker/non-smoker types\n",
        "print((df_diabetes_data.count(), len(df_diabetes_data.columns)))\n",
        "df_diabetes_data.groupBy('smoking_history').count().show()"
      ],
      "metadata": {
        "colab": {
          "base_uri": "https://localhost:8080/"
        },
        "id": "WUZMOvY5BcHZ",
        "outputId": "8fff6cb3-2b7e-45da-ae8d-e1f55e60c39d"
      },
      "execution_count": 170,
      "outputs": [
        {
          "output_type": "stream",
          "name": "stdout",
          "text": [
            "(64172, 9)\n",
            "+---------------+-----+\n",
            "|smoking_history|count|\n",
            "+---------------+-----+\n",
            "|    not current| 6439|\n",
            "|         former| 9352|\n",
            "|        current| 9286|\n",
            "|          never|35092|\n",
            "|           ever| 4003|\n",
            "+---------------+-----+\n",
            "\n"
          ]
        }
      ]
    },
    {
      "cell_type": "code",
      "source": [
        "#count the total no. of gender types\n",
        "print((df_diabetes_data.count(), len(df_diabetes_data.columns)))\n",
        "df_diabetes_data.groupBy('gender').count().show()"
      ],
      "metadata": {
        "colab": {
          "base_uri": "https://localhost:8080/"
        },
        "id": "HWx5Dh5heYQO",
        "outputId": "a9c58ca4-1ac3-4e4c-d654-45f6ac7dec4b"
      },
      "execution_count": 171,
      "outputs": [
        {
          "output_type": "stream",
          "name": "stdout",
          "text": [
            "(64172, 9)\n",
            "+------+-----+\n",
            "|gender|count|\n",
            "+------+-----+\n",
            "|Female|38852|\n",
            "|  Male|25320|\n",
            "+------+-----+\n",
            "\n"
          ]
        }
      ]
    },
    {
      "cell_type": "code",
      "source": [
        "#assign in the 'gender'column 'Female' = 0, and 'Male' = 1\n",
        "from pyspark.sql.functions import when, col\n",
        "df_diabetes_data = df_diabetes_data.withColumn(\"gender\",\n",
        "    when(col(\"gender\") == \"Female\", 0).\n",
        "    when(col(\"gender\") == \"Male\", 1).\n",
        "    otherwise(col(\"gender\"))\n",
        ")\n",
        "df_diabetes_data.show()"
      ],
      "metadata": {
        "colab": {
          "base_uri": "https://localhost:8080/"
        },
        "id": "p2AL-ynWeYn4",
        "outputId": "5cbb9ac6-39e5-419e-af14-d3f2b27f8daa"
      },
      "execution_count": 172,
      "outputs": [
        {
          "output_type": "stream",
          "name": "stdout",
          "text": [
            "+------+----+------------+-------------+---------------+-----+-----------+-------------------+--------+\n",
            "|gender| age|hypertension|heart_disease|smoking_history|  bmi|HbA1c_level|blood_glucose_level|diabetes|\n",
            "+------+----+------------+-------------+---------------+-----+-----------+-------------------+--------+\n",
            "|     0|80.0|           0|            1|          never|25.19|        6.6|                140|       0|\n",
            "|     1|28.0|           0|            0|          never|27.32|        5.7|                158|       0|\n",
            "|     0|36.0|           0|            0|        current|23.45|        5.0|                155|       0|\n",
            "|     1|76.0|           1|            1|        current|20.14|        4.8|                155|       0|\n",
            "|     0|20.0|           0|            0|          never|27.32|        6.6|                 85|       0|\n",
            "|     0|44.0|           0|            0|          never|19.31|        6.5|                200|       1|\n",
            "|     1|42.0|           0|            0|          never|33.64|        4.8|                145|       0|\n",
            "|     0|32.0|           0|            0|          never|27.32|        5.0|                100|       0|\n",
            "|     0|53.0|           0|            0|          never|27.32|        6.1|                 85|       0|\n",
            "|     0|54.0|           0|            0|         former| 54.7|        6.0|                100|       0|\n",
            "|     0|78.0|           0|            0|         former|36.05|        5.0|                130|       0|\n",
            "|     0|67.0|           0|            0|          never|25.69|        5.8|                200|       0|\n",
            "|     1|15.0|           0|            0|          never|30.36|        6.1|                200|       0|\n",
            "|     0|42.0|           0|            0|          never|24.48|        5.7|                158|       0|\n",
            "|     1|37.0|           0|            0|           ever|25.72|        3.5|                159|       0|\n",
            "|     1|40.0|           0|            0|        current|36.38|        6.0|                 90|       0|\n",
            "|     0|69.0|           0|            0|          never|21.24|        4.8|                 85|       0|\n",
            "|     0|72.0|           0|            1|         former|27.94|        6.5|                130|       0|\n",
            "|     1|30.0|           0|            0|          never|33.76|        6.1|                126|       0|\n",
            "|     1|67.0|           0|            1|    not current|27.32|        6.5|                200|       1|\n",
            "+------+----+------------+-------------+---------------+-----+-----------+-------------------+--------+\n",
            "only showing top 20 rows\n",
            "\n"
          ]
        }
      ]
    },
    {
      "cell_type": "code",
      "source": [
        "#assign in the 'smoking_history': \"never\" = 0, \"ever\" = 1, \"not current\" = 2, \"current\" = 3, \"former\" = 4\n",
        "from pyspark.sql.functions import when, col\n",
        "df_diabetes_data = df_diabetes_data.withColumn(\"smoking_history\",\n",
        "    when(col(\"smoking_history\") == \"never\", 0).\n",
        "    when(col(\"smoking_history\") == \"ever\", 1).\n",
        "    when(col(\"smoking_history\") == \"not current\", 2).\n",
        "    when(col(\"smoking_history\") == \"current\", 3).\n",
        "    when(col(\"smoking_history\") == \"former\", 4).\n",
        "    when(col(\"smoking_history\") == \"No Info\", 5).\n",
        "    otherwise(col(\"smoking_history\")).cast('int')\n",
        ")\n",
        "df_diabetes_data.show()\n",
        "\n"
      ],
      "metadata": {
        "colab": {
          "base_uri": "https://localhost:8080/"
        },
        "id": "p_fgvYHNei5j",
        "outputId": "ab1d9b67-0659-445d-e9ec-9d94c5a5276c"
      },
      "execution_count": 173,
      "outputs": [
        {
          "output_type": "stream",
          "name": "stdout",
          "text": [
            "+------+----+------------+-------------+---------------+-----+-----------+-------------------+--------+\n",
            "|gender| age|hypertension|heart_disease|smoking_history|  bmi|HbA1c_level|blood_glucose_level|diabetes|\n",
            "+------+----+------------+-------------+---------------+-----+-----------+-------------------+--------+\n",
            "|     0|80.0|           0|            1|              0|25.19|        6.6|                140|       0|\n",
            "|     1|28.0|           0|            0|              0|27.32|        5.7|                158|       0|\n",
            "|     0|36.0|           0|            0|              3|23.45|        5.0|                155|       0|\n",
            "|     1|76.0|           1|            1|              3|20.14|        4.8|                155|       0|\n",
            "|     0|20.0|           0|            0|              0|27.32|        6.6|                 85|       0|\n",
            "|     0|44.0|           0|            0|              0|19.31|        6.5|                200|       1|\n",
            "|     1|42.0|           0|            0|              0|33.64|        4.8|                145|       0|\n",
            "|     0|32.0|           0|            0|              0|27.32|        5.0|                100|       0|\n",
            "|     0|53.0|           0|            0|              0|27.32|        6.1|                 85|       0|\n",
            "|     0|54.0|           0|            0|              4| 54.7|        6.0|                100|       0|\n",
            "|     0|78.0|           0|            0|              4|36.05|        5.0|                130|       0|\n",
            "|     0|67.0|           0|            0|              0|25.69|        5.8|                200|       0|\n",
            "|     1|15.0|           0|            0|              0|30.36|        6.1|                200|       0|\n",
            "|     0|42.0|           0|            0|              0|24.48|        5.7|                158|       0|\n",
            "|     1|37.0|           0|            0|              1|25.72|        3.5|                159|       0|\n",
            "|     1|40.0|           0|            0|              3|36.38|        6.0|                 90|       0|\n",
            "|     0|69.0|           0|            0|              0|21.24|        4.8|                 85|       0|\n",
            "|     0|72.0|           0|            1|              4|27.94|        6.5|                130|       0|\n",
            "|     1|30.0|           0|            0|              0|33.76|        6.1|                126|       0|\n",
            "|     1|67.0|           0|            1|              2|27.32|        6.5|                200|       1|\n",
            "+------+----+------------+-------------+---------------+-----+-----------+-------------------+--------+\n",
            "only showing top 20 rows\n",
            "\n"
          ]
        }
      ]
    },
    {
      "cell_type": "code",
      "source": [
        "from pyspark.sql.functions import col\n",
        "\n",
        "# Convert 'age' column to integer data type\n",
        "df_diabetes_data = df_diabetes_data.withColumn(\"age\", col(\"age\").cast('int'))\n",
        "\n",
        "# Show the DataFrame to verify the changes\n",
        "df_diabetes_data.show()"
      ],
      "metadata": {
        "colab": {
          "base_uri": "https://localhost:8080/"
        },
        "id": "DLUb2QgxKbG8",
        "outputId": "344b0c2f-00cc-45f8-d46f-d838689ec7c7"
      },
      "execution_count": 211,
      "outputs": [
        {
          "output_type": "stream",
          "name": "stdout",
          "text": [
            "+------+---+------------+-------------+---------------+-----+-----------+-------------------+--------+\n",
            "|gender|age|hypertension|heart_disease|smoking_history|  bmi|HbA1c_level|blood_glucose_level|diabetes|\n",
            "+------+---+------------+-------------+---------------+-----+-----------+-------------------+--------+\n",
            "|   0.0| 80|           0|            1|            0.0|25.19|        6.6|                140|       0|\n",
            "|   1.0| 28|           0|            0|            0.0|27.32|        5.7|                158|       0|\n",
            "|   0.0| 36|           0|            0|            3.0|23.45|        5.0|                155|       0|\n",
            "|   1.0| 76|           1|            1|            3.0|20.14|        4.8|                155|       0|\n",
            "|   0.0| 20|           0|            0|            0.0|27.32|        6.6|                 85|       0|\n",
            "|   0.0| 44|           0|            0|            0.0|19.31|        6.5|                200|       1|\n",
            "|   1.0| 42|           0|            0|            0.0|33.64|        4.8|                145|       0|\n",
            "|   0.0| 32|           0|            0|            0.0|27.32|        5.0|                100|       0|\n",
            "|   0.0| 53|           0|            0|            0.0|27.32|        6.1|                 85|       0|\n",
            "|   0.0| 54|           0|            0|            4.0| 54.7|        6.0|                100|       0|\n",
            "|   0.0| 78|           0|            0|            4.0|36.05|        5.0|                130|       0|\n",
            "|   0.0| 67|           0|            0|            0.0|25.69|        5.8|                200|       0|\n",
            "|   1.0| 15|           0|            0|            0.0|30.36|        6.1|                200|       0|\n",
            "|   0.0| 42|           0|            0|            0.0|24.48|        5.7|                158|       0|\n",
            "|   1.0| 37|           0|            0|            1.0|25.72|        3.5|                159|       0|\n",
            "|   1.0| 40|           0|            0|            3.0|36.38|        6.0|                 90|       0|\n",
            "|   0.0| 69|           0|            0|            0.0|21.24|        4.8|                 85|       0|\n",
            "|   0.0| 72|           0|            1|            4.0|27.94|        6.5|                130|       0|\n",
            "|   1.0| 30|           0|            0|            0.0|33.76|        6.1|                126|       0|\n",
            "|   1.0| 67|           0|            1|            2.0|27.32|        6.5|                200|       1|\n",
            "+------+---+------------+-------------+---------------+-----+-----------+-------------------+--------+\n",
            "only showing top 20 rows\n",
            "\n"
          ]
        }
      ]
    },
    {
      "cell_type": "code",
      "source": [
        "df_diabetes_data.dtypes"
      ],
      "metadata": {
        "colab": {
          "base_uri": "https://localhost:8080/"
        },
        "id": "8VVAtE3hortB",
        "outputId": "da6ca1e8-db9b-4c7a-a687-b87ea47f3508"
      },
      "execution_count": 208,
      "outputs": [
        {
          "output_type": "execute_result",
          "data": {
            "text/plain": [
              "[('gender', 'float'),\n",
              " ('age', 'double'),\n",
              " ('hypertension', 'int'),\n",
              " ('heart_disease', 'int'),\n",
              " ('smoking_history', 'float'),\n",
              " ('bmi', 'double'),\n",
              " ('HbA1c_level', 'double'),\n",
              " ('blood_glucose_level', 'int'),\n",
              " ('diabetes', 'int')]"
            ]
          },
          "metadata": {},
          "execution_count": 208
        }
      ]
    },
    {
      "cell_type": "code",
      "source": [
        "# gender and smoking_history needs to be converted to float data type for model to work\n",
        "df_diabetes_data = df_diabetes_data.withColumn(\"gender\", col(\"gender\").cast('float'))\n",
        "df_diabetes_data = df_diabetes_data.withColumn(\"smoking_history\", col(\"smoking_history\").cast('float'))\n",
        "df_diabetes_data.show()"
      ],
      "metadata": {
        "colab": {
          "base_uri": "https://localhost:8080/"
        },
        "id": "yj8MnLLgB_1b",
        "outputId": "0d138a8e-66ec-4acc-cb3a-dd306dc1d40b"
      },
      "execution_count": 212,
      "outputs": [
        {
          "output_type": "stream",
          "name": "stdout",
          "text": [
            "+------+---+------------+-------------+---------------+-----+-----------+-------------------+--------+\n",
            "|gender|age|hypertension|heart_disease|smoking_history|  bmi|HbA1c_level|blood_glucose_level|diabetes|\n",
            "+------+---+------------+-------------+---------------+-----+-----------+-------------------+--------+\n",
            "|   0.0| 80|           0|            1|            0.0|25.19|        6.6|                140|       0|\n",
            "|   1.0| 28|           0|            0|            0.0|27.32|        5.7|                158|       0|\n",
            "|   0.0| 36|           0|            0|            3.0|23.45|        5.0|                155|       0|\n",
            "|   1.0| 76|           1|            1|            3.0|20.14|        4.8|                155|       0|\n",
            "|   0.0| 20|           0|            0|            0.0|27.32|        6.6|                 85|       0|\n",
            "|   0.0| 44|           0|            0|            0.0|19.31|        6.5|                200|       1|\n",
            "|   1.0| 42|           0|            0|            0.0|33.64|        4.8|                145|       0|\n",
            "|   0.0| 32|           0|            0|            0.0|27.32|        5.0|                100|       0|\n",
            "|   0.0| 53|           0|            0|            0.0|27.32|        6.1|                 85|       0|\n",
            "|   0.0| 54|           0|            0|            4.0| 54.7|        6.0|                100|       0|\n",
            "|   0.0| 78|           0|            0|            4.0|36.05|        5.0|                130|       0|\n",
            "|   0.0| 67|           0|            0|            0.0|25.69|        5.8|                200|       0|\n",
            "|   1.0| 15|           0|            0|            0.0|30.36|        6.1|                200|       0|\n",
            "|   0.0| 42|           0|            0|            0.0|24.48|        5.7|                158|       0|\n",
            "|   1.0| 37|           0|            0|            1.0|25.72|        3.5|                159|       0|\n",
            "|   1.0| 40|           0|            0|            3.0|36.38|        6.0|                 90|       0|\n",
            "|   0.0| 69|           0|            0|            0.0|21.24|        4.8|                 85|       0|\n",
            "|   0.0| 72|           0|            1|            4.0|27.94|        6.5|                130|       0|\n",
            "|   1.0| 30|           0|            0|            0.0|33.76|        6.1|                126|       0|\n",
            "|   1.0| 67|           0|            1|            2.0|27.32|        6.5|                200|       1|\n",
            "+------+---+------------+-------------+---------------+-----+-----------+-------------------+--------+\n",
            "only showing top 20 rows\n",
            "\n"
          ]
        }
      ]
    },
    {
      "cell_type": "code",
      "source": [
        "from pyspark.sql.functions import col\n",
        "\n",
        "# Convert 'gender' and 'smoking_history' columns to float data type\n",
        "df_diabetes_data = df_diabetes_data.withColumn(\"gender\", col(\"gender\").cast('float'))\n",
        "df_diabetes_data = df_diabetes_data.withColumn(\"smoking_history\", col(\"smoking_history\").cast('float'))\n",
        "\n",
        "# Show the DataFrame to verify the changes\n",
        "df_diabetes_data.show()"
      ],
      "metadata": {
        "colab": {
          "base_uri": "https://localhost:8080/"
        },
        "id": "wLaeT-eiJ3Y3",
        "outputId": "cffe9937-87d9-4544-ff33-3b7343aaf328"
      },
      "execution_count": 213,
      "outputs": [
        {
          "output_type": "stream",
          "name": "stdout",
          "text": [
            "+------+---+------------+-------------+---------------+-----+-----------+-------------------+--------+\n",
            "|gender|age|hypertension|heart_disease|smoking_history|  bmi|HbA1c_level|blood_glucose_level|diabetes|\n",
            "+------+---+------------+-------------+---------------+-----+-----------+-------------------+--------+\n",
            "|   0.0| 80|           0|            1|            0.0|25.19|        6.6|                140|       0|\n",
            "|   1.0| 28|           0|            0|            0.0|27.32|        5.7|                158|       0|\n",
            "|   0.0| 36|           0|            0|            3.0|23.45|        5.0|                155|       0|\n",
            "|   1.0| 76|           1|            1|            3.0|20.14|        4.8|                155|       0|\n",
            "|   0.0| 20|           0|            0|            0.0|27.32|        6.6|                 85|       0|\n",
            "|   0.0| 44|           0|            0|            0.0|19.31|        6.5|                200|       1|\n",
            "|   1.0| 42|           0|            0|            0.0|33.64|        4.8|                145|       0|\n",
            "|   0.0| 32|           0|            0|            0.0|27.32|        5.0|                100|       0|\n",
            "|   0.0| 53|           0|            0|            0.0|27.32|        6.1|                 85|       0|\n",
            "|   0.0| 54|           0|            0|            4.0| 54.7|        6.0|                100|       0|\n",
            "|   0.0| 78|           0|            0|            4.0|36.05|        5.0|                130|       0|\n",
            "|   0.0| 67|           0|            0|            0.0|25.69|        5.8|                200|       0|\n",
            "|   1.0| 15|           0|            0|            0.0|30.36|        6.1|                200|       0|\n",
            "|   0.0| 42|           0|            0|            0.0|24.48|        5.7|                158|       0|\n",
            "|   1.0| 37|           0|            0|            1.0|25.72|        3.5|                159|       0|\n",
            "|   1.0| 40|           0|            0|            3.0|36.38|        6.0|                 90|       0|\n",
            "|   0.0| 69|           0|            0|            0.0|21.24|        4.8|                 85|       0|\n",
            "|   0.0| 72|           0|            1|            4.0|27.94|        6.5|                130|       0|\n",
            "|   1.0| 30|           0|            0|            0.0|33.76|        6.1|                126|       0|\n",
            "|   1.0| 67|           0|            1|            2.0|27.32|        6.5|                200|       1|\n",
            "+------+---+------------+-------------+---------------+-----+-----------+-------------------+--------+\n",
            "only showing top 20 rows\n",
            "\n"
          ]
        }
      ]
    },
    {
      "cell_type": "code",
      "source": [
        "##PART 4: Correlation Analysis & Feature Selection\n",
        "#find the correlation among the set of input & output variables\n",
        "for i in df_diabetes_data.columns:\n",
        "  print(\"Correlation to outcome for {} is {}\".format(i, df_diabetes_data.stat.corr(\"diabetes\",i)))"
      ],
      "metadata": {
        "colab": {
          "base_uri": "https://localhost:8080/"
        },
        "id": "RYTbXjffejIA",
        "outputId": "f020d8f1-f15b-4efa-ece8-7f0eb06ba002"
      },
      "execution_count": 214,
      "outputs": [
        {
          "output_type": "stream",
          "name": "stdout",
          "text": [
            "Correlation to outcome for gender is 0.05699689368565596\n",
            "Correlation to outcome for age is 0.26083296824208985\n",
            "Correlation to outcome for hypertension is 0.19222574901207254\n",
            "Correlation to outcome for heart_disease is 0.16961397731730365\n",
            "Correlation to outcome for smoking_history is 0.06472564826560573\n",
            "Correlation to outcome for bmi is 0.20442115545137657\n",
            "Correlation to outcome for HbA1c_level is 0.43889709468177335\n",
            "Correlation to outcome for blood_glucose_level is 0.449697968864106\n",
            "Correlation to outcome for diabetes is 1.0\n"
          ]
        }
      ]
    },
    {
      "cell_type": "code",
      "source": [
        "# #feature selection\n",
        "from pyspark.ml.feature import VectorAssembler\n",
        "\n",
        "assembler = VectorAssembler(inputCols = ['gender', 'age', 'hypertension', 'heart_disease',\n",
        "                                         'smoking_history', 'bmi', 'HbA1c_level', 'blood_glucose_level'], outputCol='features')\n",
        "output_data = assembler.transform(df_diabetes_data)"
      ],
      "metadata": {
        "id": "QKaOOslkersG"
      },
      "execution_count": 215,
      "outputs": []
    },
    {
      "cell_type": "code",
      "source": [
        "## PART 5: Split Dataset & Build the Model\n",
        "#create final data\n",
        "from pyspark.ml.classification import LogisticRegression\n",
        "\n",
        "final_data = output_data.select('features','diabetes')"
      ],
      "metadata": {
        "id": "oQSfk46syiGU"
      },
      "execution_count": 216,
      "outputs": []
    },
    {
      "cell_type": "code",
      "source": [
        "#print schema of final data\n",
        "final_data.printSchema()"
      ],
      "metadata": {
        "id": "0oAeBQqXxtZK",
        "colab": {
          "base_uri": "https://localhost:8080/"
        },
        "outputId": "a6c9a425-bb34-42dc-ad6f-4ef9d2e498da"
      },
      "execution_count": 217,
      "outputs": [
        {
          "output_type": "stream",
          "name": "stdout",
          "text": [
            "root\n",
            " |-- features: vector (nullable = true)\n",
            " |-- diabetes: integer (nullable = true)\n",
            "\n"
          ]
        }
      ]
    },
    {
      "cell_type": "code",
      "source": [
        "#split the dataset ; build the model\n",
        "train, test = final_data.randomSplit([0.7, 0.3])\n",
        "models = LogisticRegression(labelCol= 'diabetes')\n",
        "model = models.fit(train)"
      ],
      "metadata": {
        "id": "nqTmbGIFzL1N"
      },
      "execution_count": 218,
      "outputs": []
    },
    {
      "cell_type": "code",
      "source": [
        "#summary of the model\n",
        "summary = model.summary\n",
        "summary.predictions.describe().show()"
      ],
      "metadata": {
        "id": "0hWJqQKUzL4h",
        "colab": {
          "base_uri": "https://localhost:8080/"
        },
        "outputId": "aab0e484-68ad-4a02-db8e-4261c69cc130"
      },
      "execution_count": 219,
      "outputs": [
        {
          "output_type": "stream",
          "name": "stdout",
          "text": [
            "+-------+-------------------+-------------------+\n",
            "|summary|           diabetes|         prediction|\n",
            "+-------+-------------------+-------------------+\n",
            "|  count|              44952|              44952|\n",
            "|   mean|0.11022868837871508|0.08179836269798897|\n",
            "| stddev|0.31317807479322185| 0.2740603244368564|\n",
            "|    min|                0.0|                0.0|\n",
            "|    max|                1.0|                1.0|\n",
            "+-------+-------------------+-------------------+\n",
            "\n"
          ]
        }
      ]
    },
    {
      "cell_type": "code",
      "source": [
        "## PART 6: Evaluate and Save the Model\n",
        "from pyspark.ml.evaluation import BinaryClassificationEvaluator\n",
        "\n",
        "predictions = model.evaluate(test)"
      ],
      "metadata": {
        "id": "UghdBkE3zL7p"
      },
      "execution_count": 220,
      "outputs": []
    },
    {
      "cell_type": "code",
      "source": [
        "predictions.predictions.show(10)"
      ],
      "metadata": {
        "id": "UMQprWRIzL_C",
        "colab": {
          "base_uri": "https://localhost:8080/"
        },
        "outputId": "ebc71435-5a0a-4b3c-a9ad-904ef27a0c35"
      },
      "execution_count": 221,
      "outputs": [
        {
          "output_type": "stream",
          "name": "stdout",
          "text": [
            "+--------------------+--------+--------------------+--------------------+----------+\n",
            "|            features|diabetes|       rawPrediction|         probability|prediction|\n",
            "+--------------------+--------+--------------------+--------------------+----------+\n",
            "|(8,[0,5,6,7],[1.0...|       0|[6.98566357093458...|[0.99907580566816...|       0.0|\n",
            "|(8,[0,5,6,7],[1.0...|       0|[10.1108312806235...|[0.99995936463928...|       0.0|\n",
            "|(8,[0,5,6,7],[1.0...|       0|[11.5752733082265...|[0.99999060452815...|       0.0|\n",
            "|(8,[0,5,6,7],[1.0...|       0|[9.10108188085734...|[0.99988846737619...|       0.0|\n",
            "|(8,[1,5,6,7],[1.0...|       0|[5.10728233415103...|[0.99398390319122...|       0.0|\n",
            "|(8,[1,5,6,7],[1.0...|       0|[11.7724340001360...|[0.99999228575327...|       0.0|\n",
            "|(8,[1,5,6,7],[1.0...|       0|[5.88755937961597...|[0.99723393425761...|       0.0|\n",
            "|(8,[1,5,6,7],[1.0...|       0|[6.14438154141742...|[0.99785909093945...|       0.0|\n",
            "|(8,[1,5,6,7],[1.0...|       0|[8.39384673314678...|[0.99977379592124...|       0.0|\n",
            "|(8,[1,5,6,7],[1.0...|       0|[6.98144870669198...|[0.99907190571666...|       0.0|\n",
            "+--------------------+--------+--------------------+--------------------+----------+\n",
            "only showing top 10 rows\n",
            "\n"
          ]
        }
      ]
    },
    {
      "cell_type": "code",
      "source": [
        "evaluator = BinaryClassificationEvaluator(rawPredictionCol= 'rawPrediction', labelCol='diabetes')\n",
        "evaluator.evaluate(model.transform(test))"
      ],
      "metadata": {
        "id": "8fKGh9AIzMCI",
        "colab": {
          "base_uri": "https://localhost:8080/"
        },
        "outputId": "d55774fa-a2b7-4ecf-b642-9a631dd220a0"
      },
      "execution_count": 222,
      "outputs": [
        {
          "output_type": "execute_result",
          "data": {
            "text/plain": [
              "0.9572813287105805"
            ]
          },
          "metadata": {},
          "execution_count": 222
        }
      ]
    },
    {
      "cell_type": "code",
      "source": [
        "# save model\n",
        "# model.save(\"model\")"
      ],
      "metadata": {
        "id": "8eWQ2jt1zMFV"
      },
      "execution_count": 225,
      "outputs": []
    },
    {
      "cell_type": "code",
      "source": [
        "# load saved model back to the environment\n",
        "from pyspark.ml.classification import LogisticRegressionModel\n",
        "\n",
        "model = LogisticRegressionModel.load('model')"
      ],
      "metadata": {
        "id": "IVWMzKkJzMIZ"
      },
      "execution_count": 188,
      "outputs": []
    },
    {
      "cell_type": "code",
      "source": [
        "# ## PART 7: Prediction on New Data with the saved model\n",
        "# # Create a new spark dataframe\n",
        "# test_df = spark.read.csv('C:\\\\path\\\\to\\\\beauty_diabetes_prediction_dataset.csv', header=True, inferSchema=True)\n",
        "\n"
      ],
      "metadata": {
        "id": "5u2HtwWQzMLl"
      },
      "execution_count": 196,
      "outputs": []
    },
    {
      "cell_type": "code",
      "source": [
        "# #print the schema\n",
        "# test_df.printSchema()"
      ],
      "metadata": {
        "id": "vjfxh6uvzMOo"
      },
      "execution_count": 198,
      "outputs": []
    },
    {
      "cell_type": "code",
      "source": [
        "#create an additional feature merged column\n",
        "test_data = assembler.transform(test_df)"
      ],
      "metadata": {
        "id": "LNn4tT1azMRj"
      },
      "execution_count": null,
      "outputs": []
    },
    {
      "cell_type": "code",
      "source": [
        "#print the schema\n",
        "test_data.printSchema()"
      ],
      "metadata": {
        "id": "Pe1o-fx8z5pj"
      },
      "execution_count": null,
      "outputs": []
    },
    {
      "cell_type": "code",
      "source": [
        "#use model to make predictions\n",
        "results = model.transform(test_data)\n",
        "results.printSchema()"
      ],
      "metadata": {
        "id": "YO7NI5K2z5t9"
      },
      "execution_count": null,
      "outputs": []
    },
    {
      "cell_type": "code",
      "source": [
        "#display the predictions\n",
        "results.select('features','prediction').show()"
      ],
      "metadata": {
        "id": "g5-bFqg_z5ya"
      },
      "execution_count": null,
      "outputs": []
    },
    {
      "cell_type": "code",
      "source": [
        "#display the predictions\n",
        "results.select('features','prediction').show()"
      ],
      "metadata": {
        "id": "oQ3v8x_nD-s5"
      },
      "execution_count": null,
      "outputs": []
    },
    {
      "cell_type": "code",
      "source": [
        "import pandas as pd\n",
        "import seaborn as sns\n",
        "import matplotlib.pyplot as plt\n"
      ],
      "metadata": {
        "id": "h0UEkl-uz51j"
      },
      "execution_count": 247,
      "outputs": []
    },
    {
      "cell_type": "code",
      "source": [
        "# Convert PySpark DataFrame to Pandas DataFrame\n",
        "df_diabetes_pd = df_diabetes_data.toPandas()"
      ],
      "metadata": {
        "id": "PdUmdi-wMg-5"
      },
      "execution_count": 236,
      "outputs": []
    },
    {
      "cell_type": "code",
      "source": [
        "# Histogram of Age\n",
        "plt.hist(df_diabetes_pd['age'], bins=20, color='lightgreen', edgecolor='green')\n",
        "plt.xlabel('Age')\n",
        "plt.ylabel('Frequency')\n",
        "plt.title('Distribution of Age')\n",
        "plt.show()"
      ],
      "metadata": {
        "id": "HCGbXT8Bz54o",
        "colab": {
          "base_uri": "https://localhost:8080/",
          "height": 472
        },
        "outputId": "1fa594c3-bad2-480e-a605-0b378350c87b"
      },
      "execution_count": 256,
      "outputs": [
        {
          "output_type": "display_data",
          "data": {
            "text/plain": [
              "<Figure size 640x480 with 1 Axes>"
            ],
            "image/png": "[encoded data removed]"
          },
          "metadata": {}
        }
      ]
    },
    {
      "cell_type": "code",
      "source": [
        "# Pie Chart of Gender Distribution\n",
        "gender_counts = df_diabetes_pd['gender'].value_counts()\n",
        "plt.pie(gender_counts, labels=gender_counts.index, autopct='%1.1f%%', startangle=140)\n",
        "plt.title('Gender Distribution')\n",
        "plt.axis('equal')\n",
        "plt.show()"
      ],
      "metadata": {
        "id": "cCt_WbERz574",
        "colab": {
          "base_uri": "https://localhost:8080/",
          "height": 428
        },
        "outputId": "9821326c-e549-4f6a-dce7-2d528c506136"
      },
      "execution_count": 259,
      "outputs": [
        {
          "output_type": "display_data",
          "data": {
            "text/plain": [
              "<Figure size 640x480 with 1 Axes>"
            ],
            "image/png": "[encoded data removed]"
          },
          "metadata": {}
        }
      ]
    },
    {
      "cell_type": "code",
      "source": [
        "# Bar Chart of Hypertension and Heart Disease\n",
        "condition_counts = df_diabetes_pd[['hypertension', 'heart_disease']].sum()\n",
        "conditions = condition_counts.index\n",
        "plt.bar(conditions, condition_counts, color=['skyblue', 'lightgreen'])\n",
        "plt.xlabel('Condition')\n",
        "plt.ylabel('Count')\n",
        "plt.title('Hypertension and Heart Disease Counts')\n",
        "plt.show()"
      ],
      "metadata": {
        "id": "fqDF2jgFz5-5",
        "colab": {
          "base_uri": "https://localhost:8080/",
          "height": 472
        },
        "outputId": "55b014d7-ff87-4f8d-da01-a2535ce9225d"
      },
      "execution_count": 260,
      "outputs": [
        {
          "output_type": "display_data",
          "data": {
            "text/plain": [
              "<Figure size 640x480 with 1 Axes>"
            ],
            "image/png": "[encoded data removed]"
          },
          "metadata": {}
        }
      ]
    },
    {
      "cell_type": "code",
      "source": [
        "# Scatter Plot of BMI vs. Age\n",
        "plt.scatter(df_diabetes_pd['age'], df_diabetes_pd['bmi'], color='lightblue', alpha=0.5)\n",
        "plt.xlabel('Age')\n",
        "plt.ylabel('BMI')\n",
        "plt.title('BMI vs. Age')\n",
        "plt.show()"
      ],
      "metadata": {
        "id": "g6f8SzlWz6CD",
        "colab": {
          "base_uri": "https://localhost:8080/",
          "height": 472
        },
        "outputId": "5859737b-2943-4099-8e0d-89161936be83"
      },
      "execution_count": 264,
      "outputs": [
        {
          "output_type": "display_data",
          "data": {
            "text/plain": [
              "<Figure size 640x480 with 1 Axes>"
            ],
            "image/png": "[encoded data removed]"
          },
          "metadata": {}
        }
      ]
    },
    {
      "cell_type": "code",
      "source": [
        "# Boxplot of Blood Glucose Level by Diabetes Status\n",
        "plt.figure(figsize=(8, 6))\n",
        "sns.boxplot(x='diabetes', y='blood_glucose_level', data=df_diabetes_pd, palette='Set2')\n",
        "plt.xlabel('Diabetes Status')\n",
        "plt.ylabel('Blood Glucose Level')\n",
        "plt.title('Blood Glucose Level by Diabetes Status')\n",
        "plt.xticks([0, 1], ['No Diabetes', 'Diabetes'])\n",
        "plt.show()"
      ],
      "metadata": {
        "id": "hOYr8S8O13ps",
        "colab": {
          "base_uri": "https://localhost:8080/",
          "height": 655
        },
        "outputId": "16627cff-f72b-4a6f-9e64-d4606d035b41"
      },
      "execution_count": 261,
      "outputs": [
        {
          "output_type": "stream",
          "name": "stderr",
          "text": [
            "<ipython-input-261-c257e5e2248d>:3: FutureWarning: \n",
            "\n",
            "Passing `palette` without assigning `hue` is deprecated and will be removed in v0.14.0. Assign the `x` variable to `hue` and set `legend=False` for the same effect.\n",
            "\n",
            "  sns.boxplot(x='diabetes', y='blood_glucose_level', data=df_diabetes_pd, palette='Set2')\n"
          ]
        },
        {
          "output_type": "display_data",
          "data": {
            "text/plain": [
              "<Figure size 800x600 with 1 Axes>"
            ],
            "image/png": "[encoded data removed]"
          },
          "metadata": {}
        }
      ]
    },
    {
      "cell_type": "code",
      "source": [],
      "metadata": {
        "id": "TOfTkcJx130H"
      },
      "execution_count": null,
      "outputs": []
    },
    {
      "cell_type": "code",
      "source": [],
      "metadata": {
        "id": "9NxAznruz6G7"
      },
      "execution_count": null,
      "outputs": []
    }
  ]
}